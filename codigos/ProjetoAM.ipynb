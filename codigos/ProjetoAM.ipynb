{
  "cells": [
    {
      "cell_type": "markdown",
      "metadata": {
        "id": "reRDrfFXQatP"
      },
      "source": [
        "# Classificação usando Árvore de Decisão\n"
      ]
    },
    {
      "cell_type": "code",
      "source": [
        "from google.colab import drive\n",
        "drive.mount('/content/drive')"
      ],
      "metadata": {
        "colab": {
          "base_uri": "https://localhost:8080/"
        },
        "id": "__FoJn2R0Yk5",
        "outputId": "3e0c265e-fac4-4216-efd5-c18a3d4df8df"
      },
      "execution_count": 1,
      "outputs": [
        {
          "output_type": "stream",
          "name": "stdout",
          "text": [
            "Mounted at /content/drive\n"
          ]
        }
      ]
    },
    {
      "cell_type": "markdown",
      "source": [
        "## Bibliotecas e referências usadas"
      ],
      "metadata": {
        "id": "pAoTlNu43St0"
      }
    },
    {
      "cell_type": "markdown",
      "metadata": {
        "id": "N4xUaUwWkNZY"
      },
      "source": [
        "- scikit-learn\n",
        "  - sklearn.tree\n",
        "    - [DecisionTreeClassifier](https://scikit-learn.org/stable/modules/generated/sklearn.tree.DecisionTreeClassifier.html)\n",
        "    - [Post pruning decision trees with cost complexity pruning](https://scikit-learn.org/stable/auto_examples/tree/plot_cost_complexity_pruning.html)\n",
        "  - sklearn.model_selection\n",
        "    - train_test_split\n",
        "    - [GridSearchCV](https://scikit-learn.org/stable/modules/generated/sklearn.model_selection.GridSearchCV.html)\n",
        "  - sklearn.metrics\n",
        "    - accuracy_score\n",
        "    - [precision_recall_fscore_support](https://scikit-learn.org/stable/modules/generated/sklearn.metrics.precision_recall_fscore_support.html)\n",
        "    - [classification_report](https://scikit-learn.org/stable/modules/generated/sklearn.metrics.classification_report.html)\n",
        "    - confusion_matrix\n",
        "    - [ConfusionMatrixDisplay](https://scikit-learn.org/stable/modules/generated/sklearn.metrics.ConfusionMatrixDisplay.html)\n",
        "- pandas\n",
        "- numpy\n",
        "- matplotlib"
      ]
    },
    {
      "cell_type": "markdown",
      "metadata": {
        "jp-MarkdownHeadingCollapsed": true,
        "tags": [],
        "id": "yKqdwFEYz1Yl"
      },
      "source": [
        "## Importando dependências"
      ]
    },
    {
      "cell_type": "code",
      "execution_count": 2,
      "metadata": {
        "id": "5f0NgGHiz1Yn"
      },
      "outputs": [],
      "source": [
        "from google.colab import files\n",
        "from matplotlib import pyplot as plt\n",
        "from mpl_toolkits.mplot3d import axes3d\n",
        "from numpy import unique\n",
        "from sklearn import metrics\n",
        "from sklearn import preprocessing\n",
        "from sklearn.decomposition import PCA\n",
        "from sklearn.linear_model import LogisticRegression\n",
        "from sklearn.metrics import accuracy_score, precision_recall_fscore_support, classification_report\n",
        "from sklearn.metrics import ConfusionMatrixDisplay, confusion_matrix\n",
        "from sklearn.model_selection import GridSearchCV\n",
        "from sklearn.neighbors import KNeighborsClassifier\n",
        "from sklearn.tree import DecisionTreeClassifier\n",
        "import io\n",
        "import matplotlib.pyplot as plt\n",
        "import numpy as np\n",
        "import pandas as pd"
      ]
    },
    {
      "cell_type": "markdown",
      "metadata": {
        "id": "lbFqjA2xiNw4"
      },
      "source": [
        "## Importando os datasets"
      ]
    },
    {
      "cell_type": "markdown",
      "metadata": {
        "id": "aX96X1q-idhe"
      },
      "source": [
        "### Dataset de treinamento: avila-tr.txt"
      ]
    },
    {
      "cell_type": "code",
      "execution_count": 3,
      "metadata": {
        "colab": {
          "base_uri": "https://localhost:8080/",
          "height": 322
        },
        "id": "hhMXrOTLTlRV",
        "outputId": "54e3a400-3b65-4703-fa5b-d6f1872b4d11"
      },
      "outputs": [
        {
          "output_type": "execute_result",
          "data": {
            "text/plain": [
              "   intercolumnar distance  upper margin  lower margin  exploitation  \\\n",
              "0                0.266074     -0.165620      0.320980      0.483299   \n",
              "1                0.130292      0.870736     -3.210528      0.062493   \n",
              "2               -0.116585      0.069915      0.068476     -0.783147   \n",
              "3                0.031541      0.297600     -3.210528     -0.583590   \n",
              "4                0.229043      0.807926     -0.052442      0.082634   \n",
              "\n",
              "   row number  modular ratio  interlinear spacing    weight  peak number  \\\n",
              "0    0.172340       0.273364             0.371178  0.929823     0.251173   \n",
              "1    0.261718       1.436060             1.465940  0.636203     0.282354   \n",
              "2    0.261718       0.439463            -0.081827 -0.888236    -0.123005   \n",
              "3   -0.721442      -0.307984             0.710932  1.051693     0.594169   \n",
              "4    0.261718       0.148790             0.635431  0.051062     0.032902   \n",
              "\n",
              "   modular ratio/ interlinear spacing Class  \n",
              "0                            0.159345     A  \n",
              "1                            0.515587     A  \n",
              "2                            0.582939     A  \n",
              "3                           -0.533994     A  \n",
              "4                           -0.086652     F  "
            ],
            "text/html": [
              "\n",
              "  <div id=\"df-936d78ab-8bd8-4c8d-8e5a-1adb7269ba69\">\n",
              "    <div class=\"colab-df-container\">\n",
              "      <div>\n",
              "<style scoped>\n",
              "    .dataframe tbody tr th:only-of-type {\n",
              "        vertical-align: middle;\n",
              "    }\n",
              "\n",
              "    .dataframe tbody tr th {\n",
              "        vertical-align: top;\n",
              "    }\n",
              "\n",
              "    .dataframe thead th {\n",
              "        text-align: right;\n",
              "    }\n",
              "</style>\n",
              "<table border=\"1\" class=\"dataframe\">\n",
              "  <thead>\n",
              "    <tr style=\"text-align: right;\">\n",
              "      <th></th>\n",
              "      <th>intercolumnar distance</th>\n",
              "      <th>upper margin</th>\n",
              "      <th>lower margin</th>\n",
              "      <th>exploitation</th>\n",
              "      <th>row number</th>\n",
              "      <th>modular ratio</th>\n",
              "      <th>interlinear spacing</th>\n",
              "      <th>weight</th>\n",
              "      <th>peak number</th>\n",
              "      <th>modular ratio/ interlinear spacing</th>\n",
              "      <th>Class</th>\n",
              "    </tr>\n",
              "  </thead>\n",
              "  <tbody>\n",
              "    <tr>\n",
              "      <th>0</th>\n",
              "      <td>0.266074</td>\n",
              "      <td>-0.165620</td>\n",
              "      <td>0.320980</td>\n",
              "      <td>0.483299</td>\n",
              "      <td>0.172340</td>\n",
              "      <td>0.273364</td>\n",
              "      <td>0.371178</td>\n",
              "      <td>0.929823</td>\n",
              "      <td>0.251173</td>\n",
              "      <td>0.159345</td>\n",
              "      <td>A</td>\n",
              "    </tr>\n",
              "    <tr>\n",
              "      <th>1</th>\n",
              "      <td>0.130292</td>\n",
              "      <td>0.870736</td>\n",
              "      <td>-3.210528</td>\n",
              "      <td>0.062493</td>\n",
              "      <td>0.261718</td>\n",
              "      <td>1.436060</td>\n",
              "      <td>1.465940</td>\n",
              "      <td>0.636203</td>\n",
              "      <td>0.282354</td>\n",
              "      <td>0.515587</td>\n",
              "      <td>A</td>\n",
              "    </tr>\n",
              "    <tr>\n",
              "      <th>2</th>\n",
              "      <td>-0.116585</td>\n",
              "      <td>0.069915</td>\n",
              "      <td>0.068476</td>\n",
              "      <td>-0.783147</td>\n",
              "      <td>0.261718</td>\n",
              "      <td>0.439463</td>\n",
              "      <td>-0.081827</td>\n",
              "      <td>-0.888236</td>\n",
              "      <td>-0.123005</td>\n",
              "      <td>0.582939</td>\n",
              "      <td>A</td>\n",
              "    </tr>\n",
              "    <tr>\n",
              "      <th>3</th>\n",
              "      <td>0.031541</td>\n",
              "      <td>0.297600</td>\n",
              "      <td>-3.210528</td>\n",
              "      <td>-0.583590</td>\n",
              "      <td>-0.721442</td>\n",
              "      <td>-0.307984</td>\n",
              "      <td>0.710932</td>\n",
              "      <td>1.051693</td>\n",
              "      <td>0.594169</td>\n",
              "      <td>-0.533994</td>\n",
              "      <td>A</td>\n",
              "    </tr>\n",
              "    <tr>\n",
              "      <th>4</th>\n",
              "      <td>0.229043</td>\n",
              "      <td>0.807926</td>\n",
              "      <td>-0.052442</td>\n",
              "      <td>0.082634</td>\n",
              "      <td>0.261718</td>\n",
              "      <td>0.148790</td>\n",
              "      <td>0.635431</td>\n",
              "      <td>0.051062</td>\n",
              "      <td>0.032902</td>\n",
              "      <td>-0.086652</td>\n",
              "      <td>F</td>\n",
              "    </tr>\n",
              "  </tbody>\n",
              "</table>\n",
              "</div>\n",
              "      <button class=\"colab-df-convert\" onclick=\"convertToInteractive('df-936d78ab-8bd8-4c8d-8e5a-1adb7269ba69')\"\n",
              "              title=\"Convert this dataframe to an interactive table.\"\n",
              "              style=\"display:none;\">\n",
              "        \n",
              "  <svg xmlns=\"http://www.w3.org/2000/svg\" height=\"24px\"viewBox=\"0 0 24 24\"\n",
              "       width=\"24px\">\n",
              "    <path d=\"M0 0h24v24H0V0z\" fill=\"none\"/>\n",
              "    <path d=\"M18.56 5.44l.94 2.06.94-2.06 2.06-.94-2.06-.94-.94-2.06-.94 2.06-2.06.94zm-11 1L8.5 8.5l.94-2.06 2.06-.94-2.06-.94L8.5 2.5l-.94 2.06-2.06.94zm10 10l.94 2.06.94-2.06 2.06-.94-2.06-.94-.94-2.06-.94 2.06-2.06.94z\"/><path d=\"M17.41 7.96l-1.37-1.37c-.4-.4-.92-.59-1.43-.59-.52 0-1.04.2-1.43.59L10.3 9.45l-7.72 7.72c-.78.78-.78 2.05 0 2.83L4 21.41c.39.39.9.59 1.41.59.51 0 1.02-.2 1.41-.59l7.78-7.78 2.81-2.81c.8-.78.8-2.07 0-2.86zM5.41 20L4 18.59l7.72-7.72 1.47 1.35L5.41 20z\"/>\n",
              "  </svg>\n",
              "      </button>\n",
              "      \n",
              "  <style>\n",
              "    .colab-df-container {\n",
              "      display:flex;\n",
              "      flex-wrap:wrap;\n",
              "      gap: 12px;\n",
              "    }\n",
              "\n",
              "    .colab-df-convert {\n",
              "      background-color: #E8F0FE;\n",
              "      border: none;\n",
              "      border-radius: 50%;\n",
              "      cursor: pointer;\n",
              "      display: none;\n",
              "      fill: #1967D2;\n",
              "      height: 32px;\n",
              "      padding: 0 0 0 0;\n",
              "      width: 32px;\n",
              "    }\n",
              "\n",
              "    .colab-df-convert:hover {\n",
              "      background-color: #E2EBFA;\n",
              "      box-shadow: 0px 1px 2px rgba(60, 64, 67, 0.3), 0px 1px 3px 1px rgba(60, 64, 67, 0.15);\n",
              "      fill: #174EA6;\n",
              "    }\n",
              "\n",
              "    [theme=dark] .colab-df-convert {\n",
              "      background-color: #3B4455;\n",
              "      fill: #D2E3FC;\n",
              "    }\n",
              "\n",
              "    [theme=dark] .colab-df-convert:hover {\n",
              "      background-color: #434B5C;\n",
              "      box-shadow: 0px 1px 3px 1px rgba(0, 0, 0, 0.15);\n",
              "      filter: drop-shadow(0px 1px 2px rgba(0, 0, 0, 0.3));\n",
              "      fill: #FFFFFF;\n",
              "    }\n",
              "  </style>\n",
              "\n",
              "      <script>\n",
              "        const buttonEl =\n",
              "          document.querySelector('#df-936d78ab-8bd8-4c8d-8e5a-1adb7269ba69 button.colab-df-convert');\n",
              "        buttonEl.style.display =\n",
              "          google.colab.kernel.accessAllowed ? 'block' : 'none';\n",
              "\n",
              "        async function convertToInteractive(key) {\n",
              "          const element = document.querySelector('#df-936d78ab-8bd8-4c8d-8e5a-1adb7269ba69');\n",
              "          const dataTable =\n",
              "            await google.colab.kernel.invokeFunction('convertToInteractive',\n",
              "                                                     [key], {});\n",
              "          if (!dataTable) return;\n",
              "\n",
              "          const docLinkHtml = 'Like what you see? Visit the ' +\n",
              "            '<a target=\"_blank\" href=https://colab.research.google.com/notebooks/data_table.ipynb>data table notebook</a>'\n",
              "            + ' to learn more about interactive tables.';\n",
              "          element.innerHTML = '';\n",
              "          dataTable['output_type'] = 'display_data';\n",
              "          await google.colab.output.renderOutput(dataTable, element);\n",
              "          const docLink = document.createElement('div');\n",
              "          docLink.innerHTML = docLinkHtml;\n",
              "          element.appendChild(docLink);\n",
              "        }\n",
              "      </script>\n",
              "    </div>\n",
              "  </div>\n",
              "  "
            ]
          },
          "metadata": {},
          "execution_count": 3
        }
      ],
      "source": [
        "# labels das features\n",
        "labels = [\"intercolumnar distance\",\"upper margin\",\"lower margin\",\"exploitation\",\"row number\",\"modular ratio\",\"interlinear spacing\",\"weight\",\"peak number\",\"modular ratio/ interlinear spacing\",\"Class\"]\n",
        "# labels das classes\n",
        "classes = [\"A\", \"B\", \"C\", \"D\", \"E\", \"F\", \"G\", \"H\", \"I\", \"W\", \"X\", \"Y\"]\n",
        "\n",
        "path_dataset_train = \"/content/drive/MyDrive/Disciplinas/2022.2/AM-GRAD 2022-2/Projeto AM 2022-2/data/avila-tr.txt\"\n",
        "\n",
        "avila_train = pd.read_csv(path_dataset_train, sep=\",\",header=None,names=labels)\n",
        "avila_train.head()"
      ]
    },
    {
      "cell_type": "markdown",
      "metadata": {
        "id": "gP-DxvknikCM"
      },
      "source": [
        "### Dataset de teste: avila-ts.txt"
      ]
    },
    {
      "cell_type": "code",
      "execution_count": 4,
      "metadata": {
        "colab": {
          "base_uri": "https://localhost:8080/",
          "height": 322
        },
        "id": "CfYvWRqQikCO",
        "outputId": "3a4c5ee9-9193-4848-d26c-0b1ce18dc673"
      },
      "outputs": [
        {
          "output_type": "execute_result",
          "data": {
            "text/plain": [
              "   intercolumnar distance  upper margin  lower margin  exploitation  \\\n",
              "0               -3.498799      0.250492      0.232070      1.224178   \n",
              "1                0.204355     -0.354049      0.320980      0.410166   \n",
              "2                0.759828     -1.304042     -0.023991     -0.973663   \n",
              "3               -0.005490      0.360409      0.281860     -0.213479   \n",
              "4                0.080916      0.101320      0.104040      0.140490   \n",
              "\n",
              "   row number  modular ratio  interlinear spacing    weight  peak number  \\\n",
              "0   -4.922215       1.145386             0.182426 -0.165983    -0.123005   \n",
              "1   -0.989576      -2.218127             0.220177  0.181844     2.090879   \n",
              "2   -0.006417      -0.349509            -0.421580 -0.450127     0.469443   \n",
              "3   -1.168333      -1.013906            -0.346080  1.176165     0.968347   \n",
              "4    0.261718       0.480988             0.710932 -0.253430    -0.497183   \n",
              "\n",
              "   modular ratio/ interlinear spacing Class  \n",
              "0                            1.087144     W  \n",
              "1                           -2.009758     A  \n",
              "2                            0.060952     I  \n",
              "3                           -0.627999     E  \n",
              "4                            0.155681     A  "
            ],
            "text/html": [
              "\n",
              "  <div id=\"df-85a2a3c8-f94e-42d6-bd67-b16f694e2d9f\">\n",
              "    <div class=\"colab-df-container\">\n",
              "      <div>\n",
              "<style scoped>\n",
              "    .dataframe tbody tr th:only-of-type {\n",
              "        vertical-align: middle;\n",
              "    }\n",
              "\n",
              "    .dataframe tbody tr th {\n",
              "        vertical-align: top;\n",
              "    }\n",
              "\n",
              "    .dataframe thead th {\n",
              "        text-align: right;\n",
              "    }\n",
              "</style>\n",
              "<table border=\"1\" class=\"dataframe\">\n",
              "  <thead>\n",
              "    <tr style=\"text-align: right;\">\n",
              "      <th></th>\n",
              "      <th>intercolumnar distance</th>\n",
              "      <th>upper margin</th>\n",
              "      <th>lower margin</th>\n",
              "      <th>exploitation</th>\n",
              "      <th>row number</th>\n",
              "      <th>modular ratio</th>\n",
              "      <th>interlinear spacing</th>\n",
              "      <th>weight</th>\n",
              "      <th>peak number</th>\n",
              "      <th>modular ratio/ interlinear spacing</th>\n",
              "      <th>Class</th>\n",
              "    </tr>\n",
              "  </thead>\n",
              "  <tbody>\n",
              "    <tr>\n",
              "      <th>0</th>\n",
              "      <td>-3.498799</td>\n",
              "      <td>0.250492</td>\n",
              "      <td>0.232070</td>\n",
              "      <td>1.224178</td>\n",
              "      <td>-4.922215</td>\n",
              "      <td>1.145386</td>\n",
              "      <td>0.182426</td>\n",
              "      <td>-0.165983</td>\n",
              "      <td>-0.123005</td>\n",
              "      <td>1.087144</td>\n",
              "      <td>W</td>\n",
              "    </tr>\n",
              "    <tr>\n",
              "      <th>1</th>\n",
              "      <td>0.204355</td>\n",
              "      <td>-0.354049</td>\n",
              "      <td>0.320980</td>\n",
              "      <td>0.410166</td>\n",
              "      <td>-0.989576</td>\n",
              "      <td>-2.218127</td>\n",
              "      <td>0.220177</td>\n",
              "      <td>0.181844</td>\n",
              "      <td>2.090879</td>\n",
              "      <td>-2.009758</td>\n",
              "      <td>A</td>\n",
              "    </tr>\n",
              "    <tr>\n",
              "      <th>2</th>\n",
              "      <td>0.759828</td>\n",
              "      <td>-1.304042</td>\n",
              "      <td>-0.023991</td>\n",
              "      <td>-0.973663</td>\n",
              "      <td>-0.006417</td>\n",
              "      <td>-0.349509</td>\n",
              "      <td>-0.421580</td>\n",
              "      <td>-0.450127</td>\n",
              "      <td>0.469443</td>\n",
              "      <td>0.060952</td>\n",
              "      <td>I</td>\n",
              "    </tr>\n",
              "    <tr>\n",
              "      <th>3</th>\n",
              "      <td>-0.005490</td>\n",
              "      <td>0.360409</td>\n",
              "      <td>0.281860</td>\n",
              "      <td>-0.213479</td>\n",
              "      <td>-1.168333</td>\n",
              "      <td>-1.013906</td>\n",
              "      <td>-0.346080</td>\n",
              "      <td>1.176165</td>\n",
              "      <td>0.968347</td>\n",
              "      <td>-0.627999</td>\n",
              "      <td>E</td>\n",
              "    </tr>\n",
              "    <tr>\n",
              "      <th>4</th>\n",
              "      <td>0.080916</td>\n",
              "      <td>0.101320</td>\n",
              "      <td>0.104040</td>\n",
              "      <td>0.140490</td>\n",
              "      <td>0.261718</td>\n",
              "      <td>0.480988</td>\n",
              "      <td>0.710932</td>\n",
              "      <td>-0.253430</td>\n",
              "      <td>-0.497183</td>\n",
              "      <td>0.155681</td>\n",
              "      <td>A</td>\n",
              "    </tr>\n",
              "  </tbody>\n",
              "</table>\n",
              "</div>\n",
              "      <button class=\"colab-df-convert\" onclick=\"convertToInteractive('df-85a2a3c8-f94e-42d6-bd67-b16f694e2d9f')\"\n",
              "              title=\"Convert this dataframe to an interactive table.\"\n",
              "              style=\"display:none;\">\n",
              "        \n",
              "  <svg xmlns=\"http://www.w3.org/2000/svg\" height=\"24px\"viewBox=\"0 0 24 24\"\n",
              "       width=\"24px\">\n",
              "    <path d=\"M0 0h24v24H0V0z\" fill=\"none\"/>\n",
              "    <path d=\"M18.56 5.44l.94 2.06.94-2.06 2.06-.94-2.06-.94-.94-2.06-.94 2.06-2.06.94zm-11 1L8.5 8.5l.94-2.06 2.06-.94-2.06-.94L8.5 2.5l-.94 2.06-2.06.94zm10 10l.94 2.06.94-2.06 2.06-.94-2.06-.94-.94-2.06-.94 2.06-2.06.94z\"/><path d=\"M17.41 7.96l-1.37-1.37c-.4-.4-.92-.59-1.43-.59-.52 0-1.04.2-1.43.59L10.3 9.45l-7.72 7.72c-.78.78-.78 2.05 0 2.83L4 21.41c.39.39.9.59 1.41.59.51 0 1.02-.2 1.41-.59l7.78-7.78 2.81-2.81c.8-.78.8-2.07 0-2.86zM5.41 20L4 18.59l7.72-7.72 1.47 1.35L5.41 20z\"/>\n",
              "  </svg>\n",
              "      </button>\n",
              "      \n",
              "  <style>\n",
              "    .colab-df-container {\n",
              "      display:flex;\n",
              "      flex-wrap:wrap;\n",
              "      gap: 12px;\n",
              "    }\n",
              "\n",
              "    .colab-df-convert {\n",
              "      background-color: #E8F0FE;\n",
              "      border: none;\n",
              "      border-radius: 50%;\n",
              "      cursor: pointer;\n",
              "      display: none;\n",
              "      fill: #1967D2;\n",
              "      height: 32px;\n",
              "      padding: 0 0 0 0;\n",
              "      width: 32px;\n",
              "    }\n",
              "\n",
              "    .colab-df-convert:hover {\n",
              "      background-color: #E2EBFA;\n",
              "      box-shadow: 0px 1px 2px rgba(60, 64, 67, 0.3), 0px 1px 3px 1px rgba(60, 64, 67, 0.15);\n",
              "      fill: #174EA6;\n",
              "    }\n",
              "\n",
              "    [theme=dark] .colab-df-convert {\n",
              "      background-color: #3B4455;\n",
              "      fill: #D2E3FC;\n",
              "    }\n",
              "\n",
              "    [theme=dark] .colab-df-convert:hover {\n",
              "      background-color: #434B5C;\n",
              "      box-shadow: 0px 1px 3px 1px rgba(0, 0, 0, 0.15);\n",
              "      filter: drop-shadow(0px 1px 2px rgba(0, 0, 0, 0.3));\n",
              "      fill: #FFFFFF;\n",
              "    }\n",
              "  </style>\n",
              "\n",
              "      <script>\n",
              "        const buttonEl =\n",
              "          document.querySelector('#df-85a2a3c8-f94e-42d6-bd67-b16f694e2d9f button.colab-df-convert');\n",
              "        buttonEl.style.display =\n",
              "          google.colab.kernel.accessAllowed ? 'block' : 'none';\n",
              "\n",
              "        async function convertToInteractive(key) {\n",
              "          const element = document.querySelector('#df-85a2a3c8-f94e-42d6-bd67-b16f694e2d9f');\n",
              "          const dataTable =\n",
              "            await google.colab.kernel.invokeFunction('convertToInteractive',\n",
              "                                                     [key], {});\n",
              "          if (!dataTable) return;\n",
              "\n",
              "          const docLinkHtml = 'Like what you see? Visit the ' +\n",
              "            '<a target=\"_blank\" href=https://colab.research.google.com/notebooks/data_table.ipynb>data table notebook</a>'\n",
              "            + ' to learn more about interactive tables.';\n",
              "          element.innerHTML = '';\n",
              "          dataTable['output_type'] = 'display_data';\n",
              "          await google.colab.output.renderOutput(dataTable, element);\n",
              "          const docLink = document.createElement('div');\n",
              "          docLink.innerHTML = docLinkHtml;\n",
              "          element.appendChild(docLink);\n",
              "        }\n",
              "      </script>\n",
              "    </div>\n",
              "  </div>\n",
              "  "
            ]
          },
          "metadata": {},
          "execution_count": 4
        }
      ],
      "source": [
        "path_dataset_test = \"/content/drive/MyDrive/Disciplinas/2022.2/AM-GRAD 2022-2/Projeto AM 2022-2/data/avila-ts.txt\"\n",
        "\n",
        "avila_test = pd.read_csv(path_dataset_test, sep=\",\",header=None,names=labels)\n",
        "avila_test.head()"
      ]
    },
    {
      "cell_type": "markdown",
      "metadata": {
        "id": "DFwG0Pdakmjb"
      },
      "source": [
        "## Setando a seed do gerador de números aleatórios"
      ]
    },
    {
      "cell_type": "markdown",
      "metadata": {
        "id": "iodT6x0WLXDZ"
      },
      "source": [
        "\n",
        "- Dessa forma os resultados obtidos pelo modelo não serão diferentes para diferentes sessões"
      ]
    },
    {
      "cell_type": "code",
      "execution_count": 5,
      "metadata": {
        "id": "L-E1tBnHkM6y"
      },
      "outputs": [],
      "source": [
        "SEED = 32642\n",
        "np.random.seed(SEED)"
      ]
    },
    {
      "cell_type": "markdown",
      "metadata": {
        "id": "_MaHZWQIpHpc"
      },
      "source": [
        "## Dividindo dataset de treinamento e teste em: features e classes"
      ]
    },
    {
      "cell_type": "code",
      "execution_count": 6,
      "metadata": {
        "colab": {
          "base_uri": "https://localhost:8080/"
        },
        "id": "29r6Ue9d5m2_",
        "outputId": "5c820adc-6974-4522-b529-9793a399e61c"
      },
      "outputs": [
        {
          "output_type": "stream",
          "name": "stdout",
          "text": [
            "Dataset de treinamento\n",
            "Tamanho do dataset de features =  (10430, 10)\n",
            "Tamanho do dataset de classes =  (10430,)\n"
          ]
        }
      ],
      "source": [
        "# Features de treinamento\n",
        "X_train = avila_train.drop(['Class'], axis = 1)\n",
        "\n",
        "# Classes de treinamento\n",
        "y_train = avila_train['Class']\n",
        "\n",
        "print(\"Dataset de treinamento\")\n",
        "print(\"Tamanho do dataset de features = \", X_train.shape)\n",
        "print(\"Tamanho do dataset de classes = \", y_train.shape)"
      ]
    },
    {
      "cell_type": "code",
      "execution_count": 7,
      "metadata": {
        "colab": {
          "base_uri": "https://localhost:8080/"
        },
        "id": "MQNq59zoNKrU",
        "outputId": "bfbb1068-6481-4879-937b-b3eded1a2421"
      },
      "outputs": [
        {
          "output_type": "stream",
          "name": "stdout",
          "text": [
            "Dataset de teste\n",
            "Tamanho do dataset de features =  (10437, 10)\n",
            "Tamanho do dataset de classes =  (10437,)\n"
          ]
        }
      ],
      "source": [
        "# Features de teste\n",
        "X_test = avila_test.drop(['Class'], axis = 1)\n",
        "\n",
        "# Classes de teste\n",
        "y_test = avila_test['Class']\n",
        "\n",
        "print(\"Dataset de teste\")\n",
        "print(\"Tamanho do dataset de features = \", X_test.shape)\n",
        "print(\"Tamanho do dataset de classes = \", y_test.shape)"
      ]
    },
    {
      "cell_type": "markdown",
      "metadata": {
        "id": "JMQuMpbCiw7n"
      },
      "source": [
        "## Modelo padrão de árvore de decisão"
      ]
    },
    {
      "cell_type": "markdown",
      "source": [
        "Treinaremos o modelo usando o parâmetro de random_state com o valor da SEED.\n",
        "\n",
        "Após isso, obteremos os resultados preditos do treinamento usando o dataset de teste."
      ],
      "metadata": {
        "id": "KAcLHD-2j5_s"
      }
    },
    {
      "cell_type": "code",
      "execution_count": 8,
      "metadata": {
        "colab": {
          "base_uri": "https://localhost:8080/"
        },
        "id": "AogVDXK3r8Ok",
        "outputId": "962c6255-df71-424d-b525-6c30eac68717"
      },
      "outputs": [
        {
          "output_type": "execute_result",
          "data": {
            "text/plain": [
              "array(['W', 'A', 'A', ..., 'A', 'F', 'H'], dtype=object)"
            ]
          },
          "metadata": {},
          "execution_count": 8
        }
      ],
      "source": [
        "dtc = DecisionTreeClassifier(random_state = SEED)\n",
        "dtc.fit(X_train, y_train)\n",
        "\n",
        "predicted = dtc.predict(X_test)\n",
        "predicted"
      ]
    },
    {
      "cell_type": "markdown",
      "source": [
        "Obtivemos nosso array de predições, agora, vamos analisar quantos desses resultados nosso modelo acertou."
      ],
      "metadata": {
        "id": "osVfJK9Kj1Jg"
      }
    },
    {
      "cell_type": "markdown",
      "metadata": {
        "id": "979BvB1ucKc7"
      },
      "source": [
        "### Análises"
      ]
    },
    {
      "cell_type": "markdown",
      "metadata": {
        "id": "qaeTklwXcSB7"
      },
      "source": [
        "#### Resultados numéricos:"
      ]
    },
    {
      "cell_type": "markdown",
      "metadata": {
        "id": "nbqfiYKIua6U"
      },
      "source": [
        "- Para cada classe:\n",
        "  - Precisão\n",
        "  - Recall\n",
        "  - F1 Score\n",
        "- Acurácia\n",
        "- Médias macro e weighted:\n",
        "  - Precisão\n",
        "  - Recall\n",
        "  - F1 Score"
      ]
    },
    {
      "cell_type": "markdown",
      "source": [
        "Com o classification_report, comparamos o array de elementos preditos com o array dos elementos reais do dataset de teste."
      ],
      "metadata": {
        "id": "rrOC4HYcnqF-"
      }
    },
    {
      "cell_type": "code",
      "execution_count": 9,
      "metadata": {
        "colab": {
          "base_uri": "https://localhost:8080/"
        },
        "id": "l0mC1t8EtUgD",
        "outputId": "5e51706b-6abe-4a88-a7cb-079671d2f286"
      },
      "outputs": [
        {
          "output_type": "stream",
          "name": "stdout",
          "text": [
            "Classification report: \n",
            "              precision    recall  f1-score   support\n",
            "\n",
            "           A     0.9809    0.9800    0.9804      4290\n",
            "           B     1.0000    1.0000    1.0000         5\n",
            "           C     0.9806    0.9528    0.9665       106\n",
            "           D     0.9717    0.9608    0.9662       357\n",
            "           E     0.9443    0.9478    0.9460      1091\n",
            "           F     0.9745    0.9795    0.9770      1952\n",
            "           G     0.9620    0.9685    0.9652       444\n",
            "           H     0.9635    0.9364    0.9498       535\n",
            "           I     0.9832    0.9855    0.9844       830\n",
            "           W     0.9556    0.8431    0.8958        51\n",
            "           X     0.9176    0.9283    0.9229       516\n",
            "           Y     0.9288    0.9538    0.9412       260\n",
            "\n",
            "    accuracy                         0.9694     10437\n",
            "   macro avg     0.9635    0.9530    0.9580     10437\n",
            "weighted avg     0.9695    0.9694    0.9694     10437\n",
            "\n"
          ]
        }
      ],
      "source": [
        "cr = classification_report(predicted, y_test, digits=4)\n",
        "\n",
        "print(f'Classification report: \\n{cr}')"
      ]
    },
    {
      "cell_type": "markdown",
      "source": [
        "Resultados para cada classe:\n",
        "- Percebemos uma boa média geral nos valores do Precision Score, com todas acima de 0.9, ressaltando o resultado perfeito para a classe \"B\", que por possuir somente 5 instâncias tanto no dataset de treino quanto no dataset de teste, acabou garantindo esse resultado.\n",
        "- Para os resultados de Recall Score e F1-Score, os resultados foram semelhantes aos do Precision Score, exceto para a classe \"W\" que obteve resultados abaixo de 0.9, provavelmente, por uma alta quantidade de Falsos Negativos no cálculo.\n",
        "\n",
        "Resultados gerais:\n",
        "- Obtivemos uma acurácia satisfatória de ~0.97.\n",
        "- Também obtivemos médias satisfatórias de Precision = ~0.96, Recall = ~0.95 e F1-Score = ~0.96."
      ],
      "metadata": {
        "id": "46urKShBn86-"
      }
    },
    {
      "cell_type": "markdown",
      "metadata": {
        "id": "n2UlS5D1f90V"
      },
      "source": [
        "#### Matriz de confusão"
      ]
    },
    {
      "cell_type": "code",
      "execution_count": 10,
      "metadata": {
        "colab": {
          "base_uri": "https://localhost:8080/",
          "height": 54
        },
        "id": "UyQZ35cnenvb",
        "outputId": "b04c9625-a65a-46c5-a274-274befa6236d"
      },
      "outputs": [
        {
          "output_type": "display_data",
          "data": {
            "text/plain": [
              "<Figure size 720x504 with 2 Axes>"
            ],
            "image/png": "[encoded data removed]"
          },
          "metadata": {
            "needs_background": "light"
          }
        }
      ],
      "source": [
        "cm = confusion_matrix(y_test, predicted, labels=classes, normalize='true')\n",
        "disp = ConfusionMatrixDisplay(confusion_matrix=cm,\n",
        "                              display_labels=classes)\n",
        "\n",
        "fig, ax = plt.subplots(figsize=(10, 7))\n",
        "disp.plot(ax=ax)\n",
        "\n",
        "plt.show()"
      ]
    },
    {
      "cell_type": "markdown",
      "source": [
        "Pela nossa matriz, percebemos visualmente os resultados obtidos pelo nosso modelo. Todos resultados satisfatórios."
      ],
      "metadata": {
        "id": "P84w7FhGuCYo"
      }
    },
    {
      "cell_type": "markdown",
      "metadata": {
        "id": "wtGU6IhcH_TE"
      },
      "source": [
        "## Otimização do modelo usando GridSearchCV\n"
      ]
    },
    {
      "cell_type": "markdown",
      "metadata": {
        "id": "lVqrnNWwLr1s"
      },
      "source": [
        "Código de referência: https://scikit-learn.org/stable/modules/generated/sklearn.model_selection.GridSearchCV.html"
      ]
    },
    {
      "cell_type": "markdown",
      "source": [
        "Parâmetros que atualizaremos no GridSearchCV para o DecisionTreeClassifier:\n",
        "- criterion: função que mede a qualidade do split dos nós.\n",
        "  - gini: para a Gini impurity;\n",
        "  - log_loss e entropy: ambos para o ganho de informação Shannon.\n",
        "- splitter: estratégia usada para separar cada nó.\n",
        "  - best: escolhe o melhor split;\n",
        "  - random: escolhe o melhor split aleatório.\n",
        "- max_depth: profundidade máxima da árvore.\n",
        "- max_leaf_nodes: quantidade máxima de folhas.\n",
        "  - None: ilimitado.\n",
        "- ccp_alpha: custo de complexidade que permite realizar um método de poda da árvore, o Minimal Cost-Complexity Pruning. A sub-árvore com o maior custo de complexidade que é menor que ccp_alpha será escolhida.\n",
        "  - 0.0: sem poda.\n",
        "- random_state: controla a aleatoriedade do estimador.\n",
        "  - Usaremos a nossa Seed setada previamente.\n",
        "\n",
        "O GridSearchCV também possui integrado um Cross-Validation, através do parâmetro cv.\n",
        "- Usaremos 5 folds para o Cross-Validation do modelo, assim permitindo com que pelo menos um elemento da classe B fique em cada fold."
      ],
      "metadata": {
        "id": "_TBL5jORlYkk"
      }
    },
    {
      "cell_type": "code",
      "execution_count": 11,
      "metadata": {
        "id": "FCr4GXtYIExB"
      },
      "outputs": [],
      "source": [
        "dtc = DecisionTreeClassifier()\n",
        "\n",
        "params = {'criterion':['gini', 'entropy', 'log_loss'], \n",
        "          'splitter':['best','random'],\n",
        "          'max_depth':[None, 2, 5, 10, 15, 20],\n",
        "          'ccp_alpha':[0.0, 0.0000001, 0.00001, 0.001, 0.01, 0.1, 0.5, 0.75],\n",
        "          'random_state': [SEED]}\n",
        "\n",
        "gs_dtc = GridSearchCV(dtc, params, cv=5, refit=True)"
      ]
    },
    {
      "cell_type": "code",
      "execution_count": 12,
      "metadata": {
        "colab": {
          "base_uri": "https://localhost:8080/"
        },
        "id": "ptjNr_DcPQXS",
        "outputId": "2125a3b4-72ff-47d3-be1a-a82cc4be41dc"
      },
      "outputs": [
        {
          "output_type": "execute_result",
          "data": {
            "text/plain": [
              "{'ccp_alpha': 0.0,\n",
              " 'criterion': 'entropy',\n",
              " 'max_depth': None,\n",
              " 'random_state': 32642,\n",
              " 'splitter': 'best'}"
            ]
          },
          "metadata": {},
          "execution_count": 12
        }
      ],
      "source": [
        "gs_dtc.fit(X_train, y_train)\n",
        "gs_dtc.best_params_"
      ]
    },
    {
      "cell_type": "code",
      "execution_count": 13,
      "metadata": {
        "colab": {
          "base_uri": "https://localhost:8080/",
          "height": 75
        },
        "id": "XTDf_t09RPpy",
        "outputId": "14b3ffbb-f8ed-4ebf-9ab8-cf34477a8399"
      },
      "outputs": [
        {
          "output_type": "execute_result",
          "data": {
            "text/plain": [
              "DecisionTreeClassifier(criterion='entropy', random_state=32642)"
            ],
            "text/html": [
              "<style>#sk-container-id-1 {color: black;background-color: white;}#sk-container-id-1 pre{padding: 0;}#sk-container-id-1 div.sk-toggleable {background-color: white;}#sk-container-id-1 label.sk-toggleable__label {cursor: pointer;display: block;width: 100%;margin-bottom: 0;padding: 0.3em;box-sizing: border-box;text-align: center;}#sk-container-id-1 label.sk-toggleable__label-arrow:before {content: \"▸\";float: left;margin-right: 0.25em;color: #696969;}#sk-container-id-1 label.sk-toggleable__label-arrow:hover:before {color: black;}#sk-container-id-1 div.sk-estimator:hover label.sk-toggleable__label-arrow:before {color: black;}#sk-container-id-1 div.sk-toggleable__content {max-height: 0;max-width: 0;overflow: hidden;text-align: left;background-color: #f0f8ff;}#sk-container-id-1 div.sk-toggleable__content pre {margin: 0.2em;color: black;border-radius: 0.25em;background-color: #f0f8ff;}#sk-container-id-1 input.sk-toggleable__control:checked~div.sk-toggleable__content {max-height: 200px;max-width: 100%;overflow: auto;}#sk-container-id-1 input.sk-toggleable__control:checked~label.sk-toggleable__label-arrow:before {content: \"▾\";}#sk-container-id-1 div.sk-estimator input.sk-toggleable__control:checked~label.sk-toggleable__label {background-color: #d4ebff;}#sk-container-id-1 div.sk-label input.sk-toggleable__control:checked~label.sk-toggleable__label {background-color: #d4ebff;}#sk-container-id-1 input.sk-hidden--visually {border: 0;clip: rect(1px 1px 1px 1px);clip: rect(1px, 1px, 1px, 1px);height: 1px;margin: -1px;overflow: hidden;padding: 0;position: absolute;width: 1px;}#sk-container-id-1 div.sk-estimator {font-family: monospace;background-color: #f0f8ff;border: 1px dotted black;border-radius: 0.25em;box-sizing: border-box;margin-bottom: 0.5em;}#sk-container-id-1 div.sk-estimator:hover {background-color: #d4ebff;}#sk-container-id-1 div.sk-parallel-item::after {content: \"\";width: 100%;border-bottom: 1px solid gray;flex-grow: 1;}#sk-container-id-1 div.sk-label:hover label.sk-toggleable__label {background-color: #d4ebff;}#sk-container-id-1 div.sk-serial::before {content: \"\";position: absolute;border-left: 1px solid gray;box-sizing: border-box;top: 0;bottom: 0;left: 50%;z-index: 0;}#sk-container-id-1 div.sk-serial {display: flex;flex-direction: column;align-items: center;background-color: white;padding-right: 0.2em;padding-left: 0.2em;position: relative;}#sk-container-id-1 div.sk-item {position: relative;z-index: 1;}#sk-container-id-1 div.sk-parallel {display: flex;align-items: stretch;justify-content: center;background-color: white;position: relative;}#sk-container-id-1 div.sk-item::before, #sk-container-id-1 div.sk-parallel-item::before {content: \"\";position: absolute;border-left: 1px solid gray;box-sizing: border-box;top: 0;bottom: 0;left: 50%;z-index: -1;}#sk-container-id-1 div.sk-parallel-item {display: flex;flex-direction: column;z-index: 1;position: relative;background-color: white;}#sk-container-id-1 div.sk-parallel-item:first-child::after {align-self: flex-end;width: 50%;}#sk-container-id-1 div.sk-parallel-item:last-child::after {align-self: flex-start;width: 50%;}#sk-container-id-1 div.sk-parallel-item:only-child::after {width: 0;}#sk-container-id-1 div.sk-dashed-wrapped {border: 1px dashed gray;margin: 0 0.4em 0.5em 0.4em;box-sizing: border-box;padding-bottom: 0.4em;background-color: white;}#sk-container-id-1 div.sk-label label {font-family: monospace;font-weight: bold;display: inline-block;line-height: 1.2em;}#sk-container-id-1 div.sk-label-container {text-align: center;}#sk-container-id-1 div.sk-container {/* jupyter's `normalize.less` sets `[hidden] { display: none; }` but bootstrap.min.css set `[hidden] { display: none !important; }` so we also need the `!important` here to be able to override the default hidden behavior on the sphinx rendered scikit-learn.org. See: https://github.com/scikit-learn/scikit-learn/issues/21755 */display: inline-block !important;position: relative;}#sk-container-id-1 div.sk-text-repr-fallback {display: none;}</style><div id=\"sk-container-id-1\" class=\"sk-top-container\"><div class=\"sk-text-repr-fallback\"><pre>DecisionTreeClassifier(criterion=&#x27;entropy&#x27;, random_state=32642)</pre><b>In a Jupyter environment, please rerun this cell to show the HTML representation or trust the notebook. <br />On GitHub, the HTML representation is unable to render, please try loading this page with nbviewer.org.</b></div><div class=\"sk-container\" hidden><div class=\"sk-item\"><div class=\"sk-estimator sk-toggleable\"><input class=\"sk-toggleable__control sk-hidden--visually\" id=\"sk-estimator-id-1\" type=\"checkbox\" checked><label for=\"sk-estimator-id-1\" class=\"sk-toggleable__label sk-toggleable__label-arrow\">DecisionTreeClassifier</label><div class=\"sk-toggleable__content\"><pre>DecisionTreeClassifier(criterion=&#x27;entropy&#x27;, random_state=32642)</pre></div></div></div></div></div>"
            ]
          },
          "metadata": {},
          "execution_count": 13
        }
      ],
      "source": [
        "best_dtc = DecisionTreeClassifier()\n",
        "\n",
        "best_dtc.set_params(**gs_dtc.best_params_)\n",
        "\n",
        "best_dtc.fit(X_train, y_train)"
      ]
    },
    {
      "cell_type": "code",
      "execution_count": 14,
      "metadata": {
        "colab": {
          "base_uri": "https://localhost:8080/"
        },
        "id": "IL2wUxmPRQXG",
        "outputId": "aa8f4b65-d2cc-4730-b105-79d6a975c9ea"
      },
      "outputs": [
        {
          "output_type": "execute_result",
          "data": {
            "text/plain": [
              "array(['W', 'A', 'I', ..., 'A', 'F', 'H'], dtype=object)"
            ]
          },
          "metadata": {},
          "execution_count": 14
        }
      ],
      "source": [
        "best_predicted = best_dtc.predict(X_test)\n",
        "best_predicted"
      ]
    },
    {
      "cell_type": "markdown",
      "metadata": {
        "id": "CeUE658KSjaK"
      },
      "source": [
        "### Análises do melhor modelo do GridSearchCV"
      ]
    },
    {
      "cell_type": "markdown",
      "metadata": {
        "id": "euTv_mZeSjaL"
      },
      "source": [
        "#### Resultados de teste:"
      ]
    },
    {
      "cell_type": "markdown",
      "metadata": {
        "id": "dhMQhHcbSjaM"
      },
      "source": [
        "- Para cada classe:\n",
        "  - Precisão\n",
        "  - Recall\n",
        "  - F1 Score\n",
        "- Acurácia\n",
        "- Médias macro e weighted:\n",
        "  - Precisão\n",
        "  - Recall\n",
        "  - F1 Score"
      ]
    },
    {
      "cell_type": "code",
      "execution_count": 15,
      "metadata": {
        "colab": {
          "base_uri": "https://localhost:8080/"
        },
        "id": "LyV0rkKJSjaM",
        "outputId": "7f5f0a0d-1459-422c-c76c-38afe282fba7"
      },
      "outputs": [
        {
          "output_type": "stream",
          "name": "stdout",
          "text": [
            "Classification report: \n",
            "              precision    recall  f1-score   support\n",
            "\n",
            "           A     0.9944    0.9949    0.9946      4284\n",
            "           B     1.0000    1.0000    1.0000         5\n",
            "           C     0.9806    0.9712    0.9758       104\n",
            "           D     0.9688    0.9942    0.9813       344\n",
            "           E     0.9781    0.9649    0.9714      1110\n",
            "           F     0.9975    0.9924    0.9949      1972\n",
            "           G     0.9508    0.9907    0.9703       429\n",
            "           H     0.9788    0.9770    0.9779       521\n",
            "           I     0.9988    1.0000    0.9994       831\n",
            "           W     1.0000    0.9574    0.9783        47\n",
            "           X     0.9579    0.9470    0.9524       528\n",
            "           Y     0.9700    0.9885    0.9792       262\n",
            "\n",
            "    accuracy                         0.9875     10437\n",
            "   macro avg     0.9813    0.9815    0.9813     10437\n",
            "weighted avg     0.9876    0.9875    0.9875     10437\n",
            "\n"
          ]
        }
      ],
      "source": [
        "cr = classification_report(best_predicted, y_test, digits=4)\n",
        "\n",
        "print(f'Classification report: \\n{cr}')"
      ]
    },
    {
      "cell_type": "markdown",
      "metadata": {
        "id": "ys0fe9QXSjaN"
      },
      "source": [
        "#### Matriz de confusão"
      ]
    },
    {
      "cell_type": "code",
      "execution_count": 16,
      "metadata": {
        "colab": {
          "base_uri": "https://localhost:8080/",
          "height": 446
        },
        "id": "Ng2DfAhDSjaO",
        "outputId": "f46028a5-e6c1-4080-8ca8-5a871244e63f"
      },
      "outputs": [
        {
          "output_type": "display_data",
          "data": {
            "text/plain": [
              "<Figure size 720x504 with 2 Axes>"
            ],
            "image/png": "[encoded data removed]"
          },
          "metadata": {
            "needs_background": "light"
          }
        }
      ],
      "source": [
        "cm = confusion_matrix(y_test, best_predicted, labels=classes, normalize='true')\n",
        "disp = ConfusionMatrixDisplay(confusion_matrix=cm,\n",
        "                              display_labels=classes)\n",
        "\n",
        "fig, ax = plt.subplots(figsize=(10, 7))\n",
        "disp.plot(ax=ax)\n",
        "\n",
        "plt.show()"
      ]
    },
    {
      "cell_type": "markdown",
      "metadata": {
        "id": "Ej8QeSiHjzUt"
      },
      "source": [
        "# Classificação usando Regressão Logística\n"
      ]
    },
    {
      "cell_type": "markdown",
      "metadata": {
        "id": "KpiqsbsEjzUw"
      },
      "source": [
        "## Bibliotecas usadas:\n",
        "- scikit-learn (LogisticRegression)\n",
        "  - https://scikit-learn.org/stable/modules/generated/sklearn.linear_model.LogisticRegression.html\n",
        "- pandas"
      ]
    },
    {
      "cell_type": "markdown",
      "metadata": {
        "id": "tmI1nS7KuktS"
      },
      "source": [
        "O primeiro ponto importante a ser notado é que o problema em questão é de classificação multi-classe. O algoritmo de regressão logística consegue separar um dado entre 2 classes, tal como um problema de sim ou não. Assim, para um problema multi-classe, podemos tratar cada classe como um problema de classificação binária, ou seja, vamos comparar, para cada classe, se um dado pertence a ela ou não. Essa abordagem é conhecida como \"método de um contra todos\". Nessa abordagem, ao trabalharmos com uma classe, essa classe é denotada por 1 e as outras, por 0."
      ]
    },
    {
      "cell_type": "markdown",
      "metadata": {
        "id": "QZLU5ga741-e"
      },
      "source": [
        "## Modelo base"
      ]
    },
    {
      "cell_type": "code",
      "execution_count": null,
      "metadata": {
        "id": "GUmrzlzQ41-f",
        "colab": {
          "base_uri": "https://localhost:8080/",
          "height": 95
        },
        "outputId": "f197020f-4bdf-44e9-da9f-13daf0685bfb"
      },
      "outputs": [
        {
          "output_type": "execute_result",
          "data": {
            "text/plain": [
              "LogisticRegression(max_iter=1000, multi_class='ovr', random_state=32642)"
            ],
            "text/html": [
              "<style>#sk-container-id-5 {color: black;background-color: white;}#sk-container-id-5 pre{padding: 0;}#sk-container-id-5 div.sk-toggleable {background-color: white;}#sk-container-id-5 label.sk-toggleable__label {cursor: pointer;display: block;width: 100%;margin-bottom: 0;padding: 0.3em;box-sizing: border-box;text-align: center;}#sk-container-id-5 label.sk-toggleable__label-arrow:before {content: \"▸\";float: left;margin-right: 0.25em;color: #696969;}#sk-container-id-5 label.sk-toggleable__label-arrow:hover:before {color: black;}#sk-container-id-5 div.sk-estimator:hover label.sk-toggleable__label-arrow:before {color: black;}#sk-container-id-5 div.sk-toggleable__content {max-height: 0;max-width: 0;overflow: hidden;text-align: left;background-color: #f0f8ff;}#sk-container-id-5 div.sk-toggleable__content pre {margin: 0.2em;color: black;border-radius: 0.25em;background-color: #f0f8ff;}#sk-container-id-5 input.sk-toggleable__control:checked~div.sk-toggleable__content {max-height: 200px;max-width: 100%;overflow: auto;}#sk-container-id-5 input.sk-toggleable__control:checked~label.sk-toggleable__label-arrow:before {content: \"▾\";}#sk-container-id-5 div.sk-estimator input.sk-toggleable__control:checked~label.sk-toggleable__label {background-color: #d4ebff;}#sk-container-id-5 div.sk-label input.sk-toggleable__control:checked~label.sk-toggleable__label {background-color: #d4ebff;}#sk-container-id-5 input.sk-hidden--visually {border: 0;clip: rect(1px 1px 1px 1px);clip: rect(1px, 1px, 1px, 1px);height: 1px;margin: -1px;overflow: hidden;padding: 0;position: absolute;width: 1px;}#sk-container-id-5 div.sk-estimator {font-family: monospace;background-color: #f0f8ff;border: 1px dotted black;border-radius: 0.25em;box-sizing: border-box;margin-bottom: 0.5em;}#sk-container-id-5 div.sk-estimator:hover {background-color: #d4ebff;}#sk-container-id-5 div.sk-parallel-item::after {content: \"\";width: 100%;border-bottom: 1px solid gray;flex-grow: 1;}#sk-container-id-5 div.sk-label:hover label.sk-toggleable__label {background-color: #d4ebff;}#sk-container-id-5 div.sk-serial::before {content: \"\";position: absolute;border-left: 1px solid gray;box-sizing: border-box;top: 0;bottom: 0;left: 50%;z-index: 0;}#sk-container-id-5 div.sk-serial {display: flex;flex-direction: column;align-items: center;background-color: white;padding-right: 0.2em;padding-left: 0.2em;position: relative;}#sk-container-id-5 div.sk-item {position: relative;z-index: 1;}#sk-container-id-5 div.sk-parallel {display: flex;align-items: stretch;justify-content: center;background-color: white;position: relative;}#sk-container-id-5 div.sk-item::before, #sk-container-id-5 div.sk-parallel-item::before {content: \"\";position: absolute;border-left: 1px solid gray;box-sizing: border-box;top: 0;bottom: 0;left: 50%;z-index: -1;}#sk-container-id-5 div.sk-parallel-item {display: flex;flex-direction: column;z-index: 1;position: relative;background-color: white;}#sk-container-id-5 div.sk-parallel-item:first-child::after {align-self: flex-end;width: 50%;}#sk-container-id-5 div.sk-parallel-item:last-child::after {align-self: flex-start;width: 50%;}#sk-container-id-5 div.sk-parallel-item:only-child::after {width: 0;}#sk-container-id-5 div.sk-dashed-wrapped {border: 1px dashed gray;margin: 0 0.4em 0.5em 0.4em;box-sizing: border-box;padding-bottom: 0.4em;background-color: white;}#sk-container-id-5 div.sk-label label {font-family: monospace;font-weight: bold;display: inline-block;line-height: 1.2em;}#sk-container-id-5 div.sk-label-container {text-align: center;}#sk-container-id-5 div.sk-container {/* jupyter's `normalize.less` sets `[hidden] { display: none; }` but bootstrap.min.css set `[hidden] { display: none !important; }` so we also need the `!important` here to be able to override the default hidden behavior on the sphinx rendered scikit-learn.org. See: https://github.com/scikit-learn/scikit-learn/issues/21755 */display: inline-block !important;position: relative;}#sk-container-id-5 div.sk-text-repr-fallback {display: none;}</style><div id=\"sk-container-id-5\" class=\"sk-top-container\"><div class=\"sk-text-repr-fallback\"><pre>LogisticRegression(max_iter=1000, multi_class=&#x27;ovr&#x27;, random_state=32642)</pre><b>In a Jupyter environment, please rerun this cell to show the HTML representation or trust the notebook. <br />On GitHub, the HTML representation is unable to render, please try loading this page with nbviewer.org.</b></div><div class=\"sk-container\" hidden><div class=\"sk-item\"><div class=\"sk-estimator sk-toggleable\"><input class=\"sk-toggleable__control sk-hidden--visually\" id=\"sk-estimator-id-7\" type=\"checkbox\" checked><label for=\"sk-estimator-id-7\" class=\"sk-toggleable__label sk-toggleable__label-arrow\">LogisticRegression</label><div class=\"sk-toggleable__content\"><pre>LogisticRegression(max_iter=1000, multi_class=&#x27;ovr&#x27;, random_state=32642)</pre></div></div></div></div></div>"
            ]
          },
          "metadata": {},
          "execution_count": 42
        }
      ],
      "source": [
        "# Setup do modelo\n",
        "model = LogisticRegression(multi_class='ovr', solver='lbfgs', max_iter=1000, random_state=SEED)\n",
        "\n",
        "# Treinamento\n",
        "model.fit(X_train, y_train)"
      ]
    },
    {
      "cell_type": "markdown",
      "metadata": {
        "id": "1hni2C2V41-g"
      },
      "source": [
        "### Teste"
      ]
    },
    {
      "cell_type": "code",
      "execution_count": null,
      "metadata": {
        "colab": {
          "base_uri": "https://localhost:8080/"
        },
        "id": "YS90Tfnw41-g",
        "outputId": "207283e7-9164-4a6e-9950-93530234e2af"
      },
      "outputs": [
        {
          "output_type": "execute_result",
          "data": {
            "text/plain": [
              "0.5309954967902654"
            ]
          },
          "metadata": {},
          "execution_count": 43
        }
      ],
      "source": [
        "model.score(X_test, y_test)"
      ]
    },
    {
      "cell_type": "code",
      "execution_count": null,
      "metadata": {
        "colab": {
          "base_uri": "https://localhost:8080/"
        },
        "id": "rCLSNqxo41-g",
        "outputId": "8077eaa6-9520-474b-c9ea-755e3fca3a78"
      },
      "outputs": [
        {
          "output_type": "stream",
          "name": "stdout",
          "text": [
            "              precision    recall  f1-score   support\n",
            "\n",
            "           A       0.50      0.97      0.66      4286\n",
            "           B       1.00      1.00      1.00         5\n",
            "           C       0.00      0.00      0.00       103\n",
            "           D       0.00      0.00      0.00       353\n",
            "           E       0.40      0.07      0.12      1095\n",
            "           F       0.19      0.03      0.05      1962\n",
            "           G       0.00      0.00      0.00       447\n",
            "           H       0.47      0.08      0.13       520\n",
            "           I       0.82      0.88      0.85       832\n",
            "           W       0.00      0.00      0.00        45\n",
            "           X       0.82      0.67      0.74       522\n",
            "           Y       0.74      0.47      0.58       267\n",
            "\n",
            "    accuracy                           0.53     10437\n",
            "   macro avg       0.41      0.35      0.34     10437\n",
            "weighted avg       0.43      0.53      0.42     10437\n",
            "\n"
          ]
        },
        {
          "output_type": "stream",
          "name": "stderr",
          "text": [
            "/usr/local/lib/python3.8/dist-packages/sklearn/metrics/_classification.py:1344: UndefinedMetricWarning: Precision and F-score are ill-defined and being set to 0.0 in labels with no predicted samples. Use `zero_division` parameter to control this behavior.\n",
            "  _warn_prf(average, modifier, msg_start, len(result))\n",
            "/usr/local/lib/python3.8/dist-packages/sklearn/metrics/_classification.py:1344: UndefinedMetricWarning: Precision and F-score are ill-defined and being set to 0.0 in labels with no predicted samples. Use `zero_division` parameter to control this behavior.\n",
            "  _warn_prf(average, modifier, msg_start, len(result))\n",
            "/usr/local/lib/python3.8/dist-packages/sklearn/metrics/_classification.py:1344: UndefinedMetricWarning: Precision and F-score are ill-defined and being set to 0.0 in labels with no predicted samples. Use `zero_division` parameter to control this behavior.\n",
            "  _warn_prf(average, modifier, msg_start, len(result))\n"
          ]
        }
      ],
      "source": [
        "y_pred = model.predict(X_test)\n",
        "print(metrics.classification_report(y_test, y_pred))"
      ]
    },
    {
      "cell_type": "code",
      "execution_count": null,
      "metadata": {
        "colab": {
          "base_uri": "https://localhost:8080/",
          "height": 54
        },
        "id": "FlTcOdZf41-g",
        "outputId": "97ee879f-5ba1-4d68-fb8c-4e2ea4634b81"
      },
      "outputs": [
        {
          "output_type": "display_data",
          "data": {
            "text/plain": [
              "<Figure size 720x720 with 2 Axes>"
            ],
            "image/png": "[encoded data removed]"
          },
          "metadata": {
            "needs_background": "light"
          }
        }
      ],
      "source": [
        "fig,ax = plt.subplots(figsize=(10,10))\n",
        "ax.set_title(\"Matriz de confusão\")\n",
        "conf_mat = metrics.confusion_matrix(y_test, y_pred)\n",
        "disp = metrics.ConfusionMatrixDisplay(confusion_matrix=conf_mat, display_labels=classes)\n",
        "disp.plot(ax=ax)\n",
        "plt.show()"
      ]
    },
    {
      "cell_type": "markdown",
      "metadata": {
        "id": "fJbbe14j41-h"
      },
      "source": [
        "### Conclusão"
      ]
    },
    {
      "cell_type": "markdown",
      "metadata": {
        "id": "7wqEOQRU41-h"
      },
      "source": [
        "Não tivemos uma boa acurácia. Para buscar os melhores parâmetros, vamos usar um grid search com cross validation."
      ]
    },
    {
      "cell_type": "markdown",
      "metadata": {
        "id": "FTyT7iAq5z0z"
      },
      "source": [
        "O modelo de regressão logística não é adequado para o teste nesse dataset. Isso acontece por alguns motivos, dentre os quais estão o desbalanceamento do dataset e a proximidade dos exemplos do dataset. Levando em conta esses 2 fatores, pode-se inferir que modelos que possuam uma avaliação discreta das features, tal como a árvore de decisão, devem performar melhor que a regressão logística, a qual utiliza os valores das features para calcular um valor entre 0 e 1 e também utiliza um threshold para realizar a classificação."
      ]
    },
    {
      "cell_type": "markdown",
      "metadata": {
        "id": "hqHD5PGBDd9U"
      },
      "source": [
        "## Grid search"
      ]
    },
    {
      "cell_type": "code",
      "execution_count": null,
      "metadata": {
        "colab": {
          "base_uri": "https://localhost:8080/",
          "height": 172
        },
        "id": "-1v8yWDGDd9U",
        "outputId": "69ba428f-3ff5-4100-ed09-9dc556e9d72a"
      },
      "outputs": [
        {
          "output_type": "execute_result",
          "data": {
            "text/plain": [
              "GridSearchCV(cv=5,\n",
              "             estimator=LogisticRegression(max_iter=1000, random_state=32642),\n",
              "             n_jobs=-1,\n",
              "             param_grid={'multi_class': ['ovr', 'multinomial'],\n",
              "                         'solver': ['lbfgs', 'newton-cg', 'sag', 'saga']},\n",
              "             refit=False,\n",
              "             scoring=['precision_macro', 'recall_macro', 'f1_macro'])"
            ],
            "text/html": [
              "<style>#sk-container-id-6 {color: black;background-color: white;}#sk-container-id-6 pre{padding: 0;}#sk-container-id-6 div.sk-toggleable {background-color: white;}#sk-container-id-6 label.sk-toggleable__label {cursor: pointer;display: block;width: 100%;margin-bottom: 0;padding: 0.3em;box-sizing: border-box;text-align: center;}#sk-container-id-6 label.sk-toggleable__label-arrow:before {content: \"▸\";float: left;margin-right: 0.25em;color: #696969;}#sk-container-id-6 label.sk-toggleable__label-arrow:hover:before {color: black;}#sk-container-id-6 div.sk-estimator:hover label.sk-toggleable__label-arrow:before {color: black;}#sk-container-id-6 div.sk-toggleable__content {max-height: 0;max-width: 0;overflow: hidden;text-align: left;background-color: #f0f8ff;}#sk-container-id-6 div.sk-toggleable__content pre {margin: 0.2em;color: black;border-radius: 0.25em;background-color: #f0f8ff;}#sk-container-id-6 input.sk-toggleable__control:checked~div.sk-toggleable__content {max-height: 200px;max-width: 100%;overflow: auto;}#sk-container-id-6 input.sk-toggleable__control:checked~label.sk-toggleable__label-arrow:before {content: \"▾\";}#sk-container-id-6 div.sk-estimator input.sk-toggleable__control:checked~label.sk-toggleable__label {background-color: #d4ebff;}#sk-container-id-6 div.sk-label input.sk-toggleable__control:checked~label.sk-toggleable__label {background-color: #d4ebff;}#sk-container-id-6 input.sk-hidden--visually {border: 0;clip: rect(1px 1px 1px 1px);clip: rect(1px, 1px, 1px, 1px);height: 1px;margin: -1px;overflow: hidden;padding: 0;position: absolute;width: 1px;}#sk-container-id-6 div.sk-estimator {font-family: monospace;background-color: #f0f8ff;border: 1px dotted black;border-radius: 0.25em;box-sizing: border-box;margin-bottom: 0.5em;}#sk-container-id-6 div.sk-estimator:hover {background-color: #d4ebff;}#sk-container-id-6 div.sk-parallel-item::after {content: \"\";width: 100%;border-bottom: 1px solid gray;flex-grow: 1;}#sk-container-id-6 div.sk-label:hover label.sk-toggleable__label {background-color: #d4ebff;}#sk-container-id-6 div.sk-serial::before {content: \"\";position: absolute;border-left: 1px solid gray;box-sizing: border-box;top: 0;bottom: 0;left: 50%;z-index: 0;}#sk-container-id-6 div.sk-serial {display: flex;flex-direction: column;align-items: center;background-color: white;padding-right: 0.2em;padding-left: 0.2em;position: relative;}#sk-container-id-6 div.sk-item {position: relative;z-index: 1;}#sk-container-id-6 div.sk-parallel {display: flex;align-items: stretch;justify-content: center;background-color: white;position: relative;}#sk-container-id-6 div.sk-item::before, #sk-container-id-6 div.sk-parallel-item::before {content: \"\";position: absolute;border-left: 1px solid gray;box-sizing: border-box;top: 0;bottom: 0;left: 50%;z-index: -1;}#sk-container-id-6 div.sk-parallel-item {display: flex;flex-direction: column;z-index: 1;position: relative;background-color: white;}#sk-container-id-6 div.sk-parallel-item:first-child::after {align-self: flex-end;width: 50%;}#sk-container-id-6 div.sk-parallel-item:last-child::after {align-self: flex-start;width: 50%;}#sk-container-id-6 div.sk-parallel-item:only-child::after {width: 0;}#sk-container-id-6 div.sk-dashed-wrapped {border: 1px dashed gray;margin: 0 0.4em 0.5em 0.4em;box-sizing: border-box;padding-bottom: 0.4em;background-color: white;}#sk-container-id-6 div.sk-label label {font-family: monospace;font-weight: bold;display: inline-block;line-height: 1.2em;}#sk-container-id-6 div.sk-label-container {text-align: center;}#sk-container-id-6 div.sk-container {/* jupyter's `normalize.less` sets `[hidden] { display: none; }` but bootstrap.min.css set `[hidden] { display: none !important; }` so we also need the `!important` here to be able to override the default hidden behavior on the sphinx rendered scikit-learn.org. See: https://github.com/scikit-learn/scikit-learn/issues/21755 */display: inline-block !important;position: relative;}#sk-container-id-6 div.sk-text-repr-fallback {display: none;}</style><div id=\"sk-container-id-6\" class=\"sk-top-container\"><div class=\"sk-text-repr-fallback\"><pre>GridSearchCV(cv=5,\n",
              "             estimator=LogisticRegression(max_iter=1000, random_state=32642),\n",
              "             n_jobs=-1,\n",
              "             param_grid={&#x27;multi_class&#x27;: [&#x27;ovr&#x27;, &#x27;multinomial&#x27;],\n",
              "                         &#x27;solver&#x27;: [&#x27;lbfgs&#x27;, &#x27;newton-cg&#x27;, &#x27;sag&#x27;, &#x27;saga&#x27;]},\n",
              "             refit=False,\n",
              "             scoring=[&#x27;precision_macro&#x27;, &#x27;recall_macro&#x27;, &#x27;f1_macro&#x27;])</pre><b>In a Jupyter environment, please rerun this cell to show the HTML representation or trust the notebook. <br />On GitHub, the HTML representation is unable to render, please try loading this page with nbviewer.org.</b></div><div class=\"sk-container\" hidden><div class=\"sk-item sk-dashed-wrapped\"><div class=\"sk-label-container\"><div class=\"sk-label sk-toggleable\"><input class=\"sk-toggleable__control sk-hidden--visually\" id=\"sk-estimator-id-8\" type=\"checkbox\" ><label for=\"sk-estimator-id-8\" class=\"sk-toggleable__label sk-toggleable__label-arrow\">GridSearchCV</label><div class=\"sk-toggleable__content\"><pre>GridSearchCV(cv=5,\n",
              "             estimator=LogisticRegression(max_iter=1000, random_state=32642),\n",
              "             n_jobs=-1,\n",
              "             param_grid={&#x27;multi_class&#x27;: [&#x27;ovr&#x27;, &#x27;multinomial&#x27;],\n",
              "                         &#x27;solver&#x27;: [&#x27;lbfgs&#x27;, &#x27;newton-cg&#x27;, &#x27;sag&#x27;, &#x27;saga&#x27;]},\n",
              "             refit=False,\n",
              "             scoring=[&#x27;precision_macro&#x27;, &#x27;recall_macro&#x27;, &#x27;f1_macro&#x27;])</pre></div></div></div><div class=\"sk-parallel\"><div class=\"sk-parallel-item\"><div class=\"sk-item\"><div class=\"sk-label-container\"><div class=\"sk-label sk-toggleable\"><input class=\"sk-toggleable__control sk-hidden--visually\" id=\"sk-estimator-id-9\" type=\"checkbox\" ><label for=\"sk-estimator-id-9\" class=\"sk-toggleable__label sk-toggleable__label-arrow\">estimator: LogisticRegression</label><div class=\"sk-toggleable__content\"><pre>LogisticRegression(max_iter=1000, random_state=32642)</pre></div></div></div><div class=\"sk-serial\"><div class=\"sk-item\"><div class=\"sk-estimator sk-toggleable\"><input class=\"sk-toggleable__control sk-hidden--visually\" id=\"sk-estimator-id-10\" type=\"checkbox\" ><label for=\"sk-estimator-id-10\" class=\"sk-toggleable__label sk-toggleable__label-arrow\">LogisticRegression</label><div class=\"sk-toggleable__content\"><pre>LogisticRegression(max_iter=1000, random_state=32642)</pre></div></div></div></div></div></div></div></div></div></div>"
            ]
          },
          "metadata": {},
          "execution_count": 46
        }
      ],
      "source": [
        "parameters = {'multi_class': [\"ovr\", \"multinomial\"], 'solver': ['lbfgs', 'newton-cg', 'sag', 'saga']}\n",
        "log_reg = LogisticRegression(max_iter=1000, random_state=SEED)\n",
        "log_reg_cv = GridSearchCV(estimator=log_reg, param_grid=parameters, cv=5, n_jobs=-1, scoring=['precision_macro','recall_macro','f1_macro'], refit=False)\n",
        "log_reg_cv.fit(X_train, y_train)"
      ]
    },
    {
      "cell_type": "code",
      "execution_count": null,
      "metadata": {
        "colab": {
          "base_uri": "https://localhost:8080/",
          "height": 461
        },
        "id": "9Igrsc17Kv3W",
        "outputId": "2ad6e517-b634-4ba7-b6cb-6cc5d22601ab"
      },
      "outputs": [
        {
          "output_type": "execute_result",
          "data": {
            "text/plain": [
              "   mean_test_f1_macro  mean_test_recall_macro  mean_test_precision_macro  \\\n",
              "0            0.337121                0.345924                   0.403675   \n",
              "1            0.337121                0.345924                   0.403675   \n",
              "2            0.263750                0.266564                   0.343546   \n",
              "3            0.247812                0.253806                   0.334808   \n",
              "4            0.398664                0.398872                   0.464567   \n",
              "\n",
              "                                              params  \n",
              "0          {'multi_class': 'ovr', 'solver': 'lbfgs'}  \n",
              "1      {'multi_class': 'ovr', 'solver': 'newton-cg'}  \n",
              "2            {'multi_class': 'ovr', 'solver': 'sag'}  \n",
              "3           {'multi_class': 'ovr', 'solver': 'saga'}  \n",
              "4  {'multi_class': 'multinomial', 'solver': 'lbfgs'}  "
            ],
            "text/html": [
              "\n",
              "  <div id=\"df-3584133f-1923-4f6d-a94f-090572e824d7\">\n",
              "    <div class=\"colab-df-container\">\n",
              "      <div>\n",
              "<style scoped>\n",
              "    .dataframe tbody tr th:only-of-type {\n",
              "        vertical-align: middle;\n",
              "    }\n",
              "\n",
              "    .dataframe tbody tr th {\n",
              "        vertical-align: top;\n",
              "    }\n",
              "\n",
              "    .dataframe thead th {\n",
              "        text-align: right;\n",
              "    }\n",
              "</style>\n",
              "<table border=\"1\" class=\"dataframe\">\n",
              "  <thead>\n",
              "    <tr style=\"text-align: right;\">\n",
              "      <th></th>\n",
              "      <th>mean_test_f1_macro</th>\n",
              "      <th>mean_test_recall_macro</th>\n",
              "      <th>mean_test_precision_macro</th>\n",
              "      <th>params</th>\n",
              "    </tr>\n",
              "  </thead>\n",
              "  <tbody>\n",
              "    <tr>\n",
              "      <th>0</th>\n",
              "      <td>0.337121</td>\n",
              "      <td>0.345924</td>\n",
              "      <td>0.403675</td>\n",
              "      <td>{'multi_class': 'ovr', 'solver': 'lbfgs'}</td>\n",
              "    </tr>\n",
              "    <tr>\n",
              "      <th>1</th>\n",
              "      <td>0.337121</td>\n",
              "      <td>0.345924</td>\n",
              "      <td>0.403675</td>\n",
              "      <td>{'multi_class': 'ovr', 'solver': 'newton-cg'}</td>\n",
              "    </tr>\n",
              "    <tr>\n",
              "      <th>2</th>\n",
              "      <td>0.263750</td>\n",
              "      <td>0.266564</td>\n",
              "      <td>0.343546</td>\n",
              "      <td>{'multi_class': 'ovr', 'solver': 'sag'}</td>\n",
              "    </tr>\n",
              "    <tr>\n",
              "      <th>3</th>\n",
              "      <td>0.247812</td>\n",
              "      <td>0.253806</td>\n",
              "      <td>0.334808</td>\n",
              "      <td>{'multi_class': 'ovr', 'solver': 'saga'}</td>\n",
              "    </tr>\n",
              "    <tr>\n",
              "      <th>4</th>\n",
              "      <td>0.398664</td>\n",
              "      <td>0.398872</td>\n",
              "      <td>0.464567</td>\n",
              "      <td>{'multi_class': 'multinomial', 'solver': 'lbfgs'}</td>\n",
              "    </tr>\n",
              "  </tbody>\n",
              "</table>\n",
              "</div>\n",
              "      <button class=\"colab-df-convert\" onclick=\"convertToInteractive('df-3584133f-1923-4f6d-a94f-090572e824d7')\"\n",
              "              title=\"Convert this dataframe to an interactive table.\"\n",
              "              style=\"display:none;\">\n",
              "        \n",
              "  <svg xmlns=\"http://www.w3.org/2000/svg\" height=\"24px\"viewBox=\"0 0 24 24\"\n",
              "       width=\"24px\">\n",
              "    <path d=\"M0 0h24v24H0V0z\" fill=\"none\"/>\n",
              "    <path d=\"M18.56 5.44l.94 2.06.94-2.06 2.06-.94-2.06-.94-.94-2.06-.94 2.06-2.06.94zm-11 1L8.5 8.5l.94-2.06 2.06-.94-2.06-.94L8.5 2.5l-.94 2.06-2.06.94zm10 10l.94 2.06.94-2.06 2.06-.94-2.06-.94-.94-2.06-.94 2.06-2.06.94z\"/><path d=\"M17.41 7.96l-1.37-1.37c-.4-.4-.92-.59-1.43-.59-.52 0-1.04.2-1.43.59L10.3 9.45l-7.72 7.72c-.78.78-.78 2.05 0 2.83L4 21.41c.39.39.9.59 1.41.59.51 0 1.02-.2 1.41-.59l7.78-7.78 2.81-2.81c.8-.78.8-2.07 0-2.86zM5.41 20L4 18.59l7.72-7.72 1.47 1.35L5.41 20z\"/>\n",
              "  </svg>\n",
              "      </button>\n",
              "      \n",
              "  <style>\n",
              "    .colab-df-container {\n",
              "      display:flex;\n",
              "      flex-wrap:wrap;\n",
              "      gap: 12px;\n",
              "    }\n",
              "\n",
              "    .colab-df-convert {\n",
              "      background-color: #E8F0FE;\n",
              "      border: none;\n",
              "      border-radius: 50%;\n",
              "      cursor: pointer;\n",
              "      display: none;\n",
              "      fill: #1967D2;\n",
              "      height: 32px;\n",
              "      padding: 0 0 0 0;\n",
              "      width: 32px;\n",
              "    }\n",
              "\n",
              "    .colab-df-convert:hover {\n",
              "      background-color: #E2EBFA;\n",
              "      box-shadow: 0px 1px 2px rgba(60, 64, 67, 0.3), 0px 1px 3px 1px rgba(60, 64, 67, 0.15);\n",
              "      fill: #174EA6;\n",
              "    }\n",
              "\n",
              "    [theme=dark] .colab-df-convert {\n",
              "      background-color: #3B4455;\n",
              "      fill: #D2E3FC;\n",
              "    }\n",
              "\n",
              "    [theme=dark] .colab-df-convert:hover {\n",
              "      background-color: #434B5C;\n",
              "      box-shadow: 0px 1px 3px 1px rgba(0, 0, 0, 0.15);\n",
              "      filter: drop-shadow(0px 1px 2px rgba(0, 0, 0, 0.3));\n",
              "      fill: #FFFFFF;\n",
              "    }\n",
              "  </style>\n",
              "\n",
              "      <script>\n",
              "        const buttonEl =\n",
              "          document.querySelector('#df-3584133f-1923-4f6d-a94f-090572e824d7 button.colab-df-convert');\n",
              "        buttonEl.style.display =\n",
              "          google.colab.kernel.accessAllowed ? 'block' : 'none';\n",
              "\n",
              "        async function convertToInteractive(key) {\n",
              "          const element = document.querySelector('#df-3584133f-1923-4f6d-a94f-090572e824d7');\n",
              "          const dataTable =\n",
              "            await google.colab.kernel.invokeFunction('convertToInteractive',\n",
              "                                                     [key], {});\n",
              "          if (!dataTable) return;\n",
              "\n",
              "          const docLinkHtml = 'Like what you see? Visit the ' +\n",
              "            '<a target=\"_blank\" href=https://colab.research.google.com/notebooks/data_table.ipynb>data table notebook</a>'\n",
              "            + ' to learn more about interactive tables.';\n",
              "          element.innerHTML = '';\n",
              "          dataTable['output_type'] = 'display_data';\n",
              "          await google.colab.output.renderOutput(dataTable, element);\n",
              "          const docLink = document.createElement('div');\n",
              "          docLink.innerHTML = docLinkHtml;\n",
              "          element.appendChild(docLink);\n",
              "        }\n",
              "      </script>\n",
              "    </div>\n",
              "  </div>\n",
              "  "
            ]
          },
          "metadata": {},
          "execution_count": 47
        }
      ],
      "source": [
        "results_df = pd.DataFrame(log_reg_cv.cv_results_)\n",
        "results_df[['mean_test_f1_macro','mean_test_recall_macro','mean_test_precision_macro', 'params']].head()"
      ]
    },
    {
      "cell_type": "markdown",
      "metadata": {
        "id": "VnAtT9qaTP5u"
      },
      "source": [
        "Analisando a tabela, é possível identificar que os melhores parâmetros são \"multinomial\" para \"multi_class\" e \"lbfgs\" para \"solver. Vamos treinar um modelo base utilizando-os."
      ]
    },
    {
      "cell_type": "markdown",
      "metadata": {
        "id": "C4QaKcUkZAMK"
      },
      "source": [
        "## Modelo com melhores parâmetros"
      ]
    },
    {
      "cell_type": "markdown",
      "metadata": {
        "id": "MSNCcxsIZB66"
      },
      "source": [
        "Utilizando os melhores parâmetros testados pelo grid search, temos \"multi_class\" como \"multinomial\", o que significa que o algoritmo de treinamento usará \"cross-entropy loss\", e o parâmetro \"solver\" como \"lbfgs\"."
      ]
    },
    {
      "cell_type": "code",
      "execution_count": null,
      "metadata": {
        "id": "woc0oXNZHlud",
        "colab": {
          "base_uri": "https://localhost:8080/",
          "height": 95
        },
        "outputId": "09cee354-5261-4abf-9313-207bb64d4dfb"
      },
      "outputs": [
        {
          "output_type": "execute_result",
          "data": {
            "text/plain": [
              "LogisticRegression(max_iter=1000, multi_class='multinomial', random_state=32642)"
            ],
            "text/html": [
              "<style>#sk-container-id-7 {color: black;background-color: white;}#sk-container-id-7 pre{padding: 0;}#sk-container-id-7 div.sk-toggleable {background-color: white;}#sk-container-id-7 label.sk-toggleable__label {cursor: pointer;display: block;width: 100%;margin-bottom: 0;padding: 0.3em;box-sizing: border-box;text-align: center;}#sk-container-id-7 label.sk-toggleable__label-arrow:before {content: \"▸\";float: left;margin-right: 0.25em;color: #696969;}#sk-container-id-7 label.sk-toggleable__label-arrow:hover:before {color: black;}#sk-container-id-7 div.sk-estimator:hover label.sk-toggleable__label-arrow:before {color: black;}#sk-container-id-7 div.sk-toggleable__content {max-height: 0;max-width: 0;overflow: hidden;text-align: left;background-color: #f0f8ff;}#sk-container-id-7 div.sk-toggleable__content pre {margin: 0.2em;color: black;border-radius: 0.25em;background-color: #f0f8ff;}#sk-container-id-7 input.sk-toggleable__control:checked~div.sk-toggleable__content {max-height: 200px;max-width: 100%;overflow: auto;}#sk-container-id-7 input.sk-toggleable__control:checked~label.sk-toggleable__label-arrow:before {content: \"▾\";}#sk-container-id-7 div.sk-estimator input.sk-toggleable__control:checked~label.sk-toggleable__label {background-color: #d4ebff;}#sk-container-id-7 div.sk-label input.sk-toggleable__control:checked~label.sk-toggleable__label {background-color: #d4ebff;}#sk-container-id-7 input.sk-hidden--visually {border: 0;clip: rect(1px 1px 1px 1px);clip: rect(1px, 1px, 1px, 1px);height: 1px;margin: -1px;overflow: hidden;padding: 0;position: absolute;width: 1px;}#sk-container-id-7 div.sk-estimator {font-family: monospace;background-color: #f0f8ff;border: 1px dotted black;border-radius: 0.25em;box-sizing: border-box;margin-bottom: 0.5em;}#sk-container-id-7 div.sk-estimator:hover {background-color: #d4ebff;}#sk-container-id-7 div.sk-parallel-item::after {content: \"\";width: 100%;border-bottom: 1px solid gray;flex-grow: 1;}#sk-container-id-7 div.sk-label:hover label.sk-toggleable__label {background-color: #d4ebff;}#sk-container-id-7 div.sk-serial::before {content: \"\";position: absolute;border-left: 1px solid gray;box-sizing: border-box;top: 0;bottom: 0;left: 50%;z-index: 0;}#sk-container-id-7 div.sk-serial {display: flex;flex-direction: column;align-items: center;background-color: white;padding-right: 0.2em;padding-left: 0.2em;position: relative;}#sk-container-id-7 div.sk-item {position: relative;z-index: 1;}#sk-container-id-7 div.sk-parallel {display: flex;align-items: stretch;justify-content: center;background-color: white;position: relative;}#sk-container-id-7 div.sk-item::before, #sk-container-id-7 div.sk-parallel-item::before {content: \"\";position: absolute;border-left: 1px solid gray;box-sizing: border-box;top: 0;bottom: 0;left: 50%;z-index: -1;}#sk-container-id-7 div.sk-parallel-item {display: flex;flex-direction: column;z-index: 1;position: relative;background-color: white;}#sk-container-id-7 div.sk-parallel-item:first-child::after {align-self: flex-end;width: 50%;}#sk-container-id-7 div.sk-parallel-item:last-child::after {align-self: flex-start;width: 50%;}#sk-container-id-7 div.sk-parallel-item:only-child::after {width: 0;}#sk-container-id-7 div.sk-dashed-wrapped {border: 1px dashed gray;margin: 0 0.4em 0.5em 0.4em;box-sizing: border-box;padding-bottom: 0.4em;background-color: white;}#sk-container-id-7 div.sk-label label {font-family: monospace;font-weight: bold;display: inline-block;line-height: 1.2em;}#sk-container-id-7 div.sk-label-container {text-align: center;}#sk-container-id-7 div.sk-container {/* jupyter's `normalize.less` sets `[hidden] { display: none; }` but bootstrap.min.css set `[hidden] { display: none !important; }` so we also need the `!important` here to be able to override the default hidden behavior on the sphinx rendered scikit-learn.org. See: https://github.com/scikit-learn/scikit-learn/issues/21755 */display: inline-block !important;position: relative;}#sk-container-id-7 div.sk-text-repr-fallback {display: none;}</style><div id=\"sk-container-id-7\" class=\"sk-top-container\"><div class=\"sk-text-repr-fallback\"><pre>LogisticRegression(max_iter=1000, multi_class=&#x27;multinomial&#x27;, random_state=32642)</pre><b>In a Jupyter environment, please rerun this cell to show the HTML representation or trust the notebook. <br />On GitHub, the HTML representation is unable to render, please try loading this page with nbviewer.org.</b></div><div class=\"sk-container\" hidden><div class=\"sk-item\"><div class=\"sk-estimator sk-toggleable\"><input class=\"sk-toggleable__control sk-hidden--visually\" id=\"sk-estimator-id-11\" type=\"checkbox\" checked><label for=\"sk-estimator-id-11\" class=\"sk-toggleable__label sk-toggleable__label-arrow\">LogisticRegression</label><div class=\"sk-toggleable__content\"><pre>LogisticRegression(max_iter=1000, multi_class=&#x27;multinomial&#x27;, random_state=32642)</pre></div></div></div></div></div>"
            ]
          },
          "metadata": {},
          "execution_count": 48
        }
      ],
      "source": [
        "# Setup do modelo\n",
        "model = LogisticRegression(multi_class='multinomial', solver='lbfgs', max_iter=1000, random_state=SEED)\n",
        "\n",
        "# Treinamento\n",
        "model.fit(X_train, y_train)"
      ]
    },
    {
      "cell_type": "markdown",
      "metadata": {
        "id": "9cmnjG7CHbEh"
      },
      "source": [
        "### Teste"
      ]
    },
    {
      "cell_type": "code",
      "execution_count": null,
      "metadata": {
        "colab": {
          "base_uri": "https://localhost:8080/"
        },
        "id": "Vy8gVanjHJer",
        "outputId": "35d89a95-54cd-4809-b75e-d2c0d4f55864"
      },
      "outputs": [
        {
          "output_type": "execute_result",
          "data": {
            "text/plain": [
              "0.5613682092555332"
            ]
          },
          "metadata": {},
          "execution_count": 49
        }
      ],
      "source": [
        "model.score(X_test, y_test)"
      ]
    },
    {
      "cell_type": "code",
      "execution_count": null,
      "metadata": {
        "colab": {
          "base_uri": "https://localhost:8080/"
        },
        "id": "qWVGyF3XHUEk",
        "outputId": "e42b325b-fc51-450c-b72c-57033d1f195b"
      },
      "outputs": [
        {
          "output_type": "stream",
          "name": "stderr",
          "text": [
            "/usr/local/lib/python3.8/dist-packages/sklearn/metrics/_classification.py:1344: UndefinedMetricWarning: Precision and F-score are ill-defined and being set to 0.0 in labels with no predicted samples. Use `zero_division` parameter to control this behavior.\n",
            "  _warn_prf(average, modifier, msg_start, len(result))\n"
          ]
        },
        {
          "output_type": "stream",
          "name": "stdout",
          "text": [
            "              precision    recall  f1-score   support\n",
            "\n",
            "           A       0.53      0.94      0.68      4286\n",
            "           B       1.00      1.00      1.00         5\n",
            "           C       0.00      0.00      0.00       103\n",
            "           D       0.00      0.00      0.00       353\n",
            "           E       0.53      0.25      0.34      1095\n",
            "           F       0.37      0.09      0.15      1962\n",
            "           G       0.00      0.00      0.00       447\n",
            "           H       0.47      0.18      0.26       520\n",
            "           I       0.85      0.87      0.86       832\n",
            "           W       0.22      0.04      0.07        45\n",
            "           X       0.75      0.71      0.73       522\n",
            "           Y       0.70      0.64      0.67       267\n",
            "\n",
            "    accuracy                           0.56     10437\n",
            "   macro avg       0.45      0.39      0.40     10437\n",
            "weighted avg       0.49      0.56      0.48     10437\n",
            "\n"
          ]
        },
        {
          "output_type": "stream",
          "name": "stderr",
          "text": [
            "/usr/local/lib/python3.8/dist-packages/sklearn/metrics/_classification.py:1344: UndefinedMetricWarning: Precision and F-score are ill-defined and being set to 0.0 in labels with no predicted samples. Use `zero_division` parameter to control this behavior.\n",
            "  _warn_prf(average, modifier, msg_start, len(result))\n",
            "/usr/local/lib/python3.8/dist-packages/sklearn/metrics/_classification.py:1344: UndefinedMetricWarning: Precision and F-score are ill-defined and being set to 0.0 in labels with no predicted samples. Use `zero_division` parameter to control this behavior.\n",
            "  _warn_prf(average, modifier, msg_start, len(result))\n"
          ]
        }
      ],
      "source": [
        "y_pred = model.predict(X_test)\n",
        "print(metrics.classification_report(y_test, y_pred))"
      ]
    },
    {
      "cell_type": "code",
      "execution_count": null,
      "metadata": {
        "colab": {
          "base_uri": "https://localhost:8080/",
          "height": 54
        },
        "id": "WKTYpyZ8I-0c",
        "outputId": "83d92d06-d604-4b53-bb8e-e0f368b849ed"
      },
      "outputs": [
        {
          "output_type": "display_data",
          "data": {
            "text/plain": [
              "<Figure size 720x720 with 2 Axes>"
            ],
            "image/png": "[encoded data removed]"
          },
          "metadata": {
            "needs_background": "light"
          }
        }
      ],
      "source": [
        "fig,ax = plt.subplots(figsize=(10,10))\n",
        "ax.set_title(\"Matriz de confusão\")\n",
        "conf_mat = metrics.confusion_matrix(y_test, y_pred)\n",
        "disp = metrics.ConfusionMatrixDisplay(confusion_matrix=conf_mat, display_labels=classes)\n",
        "disp.plot(ax=ax)\n",
        "plt.show()"
      ]
    },
    {
      "cell_type": "markdown",
      "metadata": {
        "id": "YEmRmEihb7W6"
      },
      "source": [
        "### Conclusão"
      ]
    },
    {
      "cell_type": "markdown",
      "metadata": {
        "id": "inBJVS_scANK"
      },
      "source": [
        "Foi possível perceber que o modelo base errou todos das classes C, D e G, além de ter errado a maioria dos exemplos das classes E, F, H e W. Além disso, um fato muito interessante de se notar é que todas essas classes que não tiveram bons resultados foram confundidas com exemplos da classe A. Isso provavelmente aconteceu devido ao desbalanceamento do dataset, com muito mais dados da classe A. Assim, para a primeira tentativa de melhoria do modelo, vamos apenas diminuir a quantidade de exemplos da classe A e manter os outros parâmetros."
      ]
    },
    {
      "cell_type": "markdown",
      "metadata": {
        "id": "IJbMkdwTd2cG"
      },
      "source": [
        "## Modelo com mudança no balanceamento do dataset"
      ]
    },
    {
      "cell_type": "markdown",
      "metadata": {
        "id": "_8mk2VXhd2cN"
      },
      "source": [
        "Para este modelo, vamos reduzir o número de exemplos da classe A."
      ]
    },
    {
      "cell_type": "code",
      "execution_count": null,
      "metadata": {
        "id": "MzyYo3jcef44"
      },
      "outputs": [],
      "source": [
        "# Mudanças no dataset\n",
        "balanced_dataset = avila_train.drop(avila_train.query(\"Class == 'A'\").sample(frac=0.5).index)\n",
        "balanced_dataset.shape\n",
        "\n",
        "X_train_balanced = balanced_dataset.iloc[:, :-1]\n",
        "y_train_balanced = balanced_dataset.iloc[:, -1]"
      ]
    },
    {
      "cell_type": "code",
      "execution_count": null,
      "metadata": {
        "colab": {
          "base_uri": "https://localhost:8080/",
          "height": 75
        },
        "outputId": "1a863ac8-0166-44fd-d6a2-c2d1a35f8a90",
        "id": "n1xZimsWz1ZN"
      },
      "outputs": [
        {
          "output_type": "execute_result",
          "data": {
            "text/plain": [
              "LogisticRegression(max_iter=1000, multi_class='multinomial', random_state=32642)"
            ],
            "text/html": [
              "<style>#sk-container-id-8 {color: black;background-color: white;}#sk-container-id-8 pre{padding: 0;}#sk-container-id-8 div.sk-toggleable {background-color: white;}#sk-container-id-8 label.sk-toggleable__label {cursor: pointer;display: block;width: 100%;margin-bottom: 0;padding: 0.3em;box-sizing: border-box;text-align: center;}#sk-container-id-8 label.sk-toggleable__label-arrow:before {content: \"▸\";float: left;margin-right: 0.25em;color: #696969;}#sk-container-id-8 label.sk-toggleable__label-arrow:hover:before {color: black;}#sk-container-id-8 div.sk-estimator:hover label.sk-toggleable__label-arrow:before {color: black;}#sk-container-id-8 div.sk-toggleable__content {max-height: 0;max-width: 0;overflow: hidden;text-align: left;background-color: #f0f8ff;}#sk-container-id-8 div.sk-toggleable__content pre {margin: 0.2em;color: black;border-radius: 0.25em;background-color: #f0f8ff;}#sk-container-id-8 input.sk-toggleable__control:checked~div.sk-toggleable__content {max-height: 200px;max-width: 100%;overflow: auto;}#sk-container-id-8 input.sk-toggleable__control:checked~label.sk-toggleable__label-arrow:before {content: \"▾\";}#sk-container-id-8 div.sk-estimator input.sk-toggleable__control:checked~label.sk-toggleable__label {background-color: #d4ebff;}#sk-container-id-8 div.sk-label input.sk-toggleable__control:checked~label.sk-toggleable__label {background-color: #d4ebff;}#sk-container-id-8 input.sk-hidden--visually {border: 0;clip: rect(1px 1px 1px 1px);clip: rect(1px, 1px, 1px, 1px);height: 1px;margin: -1px;overflow: hidden;padding: 0;position: absolute;width: 1px;}#sk-container-id-8 div.sk-estimator {font-family: monospace;background-color: #f0f8ff;border: 1px dotted black;border-radius: 0.25em;box-sizing: border-box;margin-bottom: 0.5em;}#sk-container-id-8 div.sk-estimator:hover {background-color: #d4ebff;}#sk-container-id-8 div.sk-parallel-item::after {content: \"\";width: 100%;border-bottom: 1px solid gray;flex-grow: 1;}#sk-container-id-8 div.sk-label:hover label.sk-toggleable__label {background-color: #d4ebff;}#sk-container-id-8 div.sk-serial::before {content: \"\";position: absolute;border-left: 1px solid gray;box-sizing: border-box;top: 0;bottom: 0;left: 50%;z-index: 0;}#sk-container-id-8 div.sk-serial {display: flex;flex-direction: column;align-items: center;background-color: white;padding-right: 0.2em;padding-left: 0.2em;position: relative;}#sk-container-id-8 div.sk-item {position: relative;z-index: 1;}#sk-container-id-8 div.sk-parallel {display: flex;align-items: stretch;justify-content: center;background-color: white;position: relative;}#sk-container-id-8 div.sk-item::before, #sk-container-id-8 div.sk-parallel-item::before {content: \"\";position: absolute;border-left: 1px solid gray;box-sizing: border-box;top: 0;bottom: 0;left: 50%;z-index: -1;}#sk-container-id-8 div.sk-parallel-item {display: flex;flex-direction: column;z-index: 1;position: relative;background-color: white;}#sk-container-id-8 div.sk-parallel-item:first-child::after {align-self: flex-end;width: 50%;}#sk-container-id-8 div.sk-parallel-item:last-child::after {align-self: flex-start;width: 50%;}#sk-container-id-8 div.sk-parallel-item:only-child::after {width: 0;}#sk-container-id-8 div.sk-dashed-wrapped {border: 1px dashed gray;margin: 0 0.4em 0.5em 0.4em;box-sizing: border-box;padding-bottom: 0.4em;background-color: white;}#sk-container-id-8 div.sk-label label {font-family: monospace;font-weight: bold;display: inline-block;line-height: 1.2em;}#sk-container-id-8 div.sk-label-container {text-align: center;}#sk-container-id-8 div.sk-container {/* jupyter's `normalize.less` sets `[hidden] { display: none; }` but bootstrap.min.css set `[hidden] { display: none !important; }` so we also need the `!important` here to be able to override the default hidden behavior on the sphinx rendered scikit-learn.org. See: https://github.com/scikit-learn/scikit-learn/issues/21755 */display: inline-block !important;position: relative;}#sk-container-id-8 div.sk-text-repr-fallback {display: none;}</style><div id=\"sk-container-id-8\" class=\"sk-top-container\"><div class=\"sk-text-repr-fallback\"><pre>LogisticRegression(max_iter=1000, multi_class=&#x27;multinomial&#x27;, random_state=32642)</pre><b>In a Jupyter environment, please rerun this cell to show the HTML representation or trust the notebook. <br />On GitHub, the HTML representation is unable to render, please try loading this page with nbviewer.org.</b></div><div class=\"sk-container\" hidden><div class=\"sk-item\"><div class=\"sk-estimator sk-toggleable\"><input class=\"sk-toggleable__control sk-hidden--visually\" id=\"sk-estimator-id-12\" type=\"checkbox\" checked><label for=\"sk-estimator-id-12\" class=\"sk-toggleable__label sk-toggleable__label-arrow\">LogisticRegression</label><div class=\"sk-toggleable__content\"><pre>LogisticRegression(max_iter=1000, multi_class=&#x27;multinomial&#x27;, random_state=32642)</pre></div></div></div></div></div>"
            ]
          },
          "metadata": {},
          "execution_count": 53
        }
      ],
      "source": [
        "# Setup do modelo\n",
        "model = LogisticRegression(multi_class='multinomial', solver='lbfgs', max_iter=1000, random_state=SEED)\n",
        "\n",
        "# Treinamento\n",
        "model.fit(X_train_balanced, y_train_balanced)"
      ]
    },
    {
      "cell_type": "markdown",
      "metadata": {
        "id": "-vzvWD_8d2cN"
      },
      "source": [
        "### Teste"
      ]
    },
    {
      "cell_type": "code",
      "execution_count": null,
      "metadata": {
        "colab": {
          "base_uri": "https://localhost:8080/"
        },
        "id": "4ArhwHgsd2cO",
        "outputId": "f38f004f-37f9-43cd-e281-7b7c9a9ff669"
      },
      "outputs": [
        {
          "output_type": "execute_result",
          "data": {
            "text/plain": [
              "0.5474753281594328"
            ]
          },
          "metadata": {},
          "execution_count": 54
        }
      ],
      "source": [
        "model.score(X_test, y_test)"
      ]
    },
    {
      "cell_type": "code",
      "execution_count": null,
      "metadata": {
        "colab": {
          "base_uri": "https://localhost:8080/"
        },
        "id": "wxrolwqEd2cO",
        "outputId": "012d69df-7b53-4cf5-d99c-6db0bb2a553d"
      },
      "outputs": [
        {
          "output_type": "stream",
          "name": "stdout",
          "text": [
            "              precision    recall  f1-score   support\n",
            "\n",
            "           A       0.65      0.62      0.63      4286\n",
            "           B       1.00      1.00      1.00         5\n",
            "           C       0.00      0.00      0.00       103\n",
            "           D       0.00      0.00      0.00       353\n",
            "           E       0.49      0.44      0.46      1095\n",
            "           F       0.34      0.61      0.44      1962\n",
            "           G       0.00      0.00      0.00       447\n",
            "           H       0.49      0.21      0.29       520\n",
            "           I       0.84      0.87      0.86       832\n",
            "           W       0.14      0.04      0.07        45\n",
            "           X       0.71      0.71      0.71       522\n",
            "           Y       0.69      0.65      0.67       267\n",
            "\n",
            "    accuracy                           0.55     10437\n",
            "   macro avg       0.45      0.43      0.43     10437\n",
            "weighted avg       0.53      0.55      0.53     10437\n",
            "\n"
          ]
        },
        {
          "output_type": "stream",
          "name": "stderr",
          "text": [
            "/usr/local/lib/python3.8/dist-packages/sklearn/metrics/_classification.py:1344: UndefinedMetricWarning: Precision and F-score are ill-defined and being set to 0.0 in labels with no predicted samples. Use `zero_division` parameter to control this behavior.\n",
            "  _warn_prf(average, modifier, msg_start, len(result))\n",
            "/usr/local/lib/python3.8/dist-packages/sklearn/metrics/_classification.py:1344: UndefinedMetricWarning: Precision and F-score are ill-defined and being set to 0.0 in labels with no predicted samples. Use `zero_division` parameter to control this behavior.\n",
            "  _warn_prf(average, modifier, msg_start, len(result))\n",
            "/usr/local/lib/python3.8/dist-packages/sklearn/metrics/_classification.py:1344: UndefinedMetricWarning: Precision and F-score are ill-defined and being set to 0.0 in labels with no predicted samples. Use `zero_division` parameter to control this behavior.\n",
            "  _warn_prf(average, modifier, msg_start, len(result))\n"
          ]
        }
      ],
      "source": [
        "y_pred = model.predict(X_test)\n",
        "print(metrics.classification_report(y_test, y_pred))"
      ]
    },
    {
      "cell_type": "code",
      "execution_count": null,
      "metadata": {
        "colab": {
          "base_uri": "https://localhost:8080/",
          "height": 54
        },
        "id": "bghrWjxpd2cO",
        "outputId": "9974ca81-cba8-4b66-aa49-d8ea7fd4ffe0"
      },
      "outputs": [
        {
          "output_type": "display_data",
          "data": {
            "text/plain": [
              "<Figure size 720x720 with 2 Axes>"
            ],
            "image/png": "[encoded data removed]"
          },
          "metadata": {
            "needs_background": "light"
          }
        }
      ],
      "source": [
        "fig,ax = plt.subplots(figsize=(10,10))\n",
        "ax.set_title(\"Matriz de confusão\")\n",
        "conf_mat = metrics.confusion_matrix(y_test, y_pred, normalize='true')\n",
        "disp = metrics.ConfusionMatrixDisplay(confusion_matrix=conf_mat, display_labels=classes)\n",
        "disp.plot(ax=ax)\n",
        "plt.show()"
      ]
    },
    {
      "cell_type": "markdown",
      "metadata": {
        "id": "bn7FMG--d2cO"
      },
      "source": [
        "### Conclusão"
      ]
    },
    {
      "cell_type": "markdown",
      "metadata": {
        "id": "HiO9Ok8Sd2cO"
      },
      "source": [
        "O resultado da classificação melhorou muito para algumas das classes, como a E e a F, mas ele piorou para a classe A. Observando as matrizes de confusão dos dois modelos testados até aqui, é possível inferir que as classes A e F estão gerando muitos problemas para a classificação. Isso pode estar acontecendo porque ambas as classes devem possuir exemplos muito próximos uns dos outros, dificultando sua separação. Vamos utilizar a técnica do PCA para identificar as features que melhor separam ambas as classes e utilizá-las para realizar a classificação."
      ]
    },
    {
      "cell_type": "markdown",
      "metadata": {
        "id": "ALMH38X7ivrk"
      },
      "source": [
        "## Modelo com mudança nas colunas do dataset"
      ]
    },
    {
      "cell_type": "markdown",
      "metadata": {
        "id": "Q7n0cqVbivrr"
      },
      "source": [
        "Inicialmente vamos tentar procurar formas de separar as classes A e F, a fim de melhorar a acurácia do modelo. Para isso, vamos tentar utilizar o PCA."
      ]
    },
    {
      "cell_type": "code",
      "execution_count": null,
      "metadata": {
        "id": "ljT3wOM4ivrr"
      },
      "outputs": [],
      "source": [
        "avila_tr_A = avila_train.query(\"Class == 'A'\")\n",
        "avila_tr_F = avila_train.query(\"Class == 'F'\")\n",
        "avila_tr_A_F = pd.concat([avila_tr_A, avila_tr_F], axis=0)\n",
        "avila_tr_A_F.shape\n",
        "\n",
        "X_train_A_F = avila_tr_A_F.iloc[:, :-1]\n",
        "y_train_A_F = avila_tr_A_F.iloc[:, -1].head()"
      ]
    },
    {
      "cell_type": "markdown",
      "metadata": {
        "id": "4ugIAGcj7xse",
        "tags": []
      },
      "source": [
        "### Análise utilizando PCA"
      ]
    },
    {
      "cell_type": "markdown",
      "metadata": {
        "id": "Y8oCYuWsmO7o"
      },
      "source": [
        "Como os dados já estão normalizados, podemos partir para o \"fit\" e o \"transform\" no PCA"
      ]
    },
    {
      "cell_type": "code",
      "execution_count": null,
      "metadata": {
        "colab": {
          "base_uri": "https://localhost:8080/"
        },
        "id": "WPVlmprSnHs4",
        "outputId": "e11b7d55-67dc-4740-b94a-ac43a8b076db"
      },
      "outputs": [
        {
          "output_type": "execute_result",
          "data": {
            "text/plain": [
              "(6247, 3)"
            ]
          },
          "metadata": {},
          "execution_count": 58
        }
      ],
      "source": [
        "principal = PCA(n_components=3)\n",
        "principal.fit(X_train_A_F)\n",
        "x = principal.transform(X_train_A_F)\n",
        "x.shape"
      ]
    },
    {
      "cell_type": "markdown",
      "metadata": {
        "id": "Q_xYUdqM7cfS"
      },
      "source": [
        "O número de features foi reduzida para 3. Com o PCA feito, podemos plotar um gráfico para verificar se os componentes principais conseguem separar as classes A e F."
      ]
    },
    {
      "cell_type": "code",
      "execution_count": null,
      "metadata": {
        "colab": {
          "base_uri": "https://localhost:8080/"
        },
        "id": "7V_6wvtquPK0",
        "outputId": "d64ab930-e1e2-47e1-a658-adf7e70e8160"
      },
      "outputs": [
        {
          "output_type": "execute_result",
          "data": {
            "text/plain": [
              "array([0, 0, 0, 0, 0])"
            ]
          },
          "metadata": {},
          "execution_count": 59
        }
      ],
      "source": [
        "le = preprocessing.LabelEncoder()\n",
        "le.fit(y_train_A_F)\n",
        "encoded_labels = le.transform(y_train_A_F)\n",
        "encoded_labels"
      ]
    },
    {
      "cell_type": "code",
      "execution_count": null,
      "metadata": {
        "colab": {
          "base_uri": "https://localhost:8080/",
          "height": 1000
        },
        "id": "UDGwHRiwoWMN",
        "outputId": "1d9a04f6-20a7-4e67-e0e0-a2106e626b1a"
      },
      "outputs": [
        {
          "output_type": "error",
          "ename": "ValueError",
          "evalue": "ignored",
          "traceback": [
            "\u001b[0;31m---------------------------------------------------------------------------\u001b[0m",
            "\u001b[0;31mValueError\u001b[0m                                Traceback (most recent call last)",
            "\u001b[0;32m/usr/local/lib/python3.8/dist-packages/matplotlib/axes/_axes.py\u001b[0m in \u001b[0;36m_parse_scatter_color_args\u001b[0;34m(c, edgecolors, kwargs, xsize, get_next_color_func)\u001b[0m\n\u001b[1;32m   4219\u001b[0m             \u001b[0;32mtry\u001b[0m\u001b[0;34m:\u001b[0m  \u001b[0;31m# Is 'c' acceptable as PathCollection facecolors?\u001b[0m\u001b[0;34m\u001b[0m\u001b[0;34m\u001b[0m\u001b[0m\n\u001b[0;32m-> 4220\u001b[0;31m                 \u001b[0mcolors\u001b[0m \u001b[0;34m=\u001b[0m \u001b[0mmcolors\u001b[0m\u001b[0;34m.\u001b[0m\u001b[0mto_rgba_array\u001b[0m\u001b[0;34m(\u001b[0m\u001b[0mc\u001b[0m\u001b[0;34m)\u001b[0m\u001b[0;34m\u001b[0m\u001b[0;34m\u001b[0m\u001b[0m\n\u001b[0m\u001b[1;32m   4221\u001b[0m             \u001b[0;32mexcept\u001b[0m \u001b[0;34m(\u001b[0m\u001b[0mTypeError\u001b[0m\u001b[0;34m,\u001b[0m \u001b[0mValueError\u001b[0m\u001b[0;34m)\u001b[0m \u001b[0;32mas\u001b[0m \u001b[0merr\u001b[0m\u001b[0;34m:\u001b[0m\u001b[0;34m\u001b[0m\u001b[0;34m\u001b[0m\u001b[0m\n",
            "\u001b[0;32m/usr/local/lib/python3.8/dist-packages/matplotlib/colors.py\u001b[0m in \u001b[0;36mto_rgba_array\u001b[0;34m(c, alpha)\u001b[0m\n\u001b[1;32m    376\u001b[0m     \u001b[0;32melse\u001b[0m\u001b[0;34m:\u001b[0m\u001b[0;34m\u001b[0m\u001b[0;34m\u001b[0m\u001b[0m\n\u001b[0;32m--> 377\u001b[0;31m         \u001b[0mrgba\u001b[0m \u001b[0;34m=\u001b[0m \u001b[0mnp\u001b[0m\u001b[0;34m.\u001b[0m\u001b[0marray\u001b[0m\u001b[0;34m(\u001b[0m\u001b[0;34m[\u001b[0m\u001b[0mto_rgba\u001b[0m\u001b[0;34m(\u001b[0m\u001b[0mcc\u001b[0m\u001b[0;34m)\u001b[0m \u001b[0;32mfor\u001b[0m \u001b[0mcc\u001b[0m \u001b[0;32min\u001b[0m \u001b[0mc\u001b[0m\u001b[0;34m]\u001b[0m\u001b[0;34m)\u001b[0m\u001b[0;34m\u001b[0m\u001b[0;34m\u001b[0m\u001b[0m\n\u001b[0m\u001b[1;32m    378\u001b[0m \u001b[0;34m\u001b[0m\u001b[0m\n",
            "\u001b[0;32m/usr/local/lib/python3.8/dist-packages/matplotlib/colors.py\u001b[0m in \u001b[0;36m<listcomp>\u001b[0;34m(.0)\u001b[0m\n\u001b[1;32m    376\u001b[0m     \u001b[0;32melse\u001b[0m\u001b[0;34m:\u001b[0m\u001b[0;34m\u001b[0m\u001b[0;34m\u001b[0m\u001b[0m\n\u001b[0;32m--> 377\u001b[0;31m         \u001b[0mrgba\u001b[0m \u001b[0;34m=\u001b[0m \u001b[0mnp\u001b[0m\u001b[0;34m.\u001b[0m\u001b[0marray\u001b[0m\u001b[0;34m(\u001b[0m\u001b[0;34m[\u001b[0m\u001b[0mto_rgba\u001b[0m\u001b[0;34m(\u001b[0m\u001b[0mcc\u001b[0m\u001b[0;34m)\u001b[0m \u001b[0;32mfor\u001b[0m \u001b[0mcc\u001b[0m \u001b[0;32min\u001b[0m \u001b[0mc\u001b[0m\u001b[0;34m]\u001b[0m\u001b[0;34m)\u001b[0m\u001b[0;34m\u001b[0m\u001b[0;34m\u001b[0m\u001b[0m\n\u001b[0m\u001b[1;32m    378\u001b[0m \u001b[0;34m\u001b[0m\u001b[0m\n",
            "\u001b[0;32m/usr/local/lib/python3.8/dist-packages/matplotlib/colors.py\u001b[0m in \u001b[0;36mto_rgba\u001b[0;34m(c, alpha)\u001b[0m\n\u001b[1;32m    186\u001b[0m     \u001b[0;32mif\u001b[0m \u001b[0mrgba\u001b[0m \u001b[0;32mis\u001b[0m \u001b[0;32mNone\u001b[0m\u001b[0;34m:\u001b[0m  \u001b[0;31m# Suppress exception chaining of cache lookup failure.\u001b[0m\u001b[0;34m\u001b[0m\u001b[0;34m\u001b[0m\u001b[0m\n\u001b[0;32m--> 187\u001b[0;31m         \u001b[0mrgba\u001b[0m \u001b[0;34m=\u001b[0m \u001b[0m_to_rgba_no_colorcycle\u001b[0m\u001b[0;34m(\u001b[0m\u001b[0mc\u001b[0m\u001b[0;34m,\u001b[0m \u001b[0malpha\u001b[0m\u001b[0;34m)\u001b[0m\u001b[0;34m\u001b[0m\u001b[0;34m\u001b[0m\u001b[0m\n\u001b[0m\u001b[1;32m    188\u001b[0m         \u001b[0;32mtry\u001b[0m\u001b[0;34m:\u001b[0m\u001b[0;34m\u001b[0m\u001b[0;34m\u001b[0m\u001b[0m\n",
            "\u001b[0;32m/usr/local/lib/python3.8/dist-packages/matplotlib/colors.py\u001b[0m in \u001b[0;36m_to_rgba_no_colorcycle\u001b[0;34m(c, alpha)\u001b[0m\n\u001b[1;32m    268\u001b[0m     \u001b[0;32mif\u001b[0m \u001b[0;32mnot\u001b[0m \u001b[0mnp\u001b[0m\u001b[0;34m.\u001b[0m\u001b[0miterable\u001b[0m\u001b[0;34m(\u001b[0m\u001b[0mc\u001b[0m\u001b[0;34m)\u001b[0m\u001b[0;34m:\u001b[0m\u001b[0;34m\u001b[0m\u001b[0;34m\u001b[0m\u001b[0m\n\u001b[0;32m--> 269\u001b[0;31m         \u001b[0;32mraise\u001b[0m \u001b[0mValueError\u001b[0m\u001b[0;34m(\u001b[0m\u001b[0;34mf\"Invalid RGBA argument: {orig_c!r}\"\u001b[0m\u001b[0;34m)\u001b[0m\u001b[0;34m\u001b[0m\u001b[0;34m\u001b[0m\u001b[0m\n\u001b[0m\u001b[1;32m    270\u001b[0m     \u001b[0;32mif\u001b[0m \u001b[0mlen\u001b[0m\u001b[0;34m(\u001b[0m\u001b[0mc\u001b[0m\u001b[0;34m)\u001b[0m \u001b[0;32mnot\u001b[0m \u001b[0;32min\u001b[0m \u001b[0;34m[\u001b[0m\u001b[0;36m3\u001b[0m\u001b[0;34m,\u001b[0m \u001b[0;36m4\u001b[0m\u001b[0;34m]\u001b[0m\u001b[0;34m:\u001b[0m\u001b[0;34m\u001b[0m\u001b[0;34m\u001b[0m\u001b[0m\n",
            "\u001b[0;31mValueError\u001b[0m: Invalid RGBA argument: 0.0",
            "\nThe above exception was the direct cause of the following exception:\n",
            "\u001b[0;31mValueError\u001b[0m                                Traceback (most recent call last)",
            "\u001b[0;32m<ipython-input-60-a66cf67e7174>\u001b[0m in \u001b[0;36m<module>\u001b[0;34m\u001b[0m\n\u001b[1;32m      1\u001b[0m \u001b[0mplt\u001b[0m\u001b[0;34m.\u001b[0m\u001b[0mfigure\u001b[0m\u001b[0;34m(\u001b[0m\u001b[0mfigsize\u001b[0m\u001b[0;34m=\u001b[0m\u001b[0;34m(\u001b[0m\u001b[0;36m10\u001b[0m\u001b[0;34m,\u001b[0m\u001b[0;36m10\u001b[0m\u001b[0;34m)\u001b[0m\u001b[0;34m)\u001b[0m\u001b[0;34m\u001b[0m\u001b[0;34m\u001b[0m\u001b[0m\n\u001b[1;32m      2\u001b[0m \u001b[0mcolors\u001b[0m \u001b[0;34m=\u001b[0m \u001b[0mnp\u001b[0m\u001b[0;34m.\u001b[0m\u001b[0mrandom\u001b[0m\u001b[0;34m.\u001b[0m\u001b[0mrand\u001b[0m\u001b[0;34m(\u001b[0m\u001b[0;36m6247\u001b[0m\u001b[0;34m)\u001b[0m\u001b[0;34m\u001b[0m\u001b[0;34m\u001b[0m\u001b[0m\n\u001b[0;32m----> 3\u001b[0;31m \u001b[0mplt\u001b[0m\u001b[0;34m.\u001b[0m\u001b[0mscatter\u001b[0m\u001b[0;34m(\u001b[0m\u001b[0mx\u001b[0m\u001b[0;34m=\u001b[0m\u001b[0mx\u001b[0m\u001b[0;34m[\u001b[0m\u001b[0;34m:\u001b[0m\u001b[0;34m,\u001b[0m\u001b[0;36m0\u001b[0m\u001b[0;34m]\u001b[0m\u001b[0;34m,\u001b[0m \u001b[0my\u001b[0m\u001b[0;34m=\u001b[0m\u001b[0mx\u001b[0m\u001b[0;34m[\u001b[0m\u001b[0;34m:\u001b[0m\u001b[0;34m,\u001b[0m\u001b[0;36m1\u001b[0m\u001b[0;34m]\u001b[0m\u001b[0;34m,\u001b[0m \u001b[0mc\u001b[0m\u001b[0;34m=\u001b[0m\u001b[0mencoded_labels\u001b[0m\u001b[0;34m,\u001b[0m \u001b[0mcmap\u001b[0m\u001b[0;34m=\u001b[0m\u001b[0;34m'plasma'\u001b[0m\u001b[0;34m)\u001b[0m\u001b[0;34m\u001b[0m\u001b[0;34m\u001b[0m\u001b[0m\n\u001b[0m\u001b[1;32m      4\u001b[0m \u001b[0mplt\u001b[0m\u001b[0;34m.\u001b[0m\u001b[0mxlabel\u001b[0m\u001b[0;34m(\u001b[0m\u001b[0;34m'pc1'\u001b[0m\u001b[0;34m)\u001b[0m\u001b[0;34m\u001b[0m\u001b[0;34m\u001b[0m\u001b[0m\n\u001b[1;32m      5\u001b[0m \u001b[0mplt\u001b[0m\u001b[0;34m.\u001b[0m\u001b[0mylabel\u001b[0m\u001b[0;34m(\u001b[0m\u001b[0;34m'pc2'\u001b[0m\u001b[0;34m)\u001b[0m\u001b[0;34m\u001b[0m\u001b[0;34m\u001b[0m\u001b[0m\n",
            "\u001b[0;32m/usr/local/lib/python3.8/dist-packages/matplotlib/pyplot.py\u001b[0m in \u001b[0;36mscatter\u001b[0;34m(x, y, s, c, marker, cmap, norm, vmin, vmax, alpha, linewidths, edgecolors, plotnonfinite, data, **kwargs)\u001b[0m\n\u001b[1;32m   2815\u001b[0m         \u001b[0mvmin\u001b[0m\u001b[0;34m=\u001b[0m\u001b[0;32mNone\u001b[0m\u001b[0;34m,\u001b[0m \u001b[0mvmax\u001b[0m\u001b[0;34m=\u001b[0m\u001b[0;32mNone\u001b[0m\u001b[0;34m,\u001b[0m \u001b[0malpha\u001b[0m\u001b[0;34m=\u001b[0m\u001b[0;32mNone\u001b[0m\u001b[0;34m,\u001b[0m \u001b[0mlinewidths\u001b[0m\u001b[0;34m=\u001b[0m\u001b[0;32mNone\u001b[0m\u001b[0;34m,\u001b[0m \u001b[0;34m*\u001b[0m\u001b[0;34m,\u001b[0m\u001b[0;34m\u001b[0m\u001b[0;34m\u001b[0m\u001b[0m\n\u001b[1;32m   2816\u001b[0m         edgecolors=None, plotnonfinite=False, data=None, **kwargs):\n\u001b[0;32m-> 2817\u001b[0;31m     __ret = gca().scatter(\n\u001b[0m\u001b[1;32m   2818\u001b[0m         \u001b[0mx\u001b[0m\u001b[0;34m,\u001b[0m \u001b[0my\u001b[0m\u001b[0;34m,\u001b[0m \u001b[0ms\u001b[0m\u001b[0;34m=\u001b[0m\u001b[0ms\u001b[0m\u001b[0;34m,\u001b[0m \u001b[0mc\u001b[0m\u001b[0;34m=\u001b[0m\u001b[0mc\u001b[0m\u001b[0;34m,\u001b[0m \u001b[0mmarker\u001b[0m\u001b[0;34m=\u001b[0m\u001b[0mmarker\u001b[0m\u001b[0;34m,\u001b[0m \u001b[0mcmap\u001b[0m\u001b[0;34m=\u001b[0m\u001b[0mcmap\u001b[0m\u001b[0;34m,\u001b[0m \u001b[0mnorm\u001b[0m\u001b[0;34m=\u001b[0m\u001b[0mnorm\u001b[0m\u001b[0;34m,\u001b[0m\u001b[0;34m\u001b[0m\u001b[0;34m\u001b[0m\u001b[0m\n\u001b[1;32m   2819\u001b[0m         \u001b[0mvmin\u001b[0m\u001b[0;34m=\u001b[0m\u001b[0mvmin\u001b[0m\u001b[0;34m,\u001b[0m \u001b[0mvmax\u001b[0m\u001b[0;34m=\u001b[0m\u001b[0mvmax\u001b[0m\u001b[0;34m,\u001b[0m \u001b[0malpha\u001b[0m\u001b[0;34m=\u001b[0m\u001b[0malpha\u001b[0m\u001b[0;34m,\u001b[0m \u001b[0mlinewidths\u001b[0m\u001b[0;34m=\u001b[0m\u001b[0mlinewidths\u001b[0m\u001b[0;34m,\u001b[0m\u001b[0;34m\u001b[0m\u001b[0;34m\u001b[0m\u001b[0m\n",
            "\u001b[0;32m/usr/local/lib/python3.8/dist-packages/matplotlib/__init__.py\u001b[0m in \u001b[0;36minner\u001b[0;34m(ax, data, *args, **kwargs)\u001b[0m\n\u001b[1;32m   1412\u001b[0m     \u001b[0;32mdef\u001b[0m \u001b[0minner\u001b[0m\u001b[0;34m(\u001b[0m\u001b[0max\u001b[0m\u001b[0;34m,\u001b[0m \u001b[0;34m*\u001b[0m\u001b[0margs\u001b[0m\u001b[0;34m,\u001b[0m \u001b[0mdata\u001b[0m\u001b[0;34m=\u001b[0m\u001b[0;32mNone\u001b[0m\u001b[0;34m,\u001b[0m \u001b[0;34m**\u001b[0m\u001b[0mkwargs\u001b[0m\u001b[0;34m)\u001b[0m\u001b[0;34m:\u001b[0m\u001b[0;34m\u001b[0m\u001b[0;34m\u001b[0m\u001b[0m\n\u001b[1;32m   1413\u001b[0m         \u001b[0;32mif\u001b[0m \u001b[0mdata\u001b[0m \u001b[0;32mis\u001b[0m \u001b[0;32mNone\u001b[0m\u001b[0;34m:\u001b[0m\u001b[0;34m\u001b[0m\u001b[0;34m\u001b[0m\u001b[0m\n\u001b[0;32m-> 1414\u001b[0;31m             \u001b[0;32mreturn\u001b[0m \u001b[0mfunc\u001b[0m\u001b[0;34m(\u001b[0m\u001b[0max\u001b[0m\u001b[0;34m,\u001b[0m \u001b[0;34m*\u001b[0m\u001b[0mmap\u001b[0m\u001b[0;34m(\u001b[0m\u001b[0msanitize_sequence\u001b[0m\u001b[0;34m,\u001b[0m \u001b[0margs\u001b[0m\u001b[0;34m)\u001b[0m\u001b[0;34m,\u001b[0m \u001b[0;34m**\u001b[0m\u001b[0mkwargs\u001b[0m\u001b[0;34m)\u001b[0m\u001b[0;34m\u001b[0m\u001b[0;34m\u001b[0m\u001b[0m\n\u001b[0m\u001b[1;32m   1415\u001b[0m \u001b[0;34m\u001b[0m\u001b[0m\n\u001b[1;32m   1416\u001b[0m         \u001b[0mbound\u001b[0m \u001b[0;34m=\u001b[0m \u001b[0mnew_sig\u001b[0m\u001b[0;34m.\u001b[0m\u001b[0mbind\u001b[0m\u001b[0;34m(\u001b[0m\u001b[0max\u001b[0m\u001b[0;34m,\u001b[0m \u001b[0;34m*\u001b[0m\u001b[0margs\u001b[0m\u001b[0;34m,\u001b[0m \u001b[0;34m**\u001b[0m\u001b[0mkwargs\u001b[0m\u001b[0;34m)\u001b[0m\u001b[0;34m\u001b[0m\u001b[0;34m\u001b[0m\u001b[0m\n",
            "\u001b[0;32m/usr/local/lib/python3.8/dist-packages/matplotlib/axes/_axes.py\u001b[0m in \u001b[0;36mscatter\u001b[0;34m(self, x, y, s, c, marker, cmap, norm, vmin, vmax, alpha, linewidths, edgecolors, plotnonfinite, **kwargs)\u001b[0m\n\u001b[1;32m   4384\u001b[0m             \u001b[0morig_edgecolor\u001b[0m \u001b[0;34m=\u001b[0m \u001b[0mkwargs\u001b[0m\u001b[0;34m.\u001b[0m\u001b[0mget\u001b[0m\u001b[0;34m(\u001b[0m\u001b[0;34m'edgecolor'\u001b[0m\u001b[0;34m,\u001b[0m \u001b[0;32mNone\u001b[0m\u001b[0;34m)\u001b[0m\u001b[0;34m\u001b[0m\u001b[0;34m\u001b[0m\u001b[0m\n\u001b[1;32m   4385\u001b[0m         \u001b[0mc\u001b[0m\u001b[0;34m,\u001b[0m \u001b[0mcolors\u001b[0m\u001b[0;34m,\u001b[0m \u001b[0medgecolors\u001b[0m \u001b[0;34m=\u001b[0m\u001b[0;31m \u001b[0m\u001b[0;31m\\\u001b[0m\u001b[0;34m\u001b[0m\u001b[0;34m\u001b[0m\u001b[0m\n\u001b[0;32m-> 4386\u001b[0;31m             self._parse_scatter_color_args(\n\u001b[0m\u001b[1;32m   4387\u001b[0m                 \u001b[0mc\u001b[0m\u001b[0;34m,\u001b[0m \u001b[0medgecolors\u001b[0m\u001b[0;34m,\u001b[0m \u001b[0mkwargs\u001b[0m\u001b[0;34m,\u001b[0m \u001b[0mx\u001b[0m\u001b[0;34m.\u001b[0m\u001b[0msize\u001b[0m\u001b[0;34m,\u001b[0m\u001b[0;34m\u001b[0m\u001b[0;34m\u001b[0m\u001b[0m\n\u001b[1;32m   4388\u001b[0m                 get_next_color_func=self._get_patches_for_fill.get_next_color)\n",
            "\u001b[0;32m/usr/local/lib/python3.8/dist-packages/matplotlib/axes/_axes.py\u001b[0m in \u001b[0;36m_parse_scatter_color_args\u001b[0;34m(c, edgecolors, kwargs, xsize, get_next_color_func)\u001b[0m\n\u001b[1;32m   4224\u001b[0m                 \u001b[0;32melse\u001b[0m\u001b[0;34m:\u001b[0m\u001b[0;34m\u001b[0m\u001b[0;34m\u001b[0m\u001b[0m\n\u001b[1;32m   4225\u001b[0m                     \u001b[0;32mif\u001b[0m \u001b[0;32mnot\u001b[0m \u001b[0mvalid_shape\u001b[0m\u001b[0;34m:\u001b[0m\u001b[0;34m\u001b[0m\u001b[0;34m\u001b[0m\u001b[0m\n\u001b[0;32m-> 4226\u001b[0;31m                         \u001b[0;32mraise\u001b[0m \u001b[0minvalid_shape_exception\u001b[0m\u001b[0;34m(\u001b[0m\u001b[0mc\u001b[0m\u001b[0;34m.\u001b[0m\u001b[0msize\u001b[0m\u001b[0;34m,\u001b[0m \u001b[0mxsize\u001b[0m\u001b[0;34m)\u001b[0m \u001b[0;32mfrom\u001b[0m \u001b[0merr\u001b[0m\u001b[0;34m\u001b[0m\u001b[0;34m\u001b[0m\u001b[0m\n\u001b[0m\u001b[1;32m   4227\u001b[0m                     \u001b[0;31m# Both the mapping *and* the RGBA conversion failed: pretty\u001b[0m\u001b[0;34m\u001b[0m\u001b[0;34m\u001b[0m\u001b[0;34m\u001b[0m\u001b[0m\n\u001b[1;32m   4228\u001b[0m                     \u001b[0;31m# severe failure => one may appreciate a verbose feedback.\u001b[0m\u001b[0;34m\u001b[0m\u001b[0;34m\u001b[0m\u001b[0;34m\u001b[0m\u001b[0m\n",
            "\u001b[0;31mValueError\u001b[0m: 'c' argument has 5 elements, which is inconsistent with 'x' and 'y' with size 6247."
          ]
        },
        {
          "output_type": "display_data",
          "data": {
            "text/plain": [
              "<Figure size 720x720 with 1 Axes>"
            ],
            "image/png": "[encoded data removed]"
          },
          "metadata": {
            "needs_background": "light"
          }
        }
      ],
      "source": [
        "plt.figure(figsize=(10,10))\n",
        "colors = np.random.rand(6247)\n",
        "plt.scatter(x=x[:,0], y=x[:,1], c=encoded_labels, cmap='plasma')\n",
        "plt.xlabel('pc1')\n",
        "plt.ylabel('pc2')"
      ]
    },
    {
      "cell_type": "code",
      "execution_count": null,
      "metadata": {
        "id": "rA3kR1Bi6pSg"
      },
      "outputs": [],
      "source": [
        "from mpl_toolkits.mplot3d import Axes3D\n",
        "fig = plt.figure(figsize=(10,10))\n",
        " \n",
        "# choose projection 3d for creating a 3d graph\n",
        "axis = fig.add_subplot(111, projection='3d')\n",
        " \n",
        "# x[:,0]is pc1,x[:,1] is pc2 while x[:,2] is pc3\n",
        "axis.scatter(x[:,0],x[:,1],x[:,2], c=encoded_labels,cmap='plasma')\n",
        "axis.set_xlabel(\"PC1\", fontsize=10)\n",
        "axis.set_ylabel(\"PC2\", fontsize=10)\n",
        "axis.set_zlabel(\"PC3\", fontsize=10)"
      ]
    },
    {
      "cell_type": "markdown",
      "metadata": {
        "id": "6GP2d1z977-3"
      },
      "source": [
        "Utilizando o PCA foi possível ver que, mesmo utilizando os principais componentes para separar os dados, eles ainda não são bem separáveis. Assim, vamos tentar reduzir o número de features, mantendo as mais relevantes de acordo com o artigo que acompanha o projeto."
      ]
    },
    {
      "cell_type": "markdown",
      "metadata": {
        "id": "5b_xrEVVG0HC"
      },
      "source": [
        "### Removendo colunas do dataset"
      ]
    },
    {
      "cell_type": "code",
      "execution_count": null,
      "metadata": {
        "id": "iDa5OOMEHg6j"
      },
      "outputs": [],
      "source": [
        "avila_tr_dropped = avila_train.drop(columns=[\"modular ratio/ interlinear spacing\", \"weight\", \"modular ratio\", \"interlinear spacing\"])\n",
        "avila_ts_dropped = avila_test.drop(columns=[\"modular ratio/ interlinear spacing\", \"weight\", \"modular ratio\", \"interlinear spacing\"])\n",
        "\n",
        "X_train_dropped = avila_tr_dropped.iloc[:, :-1]\n",
        "y_train_dropped = avila_tr_dropped.iloc[:, -1]\n",
        "\n",
        "X_test_dropped = avila_ts_dropped.iloc[:, :-1]\n",
        "y_test_dropped = avila_ts_dropped.iloc[:, -1]"
      ]
    },
    {
      "cell_type": "markdown",
      "metadata": {
        "id": "fJ4j_9SLJHdi"
      },
      "source": [
        "### Análise utilizando PCA para dataset com colunas removidas"
      ]
    },
    {
      "cell_type": "markdown",
      "metadata": {
        "id": "55cVWyS4JHdj"
      },
      "source": [
        "Como os dados já estão normalizados, podemos partir para o \"fit\" e o \"transform\" no PCA"
      ]
    },
    {
      "cell_type": "code",
      "execution_count": null,
      "metadata": {
        "id": "aPisgXrRJQLy"
      },
      "outputs": [],
      "source": [
        "avila_tr_A_dropped = avila_tr_dropped.query(\"Class == 'A'\")\n",
        "avila_tr_F_dropped = avila_tr_dropped.query(\"Class == 'F'\")\n",
        "avila_tr_A_F_dropped = pd.concat([avila_tr_A_dropped, avila_tr_F_dropped], axis=0)\n",
        "\n",
        "X_train_A_F_dropped = avila_tr_A_F_dropped.iloc[:, :-1]\n",
        "y_train_A_F_dropped = avila_tr_A_F_dropped.iloc[:, -1]"
      ]
    },
    {
      "cell_type": "code",
      "execution_count": null,
      "metadata": {
        "id": "H4uf1PqEJHdj"
      },
      "outputs": [],
      "source": [
        "principal = PCA(n_components=3)\n",
        "principal.fit(X_train_A_F_dropped)\n",
        "x = principal.transform(X_train_A_F_dropped)\n",
        "x.shape"
      ]
    },
    {
      "cell_type": "markdown",
      "metadata": {
        "id": "2nozQoihJHdj"
      },
      "source": [
        "O número de features foi reduzida para 3. Com o PCA feito, podemos plotar um gráfico para verificar se os componentes principais conseguem separar as classes A e F."
      ]
    },
    {
      "cell_type": "code",
      "execution_count": null,
      "metadata": {
        "id": "sKurgCMaJHdj"
      },
      "outputs": [],
      "source": [
        "le = preprocessing.LabelEncoder()\n",
        "le.fit(y_train_A_F_dropped)\n",
        "encoded_labels = le.transform(y_train_A_F_dropped)\n",
        "encoded_labels"
      ]
    },
    {
      "cell_type": "code",
      "execution_count": null,
      "metadata": {
        "id": "FmSmJJbdJHdj"
      },
      "outputs": [],
      "source": [
        "plt.figure(figsize=(10,10))\n",
        "colors = np.random.rand(6247)\n",
        "plt.scatter(x=x[:,0], y=x[:,1], c=encoded_labels, cmap='plasma')\n",
        "plt.xlabel('pc1')\n",
        "plt.ylabel('pc2')"
      ]
    },
    {
      "cell_type": "code",
      "execution_count": null,
      "metadata": {
        "id": "fHb9j_l6JHdk"
      },
      "outputs": [],
      "source": [
        "fig = plt.figure(figsize=(10,10))\n",
        " \n",
        "# choose projection 3d for creating a 3d graph\n",
        "axis = fig.add_subplot(111, projection='3d')\n",
        " \n",
        "# x[:,0]is pc1,x[:,1] is pc2 while x[:,2] is pc3\n",
        "axis.scatter(x[:,0],x[:,1],x[:,2], c=encoded_labels,cmap='plasma')\n",
        "axis.set_xlabel(\"PC1\", fontsize=10)\n",
        "axis.set_ylabel(\"PC2\", fontsize=10)\n",
        "axis.set_zlabel(\"PC3\", fontsize=10)"
      ]
    },
    {
      "cell_type": "markdown",
      "metadata": {
        "id": "GN3C5AEKJHdk"
      },
      "source": [
        "Mesmo com as features menos relevantes removidas, ainda há indecisão na separação, mas vamos testar dessa forma."
      ]
    },
    {
      "cell_type": "markdown",
      "metadata": {
        "tags": [],
        "id": "9N_G8GAIz1Zc"
      },
      "source": [
        "### Modelo"
      ]
    },
    {
      "cell_type": "code",
      "execution_count": null,
      "metadata": {
        "id": "wnK7lBv7ivrs"
      },
      "outputs": [],
      "source": [
        "# Setup do modelo\n",
        "model = LogisticRegression(multi_class='multinomial', solver='lbfgs', max_iter=1000, random_state=SEED)\n",
        "\n",
        "# Treinamento\n",
        "model.fit(X_train_dropped, y_train_dropped)"
      ]
    },
    {
      "cell_type": "markdown",
      "metadata": {
        "id": "B9WMzV78ivrs"
      },
      "source": [
        "### Teste"
      ]
    },
    {
      "cell_type": "code",
      "execution_count": null,
      "metadata": {
        "id": "IRHb4-zjivrs"
      },
      "outputs": [],
      "source": [
        "model.score(X_test_dropped, y_test_dropped)"
      ]
    },
    {
      "cell_type": "code",
      "execution_count": null,
      "metadata": {
        "id": "7I8Vnlwfivrs"
      },
      "outputs": [],
      "source": [
        "y_pred = model.predict(X_test_dropped)\n",
        "print(metrics.classification_report(y_test_dropped, y_pred))"
      ]
    },
    {
      "cell_type": "code",
      "execution_count": null,
      "metadata": {
        "id": "DLaoi-Njivrs"
      },
      "outputs": [],
      "source": [
        "fig,ax = plt.subplots(figsize=(10,10))\n",
        "ax.set_title(\"Matriz de confusão\")\n",
        "conf_mat = metrics.confusion_matrix(y_test_dropped, y_pred,normalize='true')\n",
        "disp = metrics.ConfusionMatrixDisplay(confusion_matrix=conf_mat, display_labels=classes)\n",
        "disp.plot(ax=ax)\n",
        "plt.show()"
      ]
    },
    {
      "cell_type": "markdown",
      "metadata": {
        "id": "jEd5GPnhivrt"
      },
      "source": [
        "### Conclusão"
      ]
    },
    {
      "cell_type": "markdown",
      "metadata": {
        "id": "zoAERQCQivrt"
      },
      "source": [
        "Não foi possível obter melhorias no modelo removendo algumas colunas, principalmente devido ao desbalanceamento do dataset. Assim, vamos tentar mesclar as abordagens: reduzir o número de casos e remover features menos importantes."
      ]
    },
    {
      "cell_type": "markdown",
      "metadata": {
        "id": "hsx7bCAFNpt9"
      },
      "source": [
        "## Modelo com mudança nas colunas e no balanceamento do dataset"
      ]
    },
    {
      "cell_type": "markdown",
      "metadata": {
        "id": "qSJFzom0OBzj"
      },
      "source": [
        "Para este modelo, vamos reduzir o número de exemplos das classes A e F e remover as colunas menos relevantes para a classificação."
      ]
    },
    {
      "cell_type": "code",
      "execution_count": null,
      "metadata": {
        "id": "gjQG-OXDOBzj"
      },
      "outputs": [],
      "source": [
        "# Mudanças no dataset\n",
        "balanced_dataset = avila_train.drop(avila_train.query(\"Class == 'A'\").sample(frac=0.7).index)\n",
        "balanced_dataset = balanced_dataset.drop(balanced_dataset.query(\"Class == 'F'\").sample(frac=0.5).index)\n",
        "balanced_dataset.shape\n",
        "\n",
        "X_train_balanced = balanced_dataset.iloc[:, :-1]\n",
        "y_train_balanced = balanced_dataset.iloc[:, -1]"
      ]
    },
    {
      "cell_type": "markdown",
      "metadata": {
        "id": "tJHch2ykNpuD"
      },
      "source": [
        "### Análise utilizando PCA"
      ]
    },
    {
      "cell_type": "markdown",
      "metadata": {
        "id": "2sjKmmamNpuD"
      },
      "source": [
        "Vamos utilizar o PCA novamente para verificar se o dataset balanceado e com colunas removidas consegue uma melhor separação."
      ]
    },
    {
      "cell_type": "code",
      "execution_count": null,
      "metadata": {
        "id": "q1yBHBibNpuD"
      },
      "outputs": [],
      "source": [
        "avila_tr_A = balanced_dataset.query(\"Class == 'A'\")\n",
        "avila_tr_F = balanced_dataset.query(\"Class == 'F'\")\n",
        "avila_tr_A_F = pd.concat([avila_tr_A, avila_tr_F], axis=0)\n",
        "\n",
        "X_train_A_F = avila_tr_A_F.iloc[:, :-1]\n",
        "y_train_A_F = avila_tr_A_F.iloc[:, -1]"
      ]
    },
    {
      "cell_type": "markdown",
      "metadata": {
        "id": "Ayy7UOfcNpuD"
      },
      "source": [
        "Como os dados já estão normalizados, podemos partir para o \"fit\" e o \"transform\" no PCA"
      ]
    },
    {
      "cell_type": "code",
      "execution_count": null,
      "metadata": {
        "id": "7sgzMs5xNpuE"
      },
      "outputs": [],
      "source": [
        "principal = PCA(n_components=3)\n",
        "principal.fit(X_train_A_F)\n",
        "x = principal.transform(X_train_A_F)\n",
        "x.shape"
      ]
    },
    {
      "cell_type": "markdown",
      "metadata": {
        "id": "qq0vl2G1NpuE"
      },
      "source": [
        "O número de features foi reduzida para 3. Com o PCA feito, podemos plotar um gráfico para verificar se os componentes principais conseguem separar as classes A e F."
      ]
    },
    {
      "cell_type": "code",
      "execution_count": null,
      "metadata": {
        "id": "4XKlGVXENpuE"
      },
      "outputs": [],
      "source": [
        "le = preprocessing.LabelEncoder()\n",
        "le.fit(y_train_A_F)\n",
        "encoded_labels = le.transform(y_train_A_F)\n",
        "encoded_labels"
      ]
    },
    {
      "cell_type": "code",
      "execution_count": null,
      "metadata": {
        "id": "rvaHzzx3NpuE"
      },
      "outputs": [],
      "source": [
        "plt.figure(figsize=(10,10))\n",
        "colors = np.random.rand(6247)\n",
        "plt.scatter(x=x[:,0], y=x[:,1], c=encoded_labels, cmap='plasma')\n",
        "plt.xlabel('pc1')\n",
        "plt.ylabel('pc2')"
      ]
    },
    {
      "cell_type": "code",
      "execution_count": null,
      "metadata": {
        "id": "dS5wPL4pNpuE"
      },
      "outputs": [],
      "source": [
        "from mpl_toolkits.mplot3d import Axes3D\n",
        "fig = plt.figure(figsize=(10,10))\n",
        " \n",
        "# choose projection 3d for creating a 3d graph\n",
        "axis = fig.add_subplot(111, projection='3d')\n",
        " \n",
        "# x[:,0]is pc1,x[:,1] is pc2 while x[:,2] is pc3\n",
        "axis.scatter(x[:,0],x[:,1],x[:,2], c=encoded_labels,cmap='plasma')\n",
        "axis.set_xlabel(\"PC1\", fontsize=10)\n",
        "axis.set_ylabel(\"PC2\", fontsize=10)\n",
        "axis.set_zlabel(\"PC3\", fontsize=10)"
      ]
    },
    {
      "cell_type": "markdown",
      "metadata": {
        "id": "bo_IpJS3NpuE"
      },
      "source": [
        "Utilizando o PCA foi possível ver que, mesmo utilizando os principais componentes para separar os dados, eles ainda não são bem separáveis. Assim, vamos tentar reduzir o número de features, mantendo as mais relevantes de acordo com o artigo que acompanha o projeto."
      ]
    },
    {
      "cell_type": "markdown",
      "metadata": {
        "id": "iCKkjjhoNpuE"
      },
      "source": [
        "### Removendo colunas do dataset"
      ]
    },
    {
      "cell_type": "code",
      "execution_count": null,
      "metadata": {
        "id": "Qgs_Vk_6NpuE"
      },
      "outputs": [],
      "source": [
        "balanced_dataset_dropped = balanced_dataset.drop(columns=[\"modular ratio/ interlinear spacing\", \"weight\", \"modular ratio\", \"interlinear spacing\"])\n",
        "avila_ts_dropped = avila_test.drop(columns=[\"modular ratio/ interlinear spacing\", \"weight\", \"modular ratio\", \"interlinear spacing\"])\n",
        "\n",
        "X_train_dropped = balanced_dataset_dropped.iloc[:, :-1]\n",
        "y_train_dropped = balanced_dataset_dropped.iloc[:, -1]\n",
        "\n",
        "X_test_dropped = avila_ts_dropped.iloc[:, :-1]\n",
        "y_test_dropped = avila_ts_dropped.iloc[:, -1]"
      ]
    },
    {
      "cell_type": "markdown",
      "metadata": {
        "id": "TSEx4pspNpuE"
      },
      "source": [
        "### Análise utilizando PCA para dataset com colunas removidas"
      ]
    },
    {
      "cell_type": "code",
      "execution_count": null,
      "metadata": {
        "id": "M-I1jOTtNpuF"
      },
      "outputs": [],
      "source": [
        "avila_tr_A_dropped = balanced_dataset_dropped.query(\"Class == 'A'\")\n",
        "avila_tr_F_dropped = balanced_dataset_dropped.query(\"Class == 'F'\")\n",
        "avila_tr_A_F_dropped = pd.concat([avila_tr_A_dropped, avila_tr_F_dropped], axis=0)\n",
        "\n",
        "X_train_A_F_dropped = avila_tr_A_F_dropped.iloc[:, :-1]\n",
        "y_train_A_F_dropped = avila_tr_A_F_dropped.iloc[:, -1]"
      ]
    },
    {
      "cell_type": "code",
      "execution_count": null,
      "metadata": {
        "id": "QhMmlqlENpuF"
      },
      "outputs": [],
      "source": [
        "principal = PCA(n_components=3)\n",
        "principal.fit(X_train_A_F_dropped)\n",
        "x = principal.transform(X_train_A_F_dropped)\n",
        "x.shape"
      ]
    },
    {
      "cell_type": "markdown",
      "metadata": {
        "id": "1xhq_94YNpuF"
      },
      "source": [
        "O número de features foi reduzida para 3. Com o PCA feito, podemos plotar um gráfico para verificar se os componentes principais conseguem separar as classes A e F."
      ]
    },
    {
      "cell_type": "code",
      "execution_count": null,
      "metadata": {
        "id": "IiIeFXSRNpuF"
      },
      "outputs": [],
      "source": [
        "le = preprocessing.LabelEncoder()\n",
        "le.fit(y_train_A_F_dropped)\n",
        "encoded_labels = le.transform(y_train_A_F_dropped)\n",
        "encoded_labels"
      ]
    },
    {
      "cell_type": "code",
      "execution_count": null,
      "metadata": {
        "id": "ntygcDsWNpuF"
      },
      "outputs": [],
      "source": [
        "plt.figure(figsize=(10,10))\n",
        "colors = np.random.rand(6247)\n",
        "plt.scatter(x=x[:,0], y=x[:,1], c=encoded_labels, cmap='plasma')\n",
        "plt.xlabel('pc1')\n",
        "plt.ylabel('pc2')"
      ]
    },
    {
      "cell_type": "code",
      "execution_count": null,
      "metadata": {
        "id": "XvSC4-dfNpuF"
      },
      "outputs": [],
      "source": [
        "from mpl_toolkits.mplot3d import Axes3D\n",
        "fig = plt.figure(figsize=(10,10))\n",
        " \n",
        "# choose projection 3d for creating a 3d graph\n",
        "axis = fig.add_subplot(111, projection='3d')\n",
        " \n",
        "# x[:,0]is pc1,x[:,1] is pc2 while x[:,2] is pc3\n",
        "axis.scatter(x[:,0],x[:,1],x[:,2], c=encoded_labels,cmap='plasma')\n",
        "axis.set_xlabel(\"PC1\", fontsize=10)\n",
        "axis.set_ylabel(\"PC2\", fontsize=10)\n",
        "axis.set_zlabel(\"PC3\", fontsize=10)"
      ]
    },
    {
      "cell_type": "markdown",
      "metadata": {
        "id": "6ec2aLFANpuF"
      },
      "source": [
        "Dessa vez é possível ver um grau um pouco maior de separação, principalmente se considerarmos os exemplos que estão mais distantes do bloco que concentra a maioria dos exemplos."
      ]
    },
    {
      "cell_type": "markdown",
      "metadata": {
        "id": "ZixcEiGZNpuF"
      },
      "source": [
        "### Modelo"
      ]
    },
    {
      "cell_type": "code",
      "execution_count": null,
      "metadata": {
        "id": "-9fTSw_TNpuF"
      },
      "outputs": [],
      "source": [
        "# Setup do modelo\n",
        "model = LogisticRegression(multi_class='multinomial', solver='lbfgs', max_iter=1000, random_state=SEED)\n",
        "\n",
        "# Treinamento\n",
        "model.fit(X_train_dropped, y_train_dropped)"
      ]
    },
    {
      "cell_type": "markdown",
      "metadata": {
        "id": "dCk8N2TlNpuG"
      },
      "source": [
        "### Teste"
      ]
    },
    {
      "cell_type": "code",
      "execution_count": null,
      "metadata": {
        "id": "yFh7R5nRNpuG"
      },
      "outputs": [],
      "source": [
        "model.score(X_test_dropped, y_test_dropped)"
      ]
    },
    {
      "cell_type": "code",
      "execution_count": null,
      "metadata": {
        "id": "iVXgt_D9NpuG"
      },
      "outputs": [],
      "source": [
        "y_pred = model.predict(X_test_dropped)\n",
        "print(metrics.classification_report(y_test_dropped, y_pred))"
      ]
    },
    {
      "cell_type": "code",
      "execution_count": null,
      "metadata": {
        "id": "lyBTw_PnNpuG"
      },
      "outputs": [],
      "source": [
        "fig,ax = plt.subplots(figsize=(10,10))\n",
        "ax.set_title(\"Matriz de confusão\")\n",
        "conf_mat = metrics.confusion_matrix(y_test_dropped, y_pred,normalize='true')\n",
        "disp = metrics.ConfusionMatrixDisplay(confusion_matrix=conf_mat, display_labels=classes)\n",
        "disp.plot(ax=ax)\n",
        "plt.show()"
      ]
    },
    {
      "cell_type": "markdown",
      "metadata": {
        "id": "ERMvJl1GNpuG"
      },
      "source": [
        "### Conclusão"
      ]
    },
    {
      "cell_type": "markdown",
      "metadata": {
        "id": "1_kiDPqhNpuG"
      },
      "source": [
        "Mesmo com as mudanças, não foi possível melhorar a acurácia. Além disso, com menos exemplos no treinamento, o modelo não conseguiu informações suficientes para classificar A e F, o que também contribuiu para piorar a acurácia."
      ]
    },
    {
      "cell_type": "markdown",
      "metadata": {
        "id": "aKHTkOfOcpoI"
      },
      "source": [
        "## Modelo feito manualmente"
      ]
    },
    {
      "cell_type": "markdown",
      "metadata": {
        "id": "viwX4lrecpoO"
      },
      "source": [
        "Para este modelo, vamos programar uma classe para realizar uma avaliação \"one vs rest\"."
      ]
    },
    {
      "cell_type": "code",
      "execution_count": null,
      "metadata": {
        "id": "TwQ-yfO2RU-F"
      },
      "outputs": [],
      "source": [
        "class All_datasets:\n",
        "  def __init__(self, dataset_tr, dataset_ts):\n",
        "    self.dataset_tr = dataset_tr\n",
        "    self.dataset_ts = dataset_ts\n",
        "    self.classes_tr = self.dataset_tr['Class'].unique()\n",
        "    self.classes_ts = self.dataset_ts['Class'].unique()\n",
        "    self.datasets_tr = dict()\n",
        "    self.datasets_ts = dict()\n",
        "    self.X_train = dict()\n",
        "    self.y_train = dict()\n",
        "    self.X_test = dict()\n",
        "    self.y_test = dict()\n",
        "    self.models = dict()\n",
        "  \n",
        "  def setup_tr(self):\n",
        "    for classe in self.classes_tr:\n",
        "      copied_dataset_tr = self.dataset_tr.copy(deep=True)\n",
        "      copied_dataset_tr.loc[copied_dataset_tr['Class'] == classe, \"Class\"] = 1\n",
        "      copied_dataset_tr.loc[copied_dataset_tr['Class'] != 1, \"Class\"] = 0\n",
        "      copied_dataset_tr['Class'] = copied_dataset_tr['Class'].astype(int)\n",
        "      self.datasets_tr[classe] = copied_dataset_tr\n",
        "  \n",
        "  def setup_ts(self): \n",
        "    for classe in self.classes_ts:\n",
        "      copied_dataset_ts = self.dataset_ts.copy(deep=True)\n",
        "      copied_dataset_ts.loc[copied_dataset_ts['Class'] == classe, \"Class\"] = 1\n",
        "      copied_dataset_ts.loc[copied_dataset_ts['Class'] != 1, \"Class\"] = 0\n",
        "      copied_dataset_ts['Class'] = copied_dataset_ts['Class'].astype(int)\n",
        "      self.datasets_ts[classe] = copied_dataset_ts\n",
        "\n",
        "  def setup(self):\n",
        "    self.setup_tr()\n",
        "    self.setup_ts()\n",
        "\n",
        "  def check_dataset_tr(self, classe):\n",
        "    print(self.datasets_tr[classe])\n",
        "  \n",
        "  def check_dataset_ts(self, classe):\n",
        "    print(self.datasets_ts[classe])\n",
        "\n",
        "  def split_train_test(self):\n",
        "    for classe in self.classes_tr:\n",
        "      X_train = self.datasets_tr[classe].iloc[:, :-1]\n",
        "      y_train = self.datasets_tr[classe].iloc[:, -1]\n",
        "      self.X_train[classe] = X_train\n",
        "      self.y_train[classe] = y_train\n",
        "\n",
        "    for classe in self.classes_ts:\n",
        "      X_test = self.datasets_ts[classe].iloc[:, :-1]\n",
        "      y_test = self.datasets_ts[classe].iloc[:, -1]\n",
        "      self.X_test[classe] = X_test\n",
        "      self.y_test[classe] = y_test\n",
        "\n",
        "  def create_models(self):\n",
        "    for classe in self.classes_tr:\n",
        "      self.models[classe] = LogisticRegression(max_iter=1000, random_state=SEED)\n",
        "  \n",
        "  def fit(self):\n",
        "    for classe in self.classes_tr:\n",
        "      self.models[classe].fit(self.X_train[classe], self.y_train[classe])\n",
        "  \n",
        "  def individual_score(self):\n",
        "    for classe in self.classes_ts:\n",
        "      print(\"Classe {cls} teve score: {scr}\".format(cls = classe, scr = self.models[classe].score(self.X_test[classe], self.y_test[classe])))\n",
        "\n",
        "  def predict(self):\n",
        "    predicted_probas = dict()\n",
        "    for classe in self.classes_ts:\n",
        "      predicted_probas[classe] = []\n",
        "      class_predict_proba = self.models[classe].predict_proba(self.X_test[classe])\n",
        "      for prob in class_predict_proba:\n",
        "        predicted_probas[classe].append(prob[1])\n",
        "\n",
        "    predicted_list = []\n",
        "    for i in range(len(predicted_probas[\"A\"])):\n",
        "      predicted = []\n",
        "      for classe in self.classes_ts:\n",
        "        predicted.append((classe, predicted_probas[classe][i]))\n",
        "      predicted_list.append(predicted)\n",
        "    \n",
        "    final_predict = []\n",
        "    for lst in predicted_list:\n",
        "      final_predict.append(max(lst, key=lambda item:item[1])[0])\n",
        "    \n",
        "    return final_predict\n"
      ]
    },
    {
      "cell_type": "markdown",
      "metadata": {
        "id": "MyIey7WgcpoQ"
      },
      "source": [
        "### Modelo"
      ]
    },
    {
      "cell_type": "code",
      "execution_count": null,
      "metadata": {
        "id": "U2GH5AqSXUvm"
      },
      "outputs": [],
      "source": [
        "# Setup do modelo\n",
        "all_datasets = All_datasets(avila_train, avila_test)\n",
        "all_datasets.setup()\n",
        "all_datasets.split_train_test()\n",
        "all_datasets.create_models()\n",
        "\n",
        "# Treinamento\n",
        "all_datasets.fit()"
      ]
    },
    {
      "cell_type": "markdown",
      "metadata": {
        "id": "1MSMsUZscpoR"
      },
      "source": [
        "### Teste"
      ]
    },
    {
      "cell_type": "code",
      "execution_count": null,
      "metadata": {
        "id": "vBdrKKcFoPFR"
      },
      "outputs": [],
      "source": [
        "all_datasets.individual_score()"
      ]
    },
    {
      "cell_type": "markdown",
      "metadata": {
        "id": "tTQxWnkpoREg"
      },
      "source": [
        "Pelos scores, é possível ver que, ao menos a nível individual, os modelos conseguem diferenciar entre exemplos que pertencem às classes e exemplos que não pertencem, realizando uma avaliação binária."
      ]
    },
    {
      "cell_type": "code",
      "execution_count": null,
      "metadata": {
        "id": "hKcV_ZnTogtf"
      },
      "outputs": [],
      "source": [
        "all_datasets_pred = all_datasets.predict()\n",
        "print(metrics.classification_report(y_test, all_datasets_pred))"
      ]
    },
    {
      "cell_type": "code",
      "execution_count": null,
      "metadata": {
        "id": "3KG9e5AcnQze"
      },
      "outputs": [],
      "source": [
        "fig,ax = plt.subplots(figsize=(10,10))\n",
        "ax.set_title(\"Matriz de confusão\")\n",
        "conf_mat = metrics.confusion_matrix(y_test, all_datasets_pred, normalize='true')\n",
        "disp = metrics.ConfusionMatrixDisplay(confusion_matrix=conf_mat, display_labels=classes)\n",
        "disp.plot(ax=ax)\n",
        "plt.show()"
      ]
    },
    {
      "cell_type": "markdown",
      "metadata": {
        "id": "k8aPgMj9cpoS"
      },
      "source": [
        "### Conclusão"
      ]
    },
    {
      "cell_type": "markdown",
      "metadata": {
        "id": "QRLF7Zz4osDV"
      },
      "source": [
        "Ainda que os modelos performem bem em avaliações binárias, o resultado permanece ruim quando eles são unidos. Isso pode ter ligação com a forma escolhida para uni-los, já que ela foi feita escolhendo como classe final aquela que possui maior probabilidade. Além disso, pelos scores individuais, é possível perceber que as classes que possuem mais exemplos (A, E e F) são as que têm menor score, o que indica que o número de casos pode estar introduzindo um viés na classificação dos exemplos."
      ]
    },
    {
      "cell_type": "markdown",
      "metadata": {
        "id": "9Q4_6wtH5vT2",
        "tags": []
      },
      "source": [
        "## Conclusão geral"
      ]
    },
    {
      "cell_type": "markdown",
      "metadata": {
        "id": "A_U-t9e3z1aa"
      },
      "source": [
        "Ainda que os modelos performem bem em avaliações binárias, o resultado permanece ruim quando eles são unidos. Isso pode ter ligação com a forma escolhida para uni-los, já que ela foi feita escolhendo como classe final aquela que possui maior probabilidade. Além disso, pelos scores individuais, é possível perceber que as classes que possuem mais exemplos (A, E e F) são as que têm menor score, o que indica que o número de casos pode estar introduzindo um viés na classificação dos exemplos."
      ]
    },
    {
      "cell_type": "markdown",
      "metadata": {
        "id": "2QytQS9SkjgM"
      },
      "source": [
        "# Classificação usando kNN"
      ]
    },
    {
      "cell_type": "markdown",
      "metadata": {
        "id": "Pl5IbST2kjgP"
      },
      "source": [
        "## Bibliotecas usadas:\n",
        "- scikit-learn\n",
        "  - https://scikit-learn.org/stable/modules/generated/sklearn.neighbors.KNeighborsClassifier.html\n",
        "- pandas"
      ]
    },
    {
      "cell_type": "markdown",
      "metadata": {
        "id": "sjfY4N4oUrKd",
        "jp-MarkdownHeadingCollapsed": true,
        "tags": []
      },
      "source": [
        "## Modelo Base"
      ]
    },
    {
      "cell_type": "markdown",
      "metadata": {
        "id": "FY2rh3FO6Hnr"
      },
      "source": [
        "Antes de tentar encontrar o melhor parâmetro k para o modelo, iremos treinar um modelo mais básico com k=3. Dessa forma, poderemos perceber o ganho de desempenho ocasioando por uma seleção mais cuidadosa do parâmetro."
      ]
    },
    {
      "cell_type": "code",
      "execution_count": null,
      "metadata": {
        "colab": {
          "base_uri": "https://localhost:8080/",
          "height": 95
        },
        "id": "uoWxyiE36Hnu",
        "outputId": "21ea747f-3b1b-4203-f4dd-6104a049c649"
      },
      "outputs": [
        {
          "output_type": "execute_result",
          "data": {
            "text/plain": [
              "KNeighborsClassifier(n_neighbors=3)"
            ],
            "text/html": [
              "<style>#sk-container-id-9 {color: black;background-color: white;}#sk-container-id-9 pre{padding: 0;}#sk-container-id-9 div.sk-toggleable {background-color: white;}#sk-container-id-9 label.sk-toggleable__label {cursor: pointer;display: block;width: 100%;margin-bottom: 0;padding: 0.3em;box-sizing: border-box;text-align: center;}#sk-container-id-9 label.sk-toggleable__label-arrow:before {content: \"▸\";float: left;margin-right: 0.25em;color: #696969;}#sk-container-id-9 label.sk-toggleable__label-arrow:hover:before {color: black;}#sk-container-id-9 div.sk-estimator:hover label.sk-toggleable__label-arrow:before {color: black;}#sk-container-id-9 div.sk-toggleable__content {max-height: 0;max-width: 0;overflow: hidden;text-align: left;background-color: #f0f8ff;}#sk-container-id-9 div.sk-toggleable__content pre {margin: 0.2em;color: black;border-radius: 0.25em;background-color: #f0f8ff;}#sk-container-id-9 input.sk-toggleable__control:checked~div.sk-toggleable__content {max-height: 200px;max-width: 100%;overflow: auto;}#sk-container-id-9 input.sk-toggleable__control:checked~label.sk-toggleable__label-arrow:before {content: \"▾\";}#sk-container-id-9 div.sk-estimator input.sk-toggleable__control:checked~label.sk-toggleable__label {background-color: #d4ebff;}#sk-container-id-9 div.sk-label input.sk-toggleable__control:checked~label.sk-toggleable__label {background-color: #d4ebff;}#sk-container-id-9 input.sk-hidden--visually {border: 0;clip: rect(1px 1px 1px 1px);clip: rect(1px, 1px, 1px, 1px);height: 1px;margin: -1px;overflow: hidden;padding: 0;position: absolute;width: 1px;}#sk-container-id-9 div.sk-estimator {font-family: monospace;background-color: #f0f8ff;border: 1px dotted black;border-radius: 0.25em;box-sizing: border-box;margin-bottom: 0.5em;}#sk-container-id-9 div.sk-estimator:hover {background-color: #d4ebff;}#sk-container-id-9 div.sk-parallel-item::after {content: \"\";width: 100%;border-bottom: 1px solid gray;flex-grow: 1;}#sk-container-id-9 div.sk-label:hover label.sk-toggleable__label {background-color: #d4ebff;}#sk-container-id-9 div.sk-serial::before {content: \"\";position: absolute;border-left: 1px solid gray;box-sizing: border-box;top: 0;bottom: 0;left: 50%;z-index: 0;}#sk-container-id-9 div.sk-serial {display: flex;flex-direction: column;align-items: center;background-color: white;padding-right: 0.2em;padding-left: 0.2em;position: relative;}#sk-container-id-9 div.sk-item {position: relative;z-index: 1;}#sk-container-id-9 div.sk-parallel {display: flex;align-items: stretch;justify-content: center;background-color: white;position: relative;}#sk-container-id-9 div.sk-item::before, #sk-container-id-9 div.sk-parallel-item::before {content: \"\";position: absolute;border-left: 1px solid gray;box-sizing: border-box;top: 0;bottom: 0;left: 50%;z-index: -1;}#sk-container-id-9 div.sk-parallel-item {display: flex;flex-direction: column;z-index: 1;position: relative;background-color: white;}#sk-container-id-9 div.sk-parallel-item:first-child::after {align-self: flex-end;width: 50%;}#sk-container-id-9 div.sk-parallel-item:last-child::after {align-self: flex-start;width: 50%;}#sk-container-id-9 div.sk-parallel-item:only-child::after {width: 0;}#sk-container-id-9 div.sk-dashed-wrapped {border: 1px dashed gray;margin: 0 0.4em 0.5em 0.4em;box-sizing: border-box;padding-bottom: 0.4em;background-color: white;}#sk-container-id-9 div.sk-label label {font-family: monospace;font-weight: bold;display: inline-block;line-height: 1.2em;}#sk-container-id-9 div.sk-label-container {text-align: center;}#sk-container-id-9 div.sk-container {/* jupyter's `normalize.less` sets `[hidden] { display: none; }` but bootstrap.min.css set `[hidden] { display: none !important; }` so we also need the `!important` here to be able to override the default hidden behavior on the sphinx rendered scikit-learn.org. See: https://github.com/scikit-learn/scikit-learn/issues/21755 */display: inline-block !important;position: relative;}#sk-container-id-9 div.sk-text-repr-fallback {display: none;}</style><div id=\"sk-container-id-9\" class=\"sk-top-container\"><div class=\"sk-text-repr-fallback\"><pre>KNeighborsClassifier(n_neighbors=3)</pre><b>In a Jupyter environment, please rerun this cell to show the HTML representation or trust the notebook. <br />On GitHub, the HTML representation is unable to render, please try loading this page with nbviewer.org.</b></div><div class=\"sk-container\" hidden><div class=\"sk-item\"><div class=\"sk-estimator sk-toggleable\"><input class=\"sk-toggleable__control sk-hidden--visually\" id=\"sk-estimator-id-13\" type=\"checkbox\" checked><label for=\"sk-estimator-id-13\" class=\"sk-toggleable__label sk-toggleable__label-arrow\">KNeighborsClassifier</label><div class=\"sk-toggleable__content\"><pre>KNeighborsClassifier(n_neighbors=3)</pre></div></div></div></div></div>"
            ]
          },
          "metadata": {},
          "execution_count": 63
        }
      ],
      "source": [
        "model_knn = KNeighborsClassifier(n_neighbors=3)\n",
        "model_knn.fit(X_train,y_train)"
      ]
    },
    {
      "cell_type": "code",
      "execution_count": null,
      "metadata": {
        "colab": {
          "base_uri": "https://localhost:8080/"
        },
        "id": "KA1S9nnM6Hnw",
        "outputId": "e99b6787-f1d3-4752-d7ab-738343c592a4"
      },
      "outputs": [
        {
          "output_type": "stream",
          "name": "stdout",
          "text": [
            "train score:  0.8701821668264621\n",
            "test score:  0.7578806170355467\n"
          ]
        }
      ],
      "source": [
        "train_score = model_knn.score(X_train,y_train)\n",
        "test_score  = model_knn.score(X_test, y_test)\n",
        "\n",
        "print('train score: ', train_score)\n",
        "print('test score: ', test_score)"
      ]
    },
    {
      "cell_type": "markdown",
      "metadata": {
        "id": "pegBXyc_UuyD",
        "jp-MarkdownHeadingCollapsed": true,
        "tags": []
      },
      "source": [
        "## Escolhendo os Melhores Parâmetros"
      ]
    },
    {
      "cell_type": "markdown",
      "metadata": {
        "id": "PNzd0_pvVkmT"
      },
      "source": [
        " Para alcançar melhores resultados, buscaremos o valor de K que traz os melhores resultados para o modelo. Exploraremos os resultados de F1-Score, Precision e Recall de modelos sobre um conjunto de valores entre 1 e 50. Para essa tarefa, usaremos o GridSearch, que faz uma busca exaustiva no espaço de valores usando validação cruzada, eliminando a necessidade de se separar uma parte do conjunto de treino para realizar a validação do modelo."
      ]
    },
    {
      "cell_type": "code",
      "execution_count": null,
      "metadata": {
        "id": "uDqMR2eM6Hny"
      },
      "outputs": [],
      "source": [
        "k_values = range(1,50)\n",
        "scores = ['precision_macro','recall_macro','f1_macro']"
      ]
    },
    {
      "cell_type": "code",
      "execution_count": null,
      "metadata": {
        "colab": {
          "base_uri": "https://localhost:8080/",
          "height": 172
        },
        "id": "lpYxpw_W6Hnz",
        "outputId": "ef9aae48-f8aa-428d-cf7e-eef426920b90"
      },
      "outputs": [
        {
          "output_type": "execute_result",
          "data": {
            "text/plain": [
              "GridSearchCV(cv=5, estimator=KNeighborsClassifier(), n_jobs=-1,\n",
              "             param_grid={'n_neighbors': range(1, 50)}, refit=False,\n",
              "             return_train_score=True,\n",
              "             scoring=['precision_macro', 'recall_macro', 'f1_macro'])"
            ],
            "text/html": [
              "<style>#sk-container-id-10 {color: black;background-color: white;}#sk-container-id-10 pre{padding: 0;}#sk-container-id-10 div.sk-toggleable {background-color: white;}#sk-container-id-10 label.sk-toggleable__label {cursor: pointer;display: block;width: 100%;margin-bottom: 0;padding: 0.3em;box-sizing: border-box;text-align: center;}#sk-container-id-10 label.sk-toggleable__label-arrow:before {content: \"▸\";float: left;margin-right: 0.25em;color: #696969;}#sk-container-id-10 label.sk-toggleable__label-arrow:hover:before {color: black;}#sk-container-id-10 div.sk-estimator:hover label.sk-toggleable__label-arrow:before {color: black;}#sk-container-id-10 div.sk-toggleable__content {max-height: 0;max-width: 0;overflow: hidden;text-align: left;background-color: #f0f8ff;}#sk-container-id-10 div.sk-toggleable__content pre {margin: 0.2em;color: black;border-radius: 0.25em;background-color: #f0f8ff;}#sk-container-id-10 input.sk-toggleable__control:checked~div.sk-toggleable__content {max-height: 200px;max-width: 100%;overflow: auto;}#sk-container-id-10 input.sk-toggleable__control:checked~label.sk-toggleable__label-arrow:before {content: \"▾\";}#sk-container-id-10 div.sk-estimator input.sk-toggleable__control:checked~label.sk-toggleable__label {background-color: #d4ebff;}#sk-container-id-10 div.sk-label input.sk-toggleable__control:checked~label.sk-toggleable__label {background-color: #d4ebff;}#sk-container-id-10 input.sk-hidden--visually {border: 0;clip: rect(1px 1px 1px 1px);clip: rect(1px, 1px, 1px, 1px);height: 1px;margin: -1px;overflow: hidden;padding: 0;position: absolute;width: 1px;}#sk-container-id-10 div.sk-estimator {font-family: monospace;background-color: #f0f8ff;border: 1px dotted black;border-radius: 0.25em;box-sizing: border-box;margin-bottom: 0.5em;}#sk-container-id-10 div.sk-estimator:hover {background-color: #d4ebff;}#sk-container-id-10 div.sk-parallel-item::after {content: \"\";width: 100%;border-bottom: 1px solid gray;flex-grow: 1;}#sk-container-id-10 div.sk-label:hover label.sk-toggleable__label {background-color: #d4ebff;}#sk-container-id-10 div.sk-serial::before {content: \"\";position: absolute;border-left: 1px solid gray;box-sizing: border-box;top: 0;bottom: 0;left: 50%;z-index: 0;}#sk-container-id-10 div.sk-serial {display: flex;flex-direction: column;align-items: center;background-color: white;padding-right: 0.2em;padding-left: 0.2em;position: relative;}#sk-container-id-10 div.sk-item {position: relative;z-index: 1;}#sk-container-id-10 div.sk-parallel {display: flex;align-items: stretch;justify-content: center;background-color: white;position: relative;}#sk-container-id-10 div.sk-item::before, #sk-container-id-10 div.sk-parallel-item::before {content: \"\";position: absolute;border-left: 1px solid gray;box-sizing: border-box;top: 0;bottom: 0;left: 50%;z-index: -1;}#sk-container-id-10 div.sk-parallel-item {display: flex;flex-direction: column;z-index: 1;position: relative;background-color: white;}#sk-container-id-10 div.sk-parallel-item:first-child::after {align-self: flex-end;width: 50%;}#sk-container-id-10 div.sk-parallel-item:last-child::after {align-self: flex-start;width: 50%;}#sk-container-id-10 div.sk-parallel-item:only-child::after {width: 0;}#sk-container-id-10 div.sk-dashed-wrapped {border: 1px dashed gray;margin: 0 0.4em 0.5em 0.4em;box-sizing: border-box;padding-bottom: 0.4em;background-color: white;}#sk-container-id-10 div.sk-label label {font-family: monospace;font-weight: bold;display: inline-block;line-height: 1.2em;}#sk-container-id-10 div.sk-label-container {text-align: center;}#sk-container-id-10 div.sk-container {/* jupyter's `normalize.less` sets `[hidden] { display: none; }` but bootstrap.min.css set `[hidden] { display: none !important; }` so we also need the `!important` here to be able to override the default hidden behavior on the sphinx rendered scikit-learn.org. See: https://github.com/scikit-learn/scikit-learn/issues/21755 */display: inline-block !important;position: relative;}#sk-container-id-10 div.sk-text-repr-fallback {display: none;}</style><div id=\"sk-container-id-10\" class=\"sk-top-container\"><div class=\"sk-text-repr-fallback\"><pre>GridSearchCV(cv=5, estimator=KNeighborsClassifier(), n_jobs=-1,\n",
              "             param_grid={&#x27;n_neighbors&#x27;: range(1, 50)}, refit=False,\n",
              "             return_train_score=True,\n",
              "             scoring=[&#x27;precision_macro&#x27;, &#x27;recall_macro&#x27;, &#x27;f1_macro&#x27;])</pre><b>In a Jupyter environment, please rerun this cell to show the HTML representation or trust the notebook. <br />On GitHub, the HTML representation is unable to render, please try loading this page with nbviewer.org.</b></div><div class=\"sk-container\" hidden><div class=\"sk-item sk-dashed-wrapped\"><div class=\"sk-label-container\"><div class=\"sk-label sk-toggleable\"><input class=\"sk-toggleable__control sk-hidden--visually\" id=\"sk-estimator-id-14\" type=\"checkbox\" ><label for=\"sk-estimator-id-14\" class=\"sk-toggleable__label sk-toggleable__label-arrow\">GridSearchCV</label><div class=\"sk-toggleable__content\"><pre>GridSearchCV(cv=5, estimator=KNeighborsClassifier(), n_jobs=-1,\n",
              "             param_grid={&#x27;n_neighbors&#x27;: range(1, 50)}, refit=False,\n",
              "             return_train_score=True,\n",
              "             scoring=[&#x27;precision_macro&#x27;, &#x27;recall_macro&#x27;, &#x27;f1_macro&#x27;])</pre></div></div></div><div class=\"sk-parallel\"><div class=\"sk-parallel-item\"><div class=\"sk-item\"><div class=\"sk-label-container\"><div class=\"sk-label sk-toggleable\"><input class=\"sk-toggleable__control sk-hidden--visually\" id=\"sk-estimator-id-15\" type=\"checkbox\" ><label for=\"sk-estimator-id-15\" class=\"sk-toggleable__label sk-toggleable__label-arrow\">estimator: KNeighborsClassifier</label><div class=\"sk-toggleable__content\"><pre>KNeighborsClassifier()</pre></div></div></div><div class=\"sk-serial\"><div class=\"sk-item\"><div class=\"sk-estimator sk-toggleable\"><input class=\"sk-toggleable__control sk-hidden--visually\" id=\"sk-estimator-id-16\" type=\"checkbox\" ><label for=\"sk-estimator-id-16\" class=\"sk-toggleable__label sk-toggleable__label-arrow\">KNeighborsClassifier</label><div class=\"sk-toggleable__content\"><pre>KNeighborsClassifier()</pre></div></div></div></div></div></div></div></div></div></div>"
            ]
          },
          "metadata": {},
          "execution_count": 66
        }
      ],
      "source": [
        "gs = GridSearchCV(\n",
        "    KNeighborsClassifier(),\n",
        "    param_grid={'n_neighbors': k_values},\n",
        "    scoring=scores,\n",
        "    n_jobs=-1,\n",
        "    refit=False,\n",
        "    return_train_score=True,\n",
        "    cv=5\n",
        ")\n",
        "\n",
        "gs.fit(X_train,y_train)"
      ]
    },
    {
      "cell_type": "markdown",
      "metadata": {
        "jp-MarkdownHeadingCollapsed": true,
        "tags": [],
        "id": "rQSfNM_Mz1af"
      },
      "source": [
        "### Análise"
      ]
    },
    {
      "cell_type": "code",
      "execution_count": null,
      "metadata": {
        "colab": {
          "base_uri": "https://localhost:8080/",
          "height": 270
        },
        "id": "rijrq10nA7bj",
        "outputId": "f80e11f1-23e5-4a75-ba60-758d848cc5ac"
      },
      "outputs": [
        {
          "output_type": "execute_result",
          "data": {
            "text/plain": [
              "   mean_train_f1_macro  mean_test_f1_macro  mean_train_recall_macro  \\\n",
              "1             1.000000            0.739940                 1.000000   \n",
              "2             0.855714            0.688949                 0.813584   \n",
              "3             0.851243            0.709752                 0.813864   \n",
              "4             0.815066            0.677423                 0.763060   \n",
              "5             0.795160            0.672633                 0.743996   \n",
              "\n",
              "   mean_test_recall_macro  mean_train_precision_macro  \\\n",
              "1                0.720784                    1.000000   \n",
              "2                0.638692                    0.921477   \n",
              "3                0.665920                    0.897390   \n",
              "4                0.627618                    0.888523   \n",
              "5                0.624549                    0.871533   \n",
              "\n",
              "   mean_test_precision_macro  \n",
              "1                   0.766803  \n",
              "2                   0.780746  \n",
              "3                   0.777080  \n",
              "4                   0.765071  \n",
              "5                   0.756873  "
            ],
            "text/html": [
              "\n",
              "  <div id=\"df-2bad9bc0-29de-49c1-93e8-112dd6708a7d\">\n",
              "    <div class=\"colab-df-container\">\n",
              "      <div>\n",
              "<style scoped>\n",
              "    .dataframe tbody tr th:only-of-type {\n",
              "        vertical-align: middle;\n",
              "    }\n",
              "\n",
              "    .dataframe tbody tr th {\n",
              "        vertical-align: top;\n",
              "    }\n",
              "\n",
              "    .dataframe thead th {\n",
              "        text-align: right;\n",
              "    }\n",
              "</style>\n",
              "<table border=\"1\" class=\"dataframe\">\n",
              "  <thead>\n",
              "    <tr style=\"text-align: right;\">\n",
              "      <th></th>\n",
              "      <th>mean_train_f1_macro</th>\n",
              "      <th>mean_test_f1_macro</th>\n",
              "      <th>mean_train_recall_macro</th>\n",
              "      <th>mean_test_recall_macro</th>\n",
              "      <th>mean_train_precision_macro</th>\n",
              "      <th>mean_test_precision_macro</th>\n",
              "    </tr>\n",
              "  </thead>\n",
              "  <tbody>\n",
              "    <tr>\n",
              "      <th>1</th>\n",
              "      <td>1.000000</td>\n",
              "      <td>0.739940</td>\n",
              "      <td>1.000000</td>\n",
              "      <td>0.720784</td>\n",
              "      <td>1.000000</td>\n",
              "      <td>0.766803</td>\n",
              "    </tr>\n",
              "    <tr>\n",
              "      <th>2</th>\n",
              "      <td>0.855714</td>\n",
              "      <td>0.688949</td>\n",
              "      <td>0.813584</td>\n",
              "      <td>0.638692</td>\n",
              "      <td>0.921477</td>\n",
              "      <td>0.780746</td>\n",
              "    </tr>\n",
              "    <tr>\n",
              "      <th>3</th>\n",
              "      <td>0.851243</td>\n",
              "      <td>0.709752</td>\n",
              "      <td>0.813864</td>\n",
              "      <td>0.665920</td>\n",
              "      <td>0.897390</td>\n",
              "      <td>0.777080</td>\n",
              "    </tr>\n",
              "    <tr>\n",
              "      <th>4</th>\n",
              "      <td>0.815066</td>\n",
              "      <td>0.677423</td>\n",
              "      <td>0.763060</td>\n",
              "      <td>0.627618</td>\n",
              "      <td>0.888523</td>\n",
              "      <td>0.765071</td>\n",
              "    </tr>\n",
              "    <tr>\n",
              "      <th>5</th>\n",
              "      <td>0.795160</td>\n",
              "      <td>0.672633</td>\n",
              "      <td>0.743996</td>\n",
              "      <td>0.624549</td>\n",
              "      <td>0.871533</td>\n",
              "      <td>0.756873</td>\n",
              "    </tr>\n",
              "  </tbody>\n",
              "</table>\n",
              "</div>\n",
              "      <button class=\"colab-df-convert\" onclick=\"convertToInteractive('df-2bad9bc0-29de-49c1-93e8-112dd6708a7d')\"\n",
              "              title=\"Convert this dataframe to an interactive table.\"\n",
              "              style=\"display:none;\">\n",
              "        \n",
              "  <svg xmlns=\"http://www.w3.org/2000/svg\" height=\"24px\"viewBox=\"0 0 24 24\"\n",
              "       width=\"24px\">\n",
              "    <path d=\"M0 0h24v24H0V0z\" fill=\"none\"/>\n",
              "    <path d=\"M18.56 5.44l.94 2.06.94-2.06 2.06-.94-2.06-.94-.94-2.06-.94 2.06-2.06.94zm-11 1L8.5 8.5l.94-2.06 2.06-.94-2.06-.94L8.5 2.5l-.94 2.06-2.06.94zm10 10l.94 2.06.94-2.06 2.06-.94-2.06-.94-.94-2.06-.94 2.06-2.06.94z\"/><path d=\"M17.41 7.96l-1.37-1.37c-.4-.4-.92-.59-1.43-.59-.52 0-1.04.2-1.43.59L10.3 9.45l-7.72 7.72c-.78.78-.78 2.05 0 2.83L4 21.41c.39.39.9.59 1.41.59.51 0 1.02-.2 1.41-.59l7.78-7.78 2.81-2.81c.8-.78.8-2.07 0-2.86zM5.41 20L4 18.59l7.72-7.72 1.47 1.35L5.41 20z\"/>\n",
              "  </svg>\n",
              "      </button>\n",
              "      \n",
              "  <style>\n",
              "    .colab-df-container {\n",
              "      display:flex;\n",
              "      flex-wrap:wrap;\n",
              "      gap: 12px;\n",
              "    }\n",
              "\n",
              "    .colab-df-convert {\n",
              "      background-color: #E8F0FE;\n",
              "      border: none;\n",
              "      border-radius: 50%;\n",
              "      cursor: pointer;\n",
              "      display: none;\n",
              "      fill: #1967D2;\n",
              "      height: 32px;\n",
              "      padding: 0 0 0 0;\n",
              "      width: 32px;\n",
              "    }\n",
              "\n",
              "    .colab-df-convert:hover {\n",
              "      background-color: #E2EBFA;\n",
              "      box-shadow: 0px 1px 2px rgba(60, 64, 67, 0.3), 0px 1px 3px 1px rgba(60, 64, 67, 0.15);\n",
              "      fill: #174EA6;\n",
              "    }\n",
              "\n",
              "    [theme=dark] .colab-df-convert {\n",
              "      background-color: #3B4455;\n",
              "      fill: #D2E3FC;\n",
              "    }\n",
              "\n",
              "    [theme=dark] .colab-df-convert:hover {\n",
              "      background-color: #434B5C;\n",
              "      box-shadow: 0px 1px 3px 1px rgba(0, 0, 0, 0.15);\n",
              "      filter: drop-shadow(0px 1px 2px rgba(0, 0, 0, 0.3));\n",
              "      fill: #FFFFFF;\n",
              "    }\n",
              "  </style>\n",
              "\n",
              "      <script>\n",
              "        const buttonEl =\n",
              "          document.querySelector('#df-2bad9bc0-29de-49c1-93e8-112dd6708a7d button.colab-df-convert');\n",
              "        buttonEl.style.display =\n",
              "          google.colab.kernel.accessAllowed ? 'block' : 'none';\n",
              "\n",
              "        async function convertToInteractive(key) {\n",
              "          const element = document.querySelector('#df-2bad9bc0-29de-49c1-93e8-112dd6708a7d');\n",
              "          const dataTable =\n",
              "            await google.colab.kernel.invokeFunction('convertToInteractive',\n",
              "                                                     [key], {});\n",
              "          if (!dataTable) return;\n",
              "\n",
              "          const docLinkHtml = 'Like what you see? Visit the ' +\n",
              "            '<a target=\"_blank\" href=https://colab.research.google.com/notebooks/data_table.ipynb>data table notebook</a>'\n",
              "            + ' to learn more about interactive tables.';\n",
              "          element.innerHTML = '';\n",
              "          dataTable['output_type'] = 'display_data';\n",
              "          await google.colab.output.renderOutput(dataTable, element);\n",
              "          const docLink = document.createElement('div');\n",
              "          docLink.innerHTML = docLinkHtml;\n",
              "          element.appendChild(docLink);\n",
              "        }\n",
              "      </script>\n",
              "    </div>\n",
              "  </div>\n",
              "  "
            ]
          },
          "metadata": {},
          "execution_count": 67
        }
      ],
      "source": [
        "results_df = pd.DataFrame(gs.cv_results_)\n",
        "\n",
        "results_df.index = k_values\n",
        "\n",
        "results_df[['mean_train_f1_macro','mean_test_f1_macro',\n",
        "            'mean_train_recall_macro','mean_test_recall_macro',\n",
        "            'mean_train_precision_macro','mean_test_precision_macro']].head()"
      ]
    },
    {
      "cell_type": "code",
      "execution_count": null,
      "metadata": {
        "colab": {
          "base_uri": "https://localhost:8080/",
          "height": 54
        },
        "id": "X8sbzWER6Hn0",
        "outputId": "408724ec-016f-49ec-b70d-faae2a40a978"
      },
      "outputs": [
        {
          "output_type": "display_data",
          "data": {
            "text/plain": [
              "<Figure size 576x432 with 1 Axes>"
            ],
            "image/png": "[encoded data removed]"
          },
          "metadata": {
            "needs_background": "light"
          }
        }
      ],
      "source": [
        "fig,ax = plt.subplots(figsize=(8,6))\n",
        "\n",
        "ax.set_xlabel('K')\n",
        "ax.set_ylabel('Metrics')\n",
        "\n",
        "ax.plot(k_values, gs.cv_results_['mean_test_f1_macro'], label='F1 Score')\n",
        "ax.plot(k_values, gs.cv_results_['mean_test_precision_macro'], label='Precision',)\n",
        "ax.plot(k_values, gs.cv_results_['mean_test_recall_macro'], label='Recall',)\n",
        "\n",
        "ax.legend()\n",
        "plt.show()"
      ]
    },
    {
      "cell_type": "markdown",
      "metadata": {
        "id": "bCgfOfF3WusG"
      },
      "source": [
        " Pelo gráfico acima, percebe-se que todas as métricas se comportam de maneira bastante similar ao longo dos valores de K analisados.\n",
        " Percebe-se que os melhores valores de K estão mais à esquerda, sendo aqueles com menor magnitude. É válido ressaltar a queda brusca em todas as métricas que há a no ponto onde K=8. "
      ]
    },
    {
      "cell_type": "code",
      "execution_count": null,
      "metadata": {
        "colab": {
          "base_uri": "https://localhost:8080/",
          "height": 54
        },
        "id": "x2qQzv06IG8r",
        "outputId": "d9d6d47b-7c58-4fc8-8247-85b91e6ea603"
      },
      "outputs": [
        {
          "output_type": "display_data",
          "data": {
            "text/plain": [
              "<Figure size 1080x360 with 3 Axes>"
            ],
            "image/png": "[encoded data removed]"
          },
          "metadata": {
            "needs_background": "light"
          }
        }
      ],
      "source": [
        "fig,ax = plt.subplots(1,3, figsize=(15,5))\n",
        "\n",
        "ax[0].plot(k_values,gs.cv_results_['mean_train_f1_macro'])\n",
        "ax[0].plot(k_values,gs.cv_results_['mean_test_f1_macro'])\n",
        "\n",
        "ax[1].plot(k_values,gs.cv_results_['mean_train_precision_macro'])\n",
        "ax[1].plot(k_values,gs.cv_results_['mean_test_precision_macro'])\n",
        "\n",
        "ax[2].plot(k_values,gs.cv_results_['mean_train_recall_macro'])\n",
        "ax[2].plot(k_values,gs.cv_results_['mean_test_recall_macro'])\n",
        "\n",
        "for i in range(0,3):\n",
        "  ax[i].legend(('Treino','Validação Cruzada'))\n",
        "\n",
        "ax[0].set_title('F1-Score')\n",
        "ax[1].set_title('Precision')\n",
        "ax[2].set_title('Recall')\n",
        "\n",
        "fig.tight_layout(pad=1.5)\n",
        "plt.show()"
      ]
    },
    {
      "cell_type": "markdown",
      "metadata": {
        "id": "18myWJ0pXVEl"
      },
      "source": [
        "Observando os gráficos e a tabela de valores, percebemoes que para o valor K=1, o modelo sofria overffiting uma vez que possuia resultados perfeitos no treinamento. Sendo assim, evitaremos esse valor."
      ]
    },
    {
      "cell_type": "markdown",
      "metadata": {
        "id": "0ehhhIgqUhW8"
      },
      "source": [
        "Por fim, percebe-se que o K que produz os melhores resultados, sem causar overffiting é o com K=3. Por coincidência, o mesmo que testamos no modelo base. "
      ]
    },
    {
      "cell_type": "code",
      "execution_count": null,
      "metadata": {
        "colab": {
          "base_uri": "https://localhost:8080/"
        },
        "id": "_KIDXQXTUkgL",
        "outputId": "858e3f46-1c76-4dea-d390-a28e18dd6317"
      },
      "outputs": [
        {
          "output_type": "stream",
          "name": "stdout",
          "text": [
            "              precision    recall  f1-score   support\n",
            "\n",
            "           A       0.74      0.86      0.80      4286\n",
            "           B       1.00      1.00      1.00         5\n",
            "           C       0.62      0.44      0.51       103\n",
            "           D       0.74      0.55      0.63       353\n",
            "           E       0.79      0.65      0.71      1095\n",
            "           F       0.66      0.67      0.66      1962\n",
            "           G       0.71      0.53      0.60       447\n",
            "           H       0.74      0.53      0.62       520\n",
            "           I       0.97      0.95      0.96       832\n",
            "           W       1.00      0.60      0.75        45\n",
            "           X       0.94      0.83      0.88       522\n",
            "           Y       0.86      0.75      0.80       267\n",
            "\n",
            "    accuracy                           0.76     10437\n",
            "   macro avg       0.81      0.70      0.74     10437\n",
            "weighted avg       0.76      0.76      0.75     10437\n",
            "\n"
          ]
        }
      ],
      "source": [
        "best_knn = KNeighborsClassifier(n_neighbors=3)\n",
        "best_knn.fit(X_train,y_train)\n",
        "\n",
        "y_pred = best_knn.predict(X_test)\n",
        "\n",
        "c_report = classification_report(y_test,y_pred)\n",
        "print(c_report)"
      ]
    },
    {
      "cell_type": "code",
      "execution_count": null,
      "metadata": {
        "colab": {
          "base_uri": "https://localhost:8080/",
          "height": 54
        },
        "id": "AlTg7S4F51a3",
        "outputId": "b08d6239-16dc-4318-a194-21d737139775"
      },
      "outputs": [
        {
          "output_type": "display_data",
          "data": {
            "text/plain": [
              "<Figure size 720x720 with 2 Axes>"
            ],
            "image/png": "[encoded data removed]"
          },
          "metadata": {
            "needs_background": "light"
          }
        }
      ],
      "source": [
        "fig,ax = plt.subplots(figsize=(10,10))\n",
        "ax.set_title(\"Matriz de confusão\")\n",
        "\n",
        "cm = confusion_matrix(y_test, y_pred, normalize='true')\n",
        "cm_display = ConfusionMatrixDisplay(confusion_matrix=cm, display_labels=classes)\n",
        "cm_display.plot(ax=ax)\n",
        "plt.show()\n"
      ]
    },
    {
      "cell_type": "markdown",
      "metadata": {
        "id": "Bd0mxG6h7F33",
        "jp-MarkdownHeadingCollapsed": true,
        "tags": []
      },
      "source": [
        "#### Conclusão\n",
        " Percebe-se que o KNN obteve uma performance razoável em solucionar o problema. Como pode ser visto na matriz de confusão, o modelo constantemente prediz a classe A, mesmo quando ela não é a correta, provavelmente pelo fato dessa classe possuir a maior quantidade de exmplos.  \n",
        " Nota-se também que o modelo se sai melhor em classificar algumas classes do que outras. A classe B tem seus exemplos do teste perfeitamente classificados enquanto que a o modelo falha em classificar exemplos de C mais do que metade das vezes.\n"
      ]
    },
    {
      "cell_type": "markdown",
      "metadata": {
        "jp-MarkdownHeadingCollapsed": true,
        "tags": [],
        "id": "1x9FYHH7z1ak"
      },
      "source": [
        "# Referências"
      ]
    },
    {
      "cell_type": "markdown",
      "metadata": {
        "id": "g7y4YXq9z1ak"
      },
      "source": [
        "- https://scikit-learn.org/stable/modules/cross_validation.html\n",
        "- https://scikit-learn.org/stable/modules/grid_search.html#grid-search\n",
        "- https://scikit-learn.org/stable/modules/model_evaluation.html#multimetric-scoring\n",
        "- https://scikit-learn.org/stable/auto_examples/model_selection/plot_multi_metric_evaluation.html#sphx-glr-auto-examples-model-selection-plot-multi-metric-evaluation-py\n",
        "- https://towardsdatascience.com/micro-macro-weighted-averages-of-f1-score-clearly-explained-b603420b292f#989c\n",
        "- https://satishgunjal.com/multiclass_lr_sklearn/#2020\n",
        "- https://machinelearningmastery.com/multinomial-logistic-regression-with-python/\n",
        "- https://scikit-learn.org/stable/modules/generated/sklearn.linear_model.LogisticRegression.html\n",
        "- https://builtin.com/machine-learning/logistic-regression-classification-algorithm\n",
        "- https://www.statology.org/pandas-drop-rows-with-condition/\n",
        "- https://www.geeksforgeeks.org/implementing-pca-in-python-with-scikit-learn/\n",
        "- https://towardsdatascience.com/the-perfect-recipe-for-classification-using-logistic-regression-f8648e267592"
      ]
    },
    {
      "cell_type": "markdown",
      "source": [
        "# Resultados dos modelos"
      ],
      "metadata": {
        "id": "4hR5Y6_P5UWQ"
      }
    },
    {
      "cell_type": "code",
      "execution_count": null,
      "metadata": {
        "colab": {
          "base_uri": "https://localhost:8080/",
          "height": 175
        },
        "id": "TNOhcUqUz1ak",
        "outputId": "67c8fc85-f259-4da0-dab7-eaf83cc33f2f"
      },
      "outputs": [
        {
          "output_type": "execute_result",
          "data": {
            "text/plain": [
              "          Decision tree Logistic regression Naive bayes KNN\n",
              "F1-score              3                   2           1   0\n",
              "Precision             a                   b           c   d\n",
              "Recall                a                   b           c   d\n",
              "Accuracy              a                   b           c   d"
            ],
            "text/html": [
              "\n",
              "  <div id=\"df-bdde183e-5499-4ca2-8c90-043bdfe38d16\">\n",
              "    <div class=\"colab-df-container\">\n",
              "      <div>\n",
              "<style scoped>\n",
              "    .dataframe tbody tr th:only-of-type {\n",
              "        vertical-align: middle;\n",
              "    }\n",
              "\n",
              "    .dataframe tbody tr th {\n",
              "        vertical-align: top;\n",
              "    }\n",
              "\n",
              "    .dataframe thead th {\n",
              "        text-align: right;\n",
              "    }\n",
              "</style>\n",
              "<table border=\"1\" class=\"dataframe\">\n",
              "  <thead>\n",
              "    <tr style=\"text-align: right;\">\n",
              "      <th></th>\n",
              "      <th>Decision tree</th>\n",
              "      <th>Logistic regression</th>\n",
              "      <th>Naive bayes</th>\n",
              "      <th>KNN</th>\n",
              "    </tr>\n",
              "  </thead>\n",
              "  <tbody>\n",
              "    <tr>\n",
              "      <th>F1-score</th>\n",
              "      <td>3</td>\n",
              "      <td>2</td>\n",
              "      <td>1</td>\n",
              "      <td>0</td>\n",
              "    </tr>\n",
              "    <tr>\n",
              "      <th>Precision</th>\n",
              "      <td>a</td>\n",
              "      <td>b</td>\n",
              "      <td>c</td>\n",
              "      <td>d</td>\n",
              "    </tr>\n",
              "    <tr>\n",
              "      <th>Recall</th>\n",
              "      <td>a</td>\n",
              "      <td>b</td>\n",
              "      <td>c</td>\n",
              "      <td>d</td>\n",
              "    </tr>\n",
              "    <tr>\n",
              "      <th>Accuracy</th>\n",
              "      <td>a</td>\n",
              "      <td>b</td>\n",
              "      <td>c</td>\n",
              "      <td>d</td>\n",
              "    </tr>\n",
              "  </tbody>\n",
              "</table>\n",
              "</div>\n",
              "      <button class=\"colab-df-convert\" onclick=\"convertToInteractive('df-bdde183e-5499-4ca2-8c90-043bdfe38d16')\"\n",
              "              title=\"Convert this dataframe to an interactive table.\"\n",
              "              style=\"display:none;\">\n",
              "        \n",
              "  <svg xmlns=\"http://www.w3.org/2000/svg\" height=\"24px\"viewBox=\"0 0 24 24\"\n",
              "       width=\"24px\">\n",
              "    <path d=\"M0 0h24v24H0V0z\" fill=\"none\"/>\n",
              "    <path d=\"M18.56 5.44l.94 2.06.94-2.06 2.06-.94-2.06-.94-.94-2.06-.94 2.06-2.06.94zm-11 1L8.5 8.5l.94-2.06 2.06-.94-2.06-.94L8.5 2.5l-.94 2.06-2.06.94zm10 10l.94 2.06.94-2.06 2.06-.94-2.06-.94-.94-2.06-.94 2.06-2.06.94z\"/><path d=\"M17.41 7.96l-1.37-1.37c-.4-.4-.92-.59-1.43-.59-.52 0-1.04.2-1.43.59L10.3 9.45l-7.72 7.72c-.78.78-.78 2.05 0 2.83L4 21.41c.39.39.9.59 1.41.59.51 0 1.02-.2 1.41-.59l7.78-7.78 2.81-2.81c.8-.78.8-2.07 0-2.86zM5.41 20L4 18.59l7.72-7.72 1.47 1.35L5.41 20z\"/>\n",
              "  </svg>\n",
              "      </button>\n",
              "      \n",
              "  <style>\n",
              "    .colab-df-container {\n",
              "      display:flex;\n",
              "      flex-wrap:wrap;\n",
              "      gap: 12px;\n",
              "    }\n",
              "\n",
              "    .colab-df-convert {\n",
              "      background-color: #E8F0FE;\n",
              "      border: none;\n",
              "      border-radius: 50%;\n",
              "      cursor: pointer;\n",
              "      display: none;\n",
              "      fill: #1967D2;\n",
              "      height: 32px;\n",
              "      padding: 0 0 0 0;\n",
              "      width: 32px;\n",
              "    }\n",
              "\n",
              "    .colab-df-convert:hover {\n",
              "      background-color: #E2EBFA;\n",
              "      box-shadow: 0px 1px 2px rgba(60, 64, 67, 0.3), 0px 1px 3px 1px rgba(60, 64, 67, 0.15);\n",
              "      fill: #174EA6;\n",
              "    }\n",
              "\n",
              "    [theme=dark] .colab-df-convert {\n",
              "      background-color: #3B4455;\n",
              "      fill: #D2E3FC;\n",
              "    }\n",
              "\n",
              "    [theme=dark] .colab-df-convert:hover {\n",
              "      background-color: #434B5C;\n",
              "      box-shadow: 0px 1px 3px 1px rgba(0, 0, 0, 0.15);\n",
              "      filter: drop-shadow(0px 1px 2px rgba(0, 0, 0, 0.3));\n",
              "      fill: #FFFFFF;\n",
              "    }\n",
              "  </style>\n",
              "\n",
              "      <script>\n",
              "        const buttonEl =\n",
              "          document.querySelector('#df-bdde183e-5499-4ca2-8c90-043bdfe38d16 button.colab-df-convert');\n",
              "        buttonEl.style.display =\n",
              "          google.colab.kernel.accessAllowed ? 'block' : 'none';\n",
              "\n",
              "        async function convertToInteractive(key) {\n",
              "          const element = document.querySelector('#df-bdde183e-5499-4ca2-8c90-043bdfe38d16');\n",
              "          const dataTable =\n",
              "            await google.colab.kernel.invokeFunction('convertToInteractive',\n",
              "                                                     [key], {});\n",
              "          if (!dataTable) return;\n",
              "\n",
              "          const docLinkHtml = 'Like what you see? Visit the ' +\n",
              "            '<a target=\"_blank\" href=https://colab.research.google.com/notebooks/data_table.ipynb>data table notebook</a>'\n",
              "            + ' to learn more about interactive tables.';\n",
              "          element.innerHTML = '';\n",
              "          dataTable['output_type'] = 'display_data';\n",
              "          await google.colab.output.renderOutput(dataTable, element);\n",
              "          const docLink = document.createElement('div');\n",
              "          docLink.innerHTML = docLinkHtml;\n",
              "          element.appendChild(docLink);\n",
              "        }\n",
              "      </script>\n",
              "    </div>\n",
              "  </div>\n",
              "  "
            ]
          },
          "metadata": {},
          "execution_count": 41
        }
      ],
      "source": [
        "comparison_dict = {'F1-score': [3, 2, 1, 0], 'Precision': ['a', 'b', 'c', 'd'], 'Recall': ['a', 'b', 'c', 'd'], 'Accuracy': ['a', 'b', 'c', 'd']}\n",
        "\n",
        "pd.DataFrame.from_dict(comparison_dict, orient='index', columns=[\"Decision tree\", \"Logistic regression\", \"Naive bayes\", \"KNN\"])"
      ]
    },
    {
      "cell_type": "code",
      "source": [
        "comparison_dict = {'Decision tree': [3, 2, 1, 0],\n",
        "                   'Logistic Regression': ['a', 'b', 'c', 'd'],\n",
        "                   'Naive Bayes': ['a', 'b', 'c', 'd'],\n",
        "                   'KNN': ['a', 'b', 'c', 'd']}\n",
        "\n",
        "pd.DataFrame.from_dict(comparison_dict, orient='index',\n",
        "                       columns=[\"F1-Score\", \"Precision\", \"Recall\", \"Accuracy\"])"
      ],
      "metadata": {
        "colab": {
          "base_uri": "https://localhost:8080/",
          "height": 175
        },
        "id": "OGvrWYhb_EL-",
        "outputId": "118599c9-bce3-462d-862c-55cda9729d30"
      },
      "execution_count": null,
      "outputs": [
        {
          "output_type": "execute_result",
          "data": {
            "text/plain": [
              "                    F1-Score Precision Recall Accuracy\n",
              "Decision tree              3         2      1        0\n",
              "Logistic Regression        a         b      c        d\n",
              "Naive Bayes                a         b      c        d\n",
              "KNN                        a         b      c        d"
            ],
            "text/html": [
              "\n",
              "  <div id=\"df-c9f2015e-2ee0-49e0-96c0-d6a8379a059a\">\n",
              "    <div class=\"colab-df-container\">\n",
              "      <div>\n",
              "<style scoped>\n",
              "    .dataframe tbody tr th:only-of-type {\n",
              "        vertical-align: middle;\n",
              "    }\n",
              "\n",
              "    .dataframe tbody tr th {\n",
              "        vertical-align: top;\n",
              "    }\n",
              "\n",
              "    .dataframe thead th {\n",
              "        text-align: right;\n",
              "    }\n",
              "</style>\n",
              "<table border=\"1\" class=\"dataframe\">\n",
              "  <thead>\n",
              "    <tr style=\"text-align: right;\">\n",
              "      <th></th>\n",
              "      <th>F1-Score</th>\n",
              "      <th>Precision</th>\n",
              "      <th>Recall</th>\n",
              "      <th>Accuracy</th>\n",
              "    </tr>\n",
              "  </thead>\n",
              "  <tbody>\n",
              "    <tr>\n",
              "      <th>Decision tree</th>\n",
              "      <td>3</td>\n",
              "      <td>2</td>\n",
              "      <td>1</td>\n",
              "      <td>0</td>\n",
              "    </tr>\n",
              "    <tr>\n",
              "      <th>Logistic Regression</th>\n",
              "      <td>a</td>\n",
              "      <td>b</td>\n",
              "      <td>c</td>\n",
              "      <td>d</td>\n",
              "    </tr>\n",
              "    <tr>\n",
              "      <th>Naive Bayes</th>\n",
              "      <td>a</td>\n",
              "      <td>b</td>\n",
              "      <td>c</td>\n",
              "      <td>d</td>\n",
              "    </tr>\n",
              "    <tr>\n",
              "      <th>KNN</th>\n",
              "      <td>a</td>\n",
              "      <td>b</td>\n",
              "      <td>c</td>\n",
              "      <td>d</td>\n",
              "    </tr>\n",
              "  </tbody>\n",
              "</table>\n",
              "</div>\n",
              "      <button class=\"colab-df-convert\" onclick=\"convertToInteractive('df-c9f2015e-2ee0-49e0-96c0-d6a8379a059a')\"\n",
              "              title=\"Convert this dataframe to an interactive table.\"\n",
              "              style=\"display:none;\">\n",
              "        \n",
              "  <svg xmlns=\"http://www.w3.org/2000/svg\" height=\"24px\"viewBox=\"0 0 24 24\"\n",
              "       width=\"24px\">\n",
              "    <path d=\"M0 0h24v24H0V0z\" fill=\"none\"/>\n",
              "    <path d=\"M18.56 5.44l.94 2.06.94-2.06 2.06-.94-2.06-.94-.94-2.06-.94 2.06-2.06.94zm-11 1L8.5 8.5l.94-2.06 2.06-.94-2.06-.94L8.5 2.5l-.94 2.06-2.06.94zm10 10l.94 2.06.94-2.06 2.06-.94-2.06-.94-.94-2.06-.94 2.06-2.06.94z\"/><path d=\"M17.41 7.96l-1.37-1.37c-.4-.4-.92-.59-1.43-.59-.52 0-1.04.2-1.43.59L10.3 9.45l-7.72 7.72c-.78.78-.78 2.05 0 2.83L4 21.41c.39.39.9.59 1.41.59.51 0 1.02-.2 1.41-.59l7.78-7.78 2.81-2.81c.8-.78.8-2.07 0-2.86zM5.41 20L4 18.59l7.72-7.72 1.47 1.35L5.41 20z\"/>\n",
              "  </svg>\n",
              "      </button>\n",
              "      \n",
              "  <style>\n",
              "    .colab-df-container {\n",
              "      display:flex;\n",
              "      flex-wrap:wrap;\n",
              "      gap: 12px;\n",
              "    }\n",
              "\n",
              "    .colab-df-convert {\n",
              "      background-color: #E8F0FE;\n",
              "      border: none;\n",
              "      border-radius: 50%;\n",
              "      cursor: pointer;\n",
              "      display: none;\n",
              "      fill: #1967D2;\n",
              "      height: 32px;\n",
              "      padding: 0 0 0 0;\n",
              "      width: 32px;\n",
              "    }\n",
              "\n",
              "    .colab-df-convert:hover {\n",
              "      background-color: #E2EBFA;\n",
              "      box-shadow: 0px 1px 2px rgba(60, 64, 67, 0.3), 0px 1px 3px 1px rgba(60, 64, 67, 0.15);\n",
              "      fill: #174EA6;\n",
              "    }\n",
              "\n",
              "    [theme=dark] .colab-df-convert {\n",
              "      background-color: #3B4455;\n",
              "      fill: #D2E3FC;\n",
              "    }\n",
              "\n",
              "    [theme=dark] .colab-df-convert:hover {\n",
              "      background-color: #434B5C;\n",
              "      box-shadow: 0px 1px 3px 1px rgba(0, 0, 0, 0.15);\n",
              "      filter: drop-shadow(0px 1px 2px rgba(0, 0, 0, 0.3));\n",
              "      fill: #FFFFFF;\n",
              "    }\n",
              "  </style>\n",
              "\n",
              "      <script>\n",
              "        const buttonEl =\n",
              "          document.querySelector('#df-c9f2015e-2ee0-49e0-96c0-d6a8379a059a button.colab-df-convert');\n",
              "        buttonEl.style.display =\n",
              "          google.colab.kernel.accessAllowed ? 'block' : 'none';\n",
              "\n",
              "        async function convertToInteractive(key) {\n",
              "          const element = document.querySelector('#df-c9f2015e-2ee0-49e0-96c0-d6a8379a059a');\n",
              "          const dataTable =\n",
              "            await google.colab.kernel.invokeFunction('convertToInteractive',\n",
              "                                                     [key], {});\n",
              "          if (!dataTable) return;\n",
              "\n",
              "          const docLinkHtml = 'Like what you see? Visit the ' +\n",
              "            '<a target=\"_blank\" href=https://colab.research.google.com/notebooks/data_table.ipynb>data table notebook</a>'\n",
              "            + ' to learn more about interactive tables.';\n",
              "          element.innerHTML = '';\n",
              "          dataTable['output_type'] = 'display_data';\n",
              "          await google.colab.output.renderOutput(dataTable, element);\n",
              "          const docLink = document.createElement('div');\n",
              "          docLink.innerHTML = docLinkHtml;\n",
              "          element.appendChild(docLink);\n",
              "        }\n",
              "      </script>\n",
              "    </div>\n",
              "  </div>\n",
              "  "
            ]
          },
          "metadata": {},
          "execution_count": 3
        }
      ]
    },
    {
      "cell_type": "code",
      "source": [],
      "metadata": {
        "id": "fnPAadHv_LGk"
      },
      "execution_count": null,
      "outputs": []
    }
  ],
  "metadata": {
    "colab": {
      "provenance": []
    },
    "kernelspec": {
      "display_name": "Python 3 (ipykernel)",
      "language": "python",
      "name": "python3"
    },
    "language_info": {
      "codemirror_mode": {
        "name": "ipython",
        "version": 3
      },
      "file_extension": ".py",
      "mimetype": "text/x-python",
      "name": "python",
      "nbconvert_exporter": "python",
      "pygments_lexer": "ipython3",
      "version": "3.10.0"
    }
  },
  "nbformat": 4,
  "nbformat_minor": 0
}
