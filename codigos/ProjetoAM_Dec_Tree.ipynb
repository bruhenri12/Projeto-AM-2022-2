{
  "nbformat": 4,
  "nbformat_minor": 0,
  "metadata": {
    "colab": {
      "provenance": [],
      "collapsed_sections": [
        "lbFqjA2xiNw4",
        "aX96X1q-idhe",
        "gP-DxvknikCM",
        "DFwG0Pdakmjb",
        "_MaHZWQIpHpc",
        "n2UlS5D1f90V",
        "ixKGNwkYibtY",
        "wtGU6IhcH_TE",
        "CeUE658KSjaK",
        "euTv_mZeSjaL",
        "ys0fe9QXSjaN"
      ]
    },
    "kernelspec": {
      "name": "python3",
      "display_name": "Python 3"
    },
    "language_info": {
      "name": "python"
    },
    "gpuClass": "standard"
  },
  "cells": [
    {
      "cell_type": "markdown",
      "source": [
        "# Classificação usando Árvore de Decisão\n"
      ],
      "metadata": {
        "id": "reRDrfFXQatP"
      }
    },
    {
      "cell_type": "markdown",
      "source": [
        "Bibliotecas e referências usadas:\n",
        "- scikit-learn\n",
        "  - sklearn.tree\n",
        "    - [DecisionTreeClassifier](https://scikit-learn.org/stable/modules/generated/sklearn.tree.DecisionTreeClassifier.html)\n",
        "    - [Post pruning decision trees with cost complexity pruning](https://scikit-learn.org/stable/auto_examples/tree/plot_cost_complexity_pruning.html)\n",
        "  - sklearn.model_selection\n",
        "    - train_test_split\n",
        "    - [GridSearchCV](https://scikit-learn.org/stable/modules/generated/sklearn.model_selection.GridSearchCV.html)\n",
        "  - sklearn.metrics\n",
        "    - accuracy_score\n",
        "    - [precision_recall_fscore_support](https://scikit-learn.org/stable/modules/generated/sklearn.metrics.precision_recall_fscore_support.html)\n",
        "    - [classification_report](https://scikit-learn.org/stable/modules/generated/sklearn.metrics.classification_report.html)\n",
        "    - confusion_matrix\n",
        "    - [ConfusionMatrixDisplay](https://scikit-learn.org/stable/modules/generated/sklearn.metrics.ConfusionMatrixDisplay.html)\n",
        "- pandas\n",
        "- numpy\n",
        "- matplotlib"
      ],
      "metadata": {
        "id": "N4xUaUwWkNZY"
      }
    },
    {
      "cell_type": "markdown",
      "source": [
        "## Importando os datasets"
      ],
      "metadata": {
        "id": "lbFqjA2xiNw4"
      }
    },
    {
      "cell_type": "markdown",
      "source": [
        "### Dataset de treinamento: avila-tr.txt"
      ],
      "metadata": {
        "id": "aX96X1q-idhe"
      }
    },
    {
      "cell_type": "code",
      "source": [
        "import pandas as pd\n",
        "\n",
        "labels = [\"intercolumnar distance\",\"upper margin\",\"lower margin\",\"exploitation\",\"row number\",\"modular ratio\",\"interlinear spacing\",\"weight\",\"peak number\",\"modular ratio/ interlinear spacing\",\"Class\"]\n",
        "\n",
        "path_dataset_train = \"/content/drive/MyDrive/Disciplinas/2022.2/AM-GRAD 2022-2/Projeto AM 2022-2/data/avila-tr.txt\"\n",
        "\n",
        "avila_train = pd.read_csv(path_dataset_train, sep=\",\",header=None,names=labels)\n",
        "avila_train.head()"
      ],
      "metadata": {
        "colab": {
          "base_uri": "https://localhost:8080/",
          "height": 268
        },
        "id": "hhMXrOTLTlRV",
        "outputId": "445ad9e0-31a7-40d0-c567-3a500ea0cf4b"
      },
      "execution_count": 340,
      "outputs": [
        {
          "output_type": "execute_result",
          "data": {
            "text/plain": [
              "   intercolumnar distance  upper margin  lower margin  exploitation  \\\n",
              "0                0.266074     -0.165620      0.320980      0.483299   \n",
              "1                0.130292      0.870736     -3.210528      0.062493   \n",
              "2               -0.116585      0.069915      0.068476     -0.783147   \n",
              "3                0.031541      0.297600     -3.210528     -0.583590   \n",
              "4                0.229043      0.807926     -0.052442      0.082634   \n",
              "\n",
              "   row number  modular ratio  interlinear spacing    weight  peak number  \\\n",
              "0    0.172340       0.273364             0.371178  0.929823     0.251173   \n",
              "1    0.261718       1.436060             1.465940  0.636203     0.282354   \n",
              "2    0.261718       0.439463            -0.081827 -0.888236    -0.123005   \n",
              "3   -0.721442      -0.307984             0.710932  1.051693     0.594169   \n",
              "4    0.261718       0.148790             0.635431  0.051062     0.032902   \n",
              "\n",
              "   modular ratio/ interlinear spacing Class  \n",
              "0                            0.159345     A  \n",
              "1                            0.515587     A  \n",
              "2                            0.582939     A  \n",
              "3                           -0.533994     A  \n",
              "4                           -0.086652     F  "
            ],
            "text/html": [
              "\n",
              "  <div id=\"df-a3dae736-852b-4058-81ed-b5a66f0b1e8e\">\n",
              "    <div class=\"colab-df-container\">\n",
              "      <div>\n",
              "<style scoped>\n",
              "    .dataframe tbody tr th:only-of-type {\n",
              "        vertical-align: middle;\n",
              "    }\n",
              "\n",
              "    .dataframe tbody tr th {\n",
              "        vertical-align: top;\n",
              "    }\n",
              "\n",
              "    .dataframe thead th {\n",
              "        text-align: right;\n",
              "    }\n",
              "</style>\n",
              "<table border=\"1\" class=\"dataframe\">\n",
              "  <thead>\n",
              "    <tr style=\"text-align: right;\">\n",
              "      <th></th>\n",
              "      <th>intercolumnar distance</th>\n",
              "      <th>upper margin</th>\n",
              "      <th>lower margin</th>\n",
              "      <th>exploitation</th>\n",
              "      <th>row number</th>\n",
              "      <th>modular ratio</th>\n",
              "      <th>interlinear spacing</th>\n",
              "      <th>weight</th>\n",
              "      <th>peak number</th>\n",
              "      <th>modular ratio/ interlinear spacing</th>\n",
              "      <th>Class</th>\n",
              "    </tr>\n",
              "  </thead>\n",
              "  <tbody>\n",
              "    <tr>\n",
              "      <th>0</th>\n",
              "      <td>0.266074</td>\n",
              "      <td>-0.165620</td>\n",
              "      <td>0.320980</td>\n",
              "      <td>0.483299</td>\n",
              "      <td>0.172340</td>\n",
              "      <td>0.273364</td>\n",
              "      <td>0.371178</td>\n",
              "      <td>0.929823</td>\n",
              "      <td>0.251173</td>\n",
              "      <td>0.159345</td>\n",
              "      <td>A</td>\n",
              "    </tr>\n",
              "    <tr>\n",
              "      <th>1</th>\n",
              "      <td>0.130292</td>\n",
              "      <td>0.870736</td>\n",
              "      <td>-3.210528</td>\n",
              "      <td>0.062493</td>\n",
              "      <td>0.261718</td>\n",
              "      <td>1.436060</td>\n",
              "      <td>1.465940</td>\n",
              "      <td>0.636203</td>\n",
              "      <td>0.282354</td>\n",
              "      <td>0.515587</td>\n",
              "      <td>A</td>\n",
              "    </tr>\n",
              "    <tr>\n",
              "      <th>2</th>\n",
              "      <td>-0.116585</td>\n",
              "      <td>0.069915</td>\n",
              "      <td>0.068476</td>\n",
              "      <td>-0.783147</td>\n",
              "      <td>0.261718</td>\n",
              "      <td>0.439463</td>\n",
              "      <td>-0.081827</td>\n",
              "      <td>-0.888236</td>\n",
              "      <td>-0.123005</td>\n",
              "      <td>0.582939</td>\n",
              "      <td>A</td>\n",
              "    </tr>\n",
              "    <tr>\n",
              "      <th>3</th>\n",
              "      <td>0.031541</td>\n",
              "      <td>0.297600</td>\n",
              "      <td>-3.210528</td>\n",
              "      <td>-0.583590</td>\n",
              "      <td>-0.721442</td>\n",
              "      <td>-0.307984</td>\n",
              "      <td>0.710932</td>\n",
              "      <td>1.051693</td>\n",
              "      <td>0.594169</td>\n",
              "      <td>-0.533994</td>\n",
              "      <td>A</td>\n",
              "    </tr>\n",
              "    <tr>\n",
              "      <th>4</th>\n",
              "      <td>0.229043</td>\n",
              "      <td>0.807926</td>\n",
              "      <td>-0.052442</td>\n",
              "      <td>0.082634</td>\n",
              "      <td>0.261718</td>\n",
              "      <td>0.148790</td>\n",
              "      <td>0.635431</td>\n",
              "      <td>0.051062</td>\n",
              "      <td>0.032902</td>\n",
              "      <td>-0.086652</td>\n",
              "      <td>F</td>\n",
              "    </tr>\n",
              "  </tbody>\n",
              "</table>\n",
              "</div>\n",
              "      <button class=\"colab-df-convert\" onclick=\"convertToInteractive('df-a3dae736-852b-4058-81ed-b5a66f0b1e8e')\"\n",
              "              title=\"Convert this dataframe to an interactive table.\"\n",
              "              style=\"display:none;\">\n",
              "        \n",
              "  <svg xmlns=\"http://www.w3.org/2000/svg\" height=\"24px\"viewBox=\"0 0 24 24\"\n",
              "       width=\"24px\">\n",
              "    <path d=\"M0 0h24v24H0V0z\" fill=\"none\"/>\n",
              "    <path d=\"M18.56 5.44l.94 2.06.94-2.06 2.06-.94-2.06-.94-.94-2.06-.94 2.06-2.06.94zm-11 1L8.5 8.5l.94-2.06 2.06-.94-2.06-.94L8.5 2.5l-.94 2.06-2.06.94zm10 10l.94 2.06.94-2.06 2.06-.94-2.06-.94-.94-2.06-.94 2.06-2.06.94z\"/><path d=\"M17.41 7.96l-1.37-1.37c-.4-.4-.92-.59-1.43-.59-.52 0-1.04.2-1.43.59L10.3 9.45l-7.72 7.72c-.78.78-.78 2.05 0 2.83L4 21.41c.39.39.9.59 1.41.59.51 0 1.02-.2 1.41-.59l7.78-7.78 2.81-2.81c.8-.78.8-2.07 0-2.86zM5.41 20L4 18.59l7.72-7.72 1.47 1.35L5.41 20z\"/>\n",
              "  </svg>\n",
              "      </button>\n",
              "      \n",
              "  <style>\n",
              "    .colab-df-container {\n",
              "      display:flex;\n",
              "      flex-wrap:wrap;\n",
              "      gap: 12px;\n",
              "    }\n",
              "\n",
              "    .colab-df-convert {\n",
              "      background-color: #E8F0FE;\n",
              "      border: none;\n",
              "      border-radius: 50%;\n",
              "      cursor: pointer;\n",
              "      display: none;\n",
              "      fill: #1967D2;\n",
              "      height: 32px;\n",
              "      padding: 0 0 0 0;\n",
              "      width: 32px;\n",
              "    }\n",
              "\n",
              "    .colab-df-convert:hover {\n",
              "      background-color: #E2EBFA;\n",
              "      box-shadow: 0px 1px 2px rgba(60, 64, 67, 0.3), 0px 1px 3px 1px rgba(60, 64, 67, 0.15);\n",
              "      fill: #174EA6;\n",
              "    }\n",
              "\n",
              "    [theme=dark] .colab-df-convert {\n",
              "      background-color: #3B4455;\n",
              "      fill: #D2E3FC;\n",
              "    }\n",
              "\n",
              "    [theme=dark] .colab-df-convert:hover {\n",
              "      background-color: #434B5C;\n",
              "      box-shadow: 0px 1px 3px 1px rgba(0, 0, 0, 0.15);\n",
              "      filter: drop-shadow(0px 1px 2px rgba(0, 0, 0, 0.3));\n",
              "      fill: #FFFFFF;\n",
              "    }\n",
              "  </style>\n",
              "\n",
              "      <script>\n",
              "        const buttonEl =\n",
              "          document.querySelector('#df-a3dae736-852b-4058-81ed-b5a66f0b1e8e button.colab-df-convert');\n",
              "        buttonEl.style.display =\n",
              "          google.colab.kernel.accessAllowed ? 'block' : 'none';\n",
              "\n",
              "        async function convertToInteractive(key) {\n",
              "          const element = document.querySelector('#df-a3dae736-852b-4058-81ed-b5a66f0b1e8e');\n",
              "          const dataTable =\n",
              "            await google.colab.kernel.invokeFunction('convertToInteractive',\n",
              "                                                     [key], {});\n",
              "          if (!dataTable) return;\n",
              "\n",
              "          const docLinkHtml = 'Like what you see? Visit the ' +\n",
              "            '<a target=\"_blank\" href=https://colab.research.google.com/notebooks/data_table.ipynb>data table notebook</a>'\n",
              "            + ' to learn more about interactive tables.';\n",
              "          element.innerHTML = '';\n",
              "          dataTable['output_type'] = 'display_data';\n",
              "          await google.colab.output.renderOutput(dataTable, element);\n",
              "          const docLink = document.createElement('div');\n",
              "          docLink.innerHTML = docLinkHtml;\n",
              "          element.appendChild(docLink);\n",
              "        }\n",
              "      </script>\n",
              "    </div>\n",
              "  </div>\n",
              "  "
            ]
          },
          "metadata": {},
          "execution_count": 340
        }
      ]
    },
    {
      "cell_type": "markdown",
      "source": [
        "### Dataset de teste: avila-ts.txt"
      ],
      "metadata": {
        "id": "gP-DxvknikCM"
      }
    },
    {
      "cell_type": "code",
      "source": [
        "path_dataset_test = \"/content/drive/MyDrive/Disciplinas/2022.2/AM-GRAD 2022-2/Projeto AM 2022-2/data/avila-ts.txt\"\n",
        "\n",
        "avila_test = pd.read_csv(path_dataset_test, sep=\",\",header=None,names=labels)\n",
        "avila_test.head()"
      ],
      "metadata": {
        "colab": {
          "base_uri": "https://localhost:8080/",
          "height": 268
        },
        "outputId": "e9d5aa00-db4e-458d-f13b-bbe356a20249",
        "id": "CfYvWRqQikCO"
      },
      "execution_count": 341,
      "outputs": [
        {
          "output_type": "execute_result",
          "data": {
            "text/plain": [
              "   intercolumnar distance  upper margin  lower margin  exploitation  \\\n",
              "0               -3.498799      0.250492      0.232070      1.224178   \n",
              "1                0.204355     -0.354049      0.320980      0.410166   \n",
              "2                0.759828     -1.304042     -0.023991     -0.973663   \n",
              "3               -0.005490      0.360409      0.281860     -0.213479   \n",
              "4                0.080916      0.101320      0.104040      0.140490   \n",
              "\n",
              "   row number  modular ratio  interlinear spacing    weight  peak number  \\\n",
              "0   -4.922215       1.145386             0.182426 -0.165983    -0.123005   \n",
              "1   -0.989576      -2.218127             0.220177  0.181844     2.090879   \n",
              "2   -0.006417      -0.349509            -0.421580 -0.450127     0.469443   \n",
              "3   -1.168333      -1.013906            -0.346080  1.176165     0.968347   \n",
              "4    0.261718       0.480988             0.710932 -0.253430    -0.497183   \n",
              "\n",
              "   modular ratio/ interlinear spacing Class  \n",
              "0                            1.087144     W  \n",
              "1                           -2.009758     A  \n",
              "2                            0.060952     I  \n",
              "3                           -0.627999     E  \n",
              "4                            0.155681     A  "
            ],
            "text/html": [
              "\n",
              "  <div id=\"df-d7598d96-5787-4aba-a983-20c9db5e734f\">\n",
              "    <div class=\"colab-df-container\">\n",
              "      <div>\n",
              "<style scoped>\n",
              "    .dataframe tbody tr th:only-of-type {\n",
              "        vertical-align: middle;\n",
              "    }\n",
              "\n",
              "    .dataframe tbody tr th {\n",
              "        vertical-align: top;\n",
              "    }\n",
              "\n",
              "    .dataframe thead th {\n",
              "        text-align: right;\n",
              "    }\n",
              "</style>\n",
              "<table border=\"1\" class=\"dataframe\">\n",
              "  <thead>\n",
              "    <tr style=\"text-align: right;\">\n",
              "      <th></th>\n",
              "      <th>intercolumnar distance</th>\n",
              "      <th>upper margin</th>\n",
              "      <th>lower margin</th>\n",
              "      <th>exploitation</th>\n",
              "      <th>row number</th>\n",
              "      <th>modular ratio</th>\n",
              "      <th>interlinear spacing</th>\n",
              "      <th>weight</th>\n",
              "      <th>peak number</th>\n",
              "      <th>modular ratio/ interlinear spacing</th>\n",
              "      <th>Class</th>\n",
              "    </tr>\n",
              "  </thead>\n",
              "  <tbody>\n",
              "    <tr>\n",
              "      <th>0</th>\n",
              "      <td>-3.498799</td>\n",
              "      <td>0.250492</td>\n",
              "      <td>0.232070</td>\n",
              "      <td>1.224178</td>\n",
              "      <td>-4.922215</td>\n",
              "      <td>1.145386</td>\n",
              "      <td>0.182426</td>\n",
              "      <td>-0.165983</td>\n",
              "      <td>-0.123005</td>\n",
              "      <td>1.087144</td>\n",
              "      <td>W</td>\n",
              "    </tr>\n",
              "    <tr>\n",
              "      <th>1</th>\n",
              "      <td>0.204355</td>\n",
              "      <td>-0.354049</td>\n",
              "      <td>0.320980</td>\n",
              "      <td>0.410166</td>\n",
              "      <td>-0.989576</td>\n",
              "      <td>-2.218127</td>\n",
              "      <td>0.220177</td>\n",
              "      <td>0.181844</td>\n",
              "      <td>2.090879</td>\n",
              "      <td>-2.009758</td>\n",
              "      <td>A</td>\n",
              "    </tr>\n",
              "    <tr>\n",
              "      <th>2</th>\n",
              "      <td>0.759828</td>\n",
              "      <td>-1.304042</td>\n",
              "      <td>-0.023991</td>\n",
              "      <td>-0.973663</td>\n",
              "      <td>-0.006417</td>\n",
              "      <td>-0.349509</td>\n",
              "      <td>-0.421580</td>\n",
              "      <td>-0.450127</td>\n",
              "      <td>0.469443</td>\n",
              "      <td>0.060952</td>\n",
              "      <td>I</td>\n",
              "    </tr>\n",
              "    <tr>\n",
              "      <th>3</th>\n",
              "      <td>-0.005490</td>\n",
              "      <td>0.360409</td>\n",
              "      <td>0.281860</td>\n",
              "      <td>-0.213479</td>\n",
              "      <td>-1.168333</td>\n",
              "      <td>-1.013906</td>\n",
              "      <td>-0.346080</td>\n",
              "      <td>1.176165</td>\n",
              "      <td>0.968347</td>\n",
              "      <td>-0.627999</td>\n",
              "      <td>E</td>\n",
              "    </tr>\n",
              "    <tr>\n",
              "      <th>4</th>\n",
              "      <td>0.080916</td>\n",
              "      <td>0.101320</td>\n",
              "      <td>0.104040</td>\n",
              "      <td>0.140490</td>\n",
              "      <td>0.261718</td>\n",
              "      <td>0.480988</td>\n",
              "      <td>0.710932</td>\n",
              "      <td>-0.253430</td>\n",
              "      <td>-0.497183</td>\n",
              "      <td>0.155681</td>\n",
              "      <td>A</td>\n",
              "    </tr>\n",
              "  </tbody>\n",
              "</table>\n",
              "</div>\n",
              "      <button class=\"colab-df-convert\" onclick=\"convertToInteractive('df-d7598d96-5787-4aba-a983-20c9db5e734f')\"\n",
              "              title=\"Convert this dataframe to an interactive table.\"\n",
              "              style=\"display:none;\">\n",
              "        \n",
              "  <svg xmlns=\"http://www.w3.org/2000/svg\" height=\"24px\"viewBox=\"0 0 24 24\"\n",
              "       width=\"24px\">\n",
              "    <path d=\"M0 0h24v24H0V0z\" fill=\"none\"/>\n",
              "    <path d=\"M18.56 5.44l.94 2.06.94-2.06 2.06-.94-2.06-.94-.94-2.06-.94 2.06-2.06.94zm-11 1L8.5 8.5l.94-2.06 2.06-.94-2.06-.94L8.5 2.5l-.94 2.06-2.06.94zm10 10l.94 2.06.94-2.06 2.06-.94-2.06-.94-.94-2.06-.94 2.06-2.06.94z\"/><path d=\"M17.41 7.96l-1.37-1.37c-.4-.4-.92-.59-1.43-.59-.52 0-1.04.2-1.43.59L10.3 9.45l-7.72 7.72c-.78.78-.78 2.05 0 2.83L4 21.41c.39.39.9.59 1.41.59.51 0 1.02-.2 1.41-.59l7.78-7.78 2.81-2.81c.8-.78.8-2.07 0-2.86zM5.41 20L4 18.59l7.72-7.72 1.47 1.35L5.41 20z\"/>\n",
              "  </svg>\n",
              "      </button>\n",
              "      \n",
              "  <style>\n",
              "    .colab-df-container {\n",
              "      display:flex;\n",
              "      flex-wrap:wrap;\n",
              "      gap: 12px;\n",
              "    }\n",
              "\n",
              "    .colab-df-convert {\n",
              "      background-color: #E8F0FE;\n",
              "      border: none;\n",
              "      border-radius: 50%;\n",
              "      cursor: pointer;\n",
              "      display: none;\n",
              "      fill: #1967D2;\n",
              "      height: 32px;\n",
              "      padding: 0 0 0 0;\n",
              "      width: 32px;\n",
              "    }\n",
              "\n",
              "    .colab-df-convert:hover {\n",
              "      background-color: #E2EBFA;\n",
              "      box-shadow: 0px 1px 2px rgba(60, 64, 67, 0.3), 0px 1px 3px 1px rgba(60, 64, 67, 0.15);\n",
              "      fill: #174EA6;\n",
              "    }\n",
              "\n",
              "    [theme=dark] .colab-df-convert {\n",
              "      background-color: #3B4455;\n",
              "      fill: #D2E3FC;\n",
              "    }\n",
              "\n",
              "    [theme=dark] .colab-df-convert:hover {\n",
              "      background-color: #434B5C;\n",
              "      box-shadow: 0px 1px 3px 1px rgba(0, 0, 0, 0.15);\n",
              "      filter: drop-shadow(0px 1px 2px rgba(0, 0, 0, 0.3));\n",
              "      fill: #FFFFFF;\n",
              "    }\n",
              "  </style>\n",
              "\n",
              "      <script>\n",
              "        const buttonEl =\n",
              "          document.querySelector('#df-d7598d96-5787-4aba-a983-20c9db5e734f button.colab-df-convert');\n",
              "        buttonEl.style.display =\n",
              "          google.colab.kernel.accessAllowed ? 'block' : 'none';\n",
              "\n",
              "        async function convertToInteractive(key) {\n",
              "          const element = document.querySelector('#df-d7598d96-5787-4aba-a983-20c9db5e734f');\n",
              "          const dataTable =\n",
              "            await google.colab.kernel.invokeFunction('convertToInteractive',\n",
              "                                                     [key], {});\n",
              "          if (!dataTable) return;\n",
              "\n",
              "          const docLinkHtml = 'Like what you see? Visit the ' +\n",
              "            '<a target=\"_blank\" href=https://colab.research.google.com/notebooks/data_table.ipynb>data table notebook</a>'\n",
              "            + ' to learn more about interactive tables.';\n",
              "          element.innerHTML = '';\n",
              "          dataTable['output_type'] = 'display_data';\n",
              "          await google.colab.output.renderOutput(dataTable, element);\n",
              "          const docLink = document.createElement('div');\n",
              "          docLink.innerHTML = docLinkHtml;\n",
              "          element.appendChild(docLink);\n",
              "        }\n",
              "      </script>\n",
              "    </div>\n",
              "  </div>\n",
              "  "
            ]
          },
          "metadata": {},
          "execution_count": 341
        }
      ]
    },
    {
      "cell_type": "markdown",
      "source": [
        "## Setando a seed do gerador de números aleatórios"
      ],
      "metadata": {
        "id": "DFwG0Pdakmjb"
      }
    },
    {
      "cell_type": "markdown",
      "source": [
        "\n",
        "- Dessa forma os resultados obtidos pelo modelo não serão diferentes para diferentes sessões"
      ],
      "metadata": {
        "id": "iodT6x0WLXDZ"
      }
    },
    {
      "cell_type": "code",
      "source": [
        "import numpy as np\n",
        "\n",
        "seed = 32642\n",
        "\n",
        "np.random.seed(seed)"
      ],
      "metadata": {
        "id": "L-E1tBnHkM6y"
      },
      "execution_count": 342,
      "outputs": []
    },
    {
      "cell_type": "markdown",
      "source": [
        "## Dividindo dataset de treinamento e teste em: features e classes"
      ],
      "metadata": {
        "id": "_MaHZWQIpHpc"
      }
    },
    {
      "cell_type": "code",
      "source": [
        "# Features de treinamento\n",
        "X_tr = avila_train.drop(['Class'], axis = 1)\n",
        "\n",
        "# Classes de treinamento\n",
        "y_tr = avila_train['Class']\n",
        "\n",
        "print(\"Dataset de treinamento\")\n",
        "print(\"Tamanho do dataset de features = \", X_tr.shape)\n",
        "print(\"Tamanho do dataset de classes = \", y_tr.shape)"
      ],
      "metadata": {
        "colab": {
          "base_uri": "https://localhost:8080/"
        },
        "id": "29r6Ue9d5m2_",
        "outputId": "7aa5d762-de87-4d2b-f30f-c6796064e03a"
      },
      "execution_count": 343,
      "outputs": [
        {
          "output_type": "stream",
          "name": "stdout",
          "text": [
            "Dataset de treinamento\n",
            "Tamanho do dataset de features =  (10430, 10)\n",
            "Tamanho do dataset de classes =  (10430,)\n"
          ]
        }
      ]
    },
    {
      "cell_type": "code",
      "source": [
        "# Features de teste\n",
        "X_ts = avila_test.drop(['Class'], axis = 1)\n",
        "\n",
        "# Classes de teste\n",
        "y_ts = avila_test['Class']\n",
        "\n",
        "print(\"Dataset de teste\")\n",
        "print(\"Tamanho do dataset de features = \", X_ts.shape)\n",
        "print(\"Tamanho do dataset de classes = \", y_ts.shape)"
      ],
      "metadata": {
        "colab": {
          "base_uri": "https://localhost:8080/"
        },
        "id": "MQNq59zoNKrU",
        "outputId": "c376e5d6-8257-4dfb-a685-90b58f49ad20"
      },
      "execution_count": 344,
      "outputs": [
        {
          "output_type": "stream",
          "name": "stdout",
          "text": [
            "Dataset de teste\n",
            "Tamanho do dataset de features =  (10437, 10)\n",
            "Tamanho do dataset de classes =  (10437,)\n"
          ]
        }
      ]
    },
    {
      "cell_type": "markdown",
      "source": [
        "## Modelo padrão de árvore de decisão"
      ],
      "metadata": {
        "id": "JMQuMpbCiw7n"
      }
    },
    {
      "cell_type": "code",
      "source": [
        "from sklearn.tree import DecisionTreeClassifier\n",
        "\n",
        "dtc = DecisionTreeClassifier(random_state = seed)\n",
        "dtc.fit(X_tr, y_tr)\n",
        "\n",
        "predicted = dtc.predict(X_ts)\n",
        "predicted"
      ],
      "metadata": {
        "id": "AogVDXK3r8Ok",
        "colab": {
          "base_uri": "https://localhost:8080/"
        },
        "outputId": "db65682c-5029-4752-d1c6-153d4f314854"
      },
      "execution_count": 345,
      "outputs": [
        {
          "output_type": "execute_result",
          "data": {
            "text/plain": [
              "array(['W', 'A', 'A', ..., 'A', 'F', 'H'], dtype=object)"
            ]
          },
          "metadata": {},
          "execution_count": 345
        }
      ]
    },
    {
      "cell_type": "markdown",
      "source": [
        "### Análises"
      ],
      "metadata": {
        "id": "979BvB1ucKc7"
      }
    },
    {
      "cell_type": "markdown",
      "source": [
        "#### Resultados de teste:"
      ],
      "metadata": {
        "id": "qaeTklwXcSB7"
      }
    },
    {
      "cell_type": "markdown",
      "source": [
        "- Para cada classe:\n",
        "  - Precisão\n",
        "  - Recall\n",
        "  - F1 Score\n",
        "- Acurácia\n",
        "- Médias macro e weighted:\n",
        "  - Precisão\n",
        "  - Recall\n",
        "  - F1 Score"
      ],
      "metadata": {
        "id": "nbqfiYKIua6U"
      }
    },
    {
      "cell_type": "code",
      "source": [
        "from sklearn.metrics import accuracy_score, precision_recall_fscore_support, classification_report\n",
        "\n",
        "cr = classification_report(predicted, y_ts, digits=4)\n",
        "\n",
        "print(f'Classification report: \\n{cr}')"
      ],
      "metadata": {
        "colab": {
          "base_uri": "https://localhost:8080/"
        },
        "id": "l0mC1t8EtUgD",
        "outputId": "3ff74dcb-f1d2-4c17-8919-220f26458dbd"
      },
      "execution_count": 346,
      "outputs": [
        {
          "output_type": "stream",
          "name": "stdout",
          "text": [
            "Classification report: \n",
            "              precision    recall  f1-score   support\n",
            "\n",
            "           A     0.9809    0.9800    0.9804      4290\n",
            "           B     1.0000    1.0000    1.0000         5\n",
            "           C     0.9806    0.9528    0.9665       106\n",
            "           D     0.9717    0.9608    0.9662       357\n",
            "           E     0.9443    0.9478    0.9460      1091\n",
            "           F     0.9745    0.9795    0.9770      1952\n",
            "           G     0.9620    0.9685    0.9652       444\n",
            "           H     0.9635    0.9364    0.9498       535\n",
            "           I     0.9832    0.9855    0.9844       830\n",
            "           W     0.9556    0.8431    0.8958        51\n",
            "           X     0.9176    0.9283    0.9229       516\n",
            "           Y     0.9288    0.9538    0.9412       260\n",
            "\n",
            "    accuracy                         0.9694     10437\n",
            "   macro avg     0.9635    0.9530    0.9580     10437\n",
            "weighted avg     0.9695    0.9694    0.9694     10437\n",
            "\n"
          ]
        }
      ]
    },
    {
      "cell_type": "markdown",
      "source": [
        "#### Matriz de confusão"
      ],
      "metadata": {
        "id": "n2UlS5D1f90V"
      }
    },
    {
      "cell_type": "code",
      "source": [
        "from sklearn.metrics import confusion_matrix, ConfusionMatrixDisplay\n",
        "\n",
        "\n",
        "cm = confusion_matrix(y_ts, predicted, labels=classes)\n",
        "disp = ConfusionMatrixDisplay(confusion_matrix=cm,\n",
        "                              display_labels=classes)\n",
        "\n",
        "fig, ax = plt.subplots(figsize=(10, 7))\n",
        "disp.plot(ax=ax)\n",
        "\n",
        "plt.show()"
      ],
      "metadata": {
        "colab": {
          "base_uri": "https://localhost:8080/",
          "height": 442
        },
        "id": "UyQZ35cnenvb",
        "outputId": "d5d14819-36f5-4e74-d9d2-a5bb2af47d59"
      },
      "execution_count": 347,
      "outputs": [
        {
          "output_type": "display_data",
          "data": {
            "text/plain": [
              "<Figure size 720x504 with 2 Axes>"
            ],
            "image/png": "[encoded data removed]"
          },
          "metadata": {
            "needs_background": "light"
          }
        }
      ]
    },
    {
      "cell_type": "markdown",
      "source": [
        "#### Poda da árvore"
      ],
      "metadata": {
        "id": "ixKGNwkYibtY"
      }
    },
    {
      "cell_type": "markdown",
      "source": [
        "O sckit implementa o algoritmo de Minimal Cost-Complexity Pruning: https://scikit-learn.org/stable/modules/tree.html#minimal-cost-complexity-pruning\n",
        "- Para usá-lo, teremos que assimilar um valor para o parâmetro: ccp_aplha\n",
        "- Testaremos diversos valores de ccp_alpha com o auxilio do método: cost_complexity_pruning_path, que nos ajuda retornando conjuntos de ccp_alphas efetivos e, para cada um, valores totais de impurezas."
      ],
      "metadata": {
        "id": "Plml749bfhqW"
      }
    },
    {
      "cell_type": "code",
      "source": [
        "dtc = DecisionTreeClassifier(random_state=seed)\n",
        "path = dtc.cost_complexity_pruning_path(X_tr, y_tr)\n",
        "ccp_alphas, impurities = path.ccp_alphas, path.impurities"
      ],
      "metadata": {
        "id": "hKUPA1f5iwJl"
      },
      "execution_count": 348,
      "outputs": []
    },
    {
      "cell_type": "code",
      "source": [
        "fig, ax = plt.subplots(figsize=(10, 7))\n",
        "ax.plot(ccp_alphas[:-1], impurities[:-1], drawstyle=\"steps-post\")\n",
        "\n",
        "ax.set_xlabel(\"effective alpha\")\n",
        "ax.set_ylabel(\"total impurity of leaves\")\n",
        "\n",
        "ax.set_title(\"Total Impurity vs effective alpha for training set\")"
      ],
      "metadata": {
        "colab": {
          "base_uri": "https://localhost:8080/",
          "height": 476
        },
        "id": "wKvLz0ttoiBw",
        "outputId": "14653c70-7f1e-499d-d09b-d2d4da31faf2"
      },
      "execution_count": 349,
      "outputs": [
        {
          "output_type": "execute_result",
          "data": {
            "text/plain": [
              "Text(0.5, 1.0, 'Total Impurity vs effective alpha for training set')"
            ]
          },
          "metadata": {},
          "execution_count": 349
        },
        {
          "output_type": "display_data",
          "data": {
            "text/plain": [
              "<Figure size 720x504 with 1 Axes>"
            ],
            "image/png": "[encoded data removed]"
          },
          "metadata": {
            "needs_background": "light"
          }
        }
      ]
    },
    {
      "cell_type": "code",
      "source": [
        "clfs = []\n",
        "for ccp_alpha in ccp_alphas:\n",
        "    dtc = DecisionTreeClassifier(random_state=seed, ccp_alpha=ccp_alpha)\n",
        "    dtc.fit(X_tr, y_tr)\n",
        "    clfs.append(dtc)\n",
        "print(\n",
        "    \"Number of nodes in the last tree is: {} with ccp_alpha: {}\".format(\n",
        "        clfs[-1].tree_.node_count, ccp_alphas[-1]\n",
        "    )\n",
        ")"
      ],
      "metadata": {
        "colab": {
          "base_uri": "https://localhost:8080/"
        },
        "id": "iRRVPtqgql1-",
        "outputId": "24e8cd64-f988-4f53-97b5-bd3c03afa8c3"
      },
      "execution_count": 350,
      "outputs": [
        {
          "output_type": "stream",
          "name": "stdout",
          "text": [
            "Number of nodes in the last tree is: 1 with ccp_alpha: 0.07964828360707343\n"
          ]
        }
      ]
    },
    {
      "cell_type": "code",
      "source": [
        "clfs = clfs[:-1]\n",
        "ccp_alphas = ccp_alphas[:-1]\n",
        "\n",
        "node_counts = [dtc.tree_.node_count for dtc in clfs]\n",
        "depth = [dtc.tree_.max_depth for dtc in clfs]\n",
        "fig, ax = plt.subplots(2, 1, figsize=(10, 7))\n",
        "ax[0].plot(ccp_alphas, node_counts, drawstyle=\"steps-post\")\n",
        "ax[0].set_xlabel(\"alpha\")\n",
        "ax[0].set_ylabel(\"number of nodes\")\n",
        "ax[0].set_title(\"Number of nodes vs alpha\")\n",
        "ax[1].plot(ccp_alphas, depth, drawstyle=\"steps-post\")\n",
        "ax[1].set_xlabel(\"alpha\")\n",
        "ax[1].set_ylabel(\"depth of tree\")\n",
        "ax[1].set_title(\"Depth vs alpha\")\n",
        "fig.tight_layout()"
      ],
      "metadata": {
        "colab": {
          "base_uri": "https://localhost:8080/",
          "height": 513
        },
        "id": "pOe6hCjyrAB2",
        "outputId": "e3129f54-dfaf-4544-aa8e-014aa1cb7a92"
      },
      "execution_count": 351,
      "outputs": [
        {
          "output_type": "display_data",
          "data": {
            "text/plain": [
              "<Figure size 720x504 with 2 Axes>"
            ],
            "image/png": "[encoded data removed]"
          },
          "metadata": {
            "needs_background": "light"
          }
        }
      ]
    },
    {
      "cell_type": "code",
      "source": [
        "train_scores = [dtc.score(X_tr, y_tr) for dtc in clfs]\n",
        "test_scores = [dtc.score(X_ts, y_ts) for dtc in clfs]\n",
        "\n",
        "fig, ax = plt.subplots(figsize=(10, 7))\n",
        "ax.set_xlabel(\"alpha\")\n",
        "ax.set_ylabel(\"accuracy\")\n",
        "ax.set_title(\"Accuracy vs alpha for training and testing sets\")\n",
        "ax.plot(ccp_alphas, train_scores, label=\"train\", drawstyle=\"steps-post\")\n",
        "ax.plot(ccp_alphas, test_scores, label=\"test\", drawstyle=\"steps-post\")\n",
        "ax.legend()\n",
        "plt.show()"
      ],
      "metadata": {
        "colab": {
          "base_uri": "https://localhost:8080/",
          "height": 458
        },
        "id": "BdDlQvT_r7K3",
        "outputId": "6ba35e10-9862-4aaf-82d1-3a31009c6f3b"
      },
      "execution_count": 352,
      "outputs": [
        {
          "output_type": "display_data",
          "data": {
            "text/plain": [
              "<Figure size 720x504 with 1 Axes>"
            ],
            "image/png": "[encoded data removed]"
          },
          "metadata": {
            "needs_background": "light"
          }
        }
      ]
    },
    {
      "cell_type": "markdown",
      "source": [
        "## Otimização do modelo usando GridSearchCV\n"
      ],
      "metadata": {
        "id": "wtGU6IhcH_TE"
      }
    },
    {
      "cell_type": "markdown",
      "source": [
        "Código de referência: https://scikit-learn.org/stable/modules/generated/sklearn.model_selection.GridSearchCV.html\n",
        "- Usaremos 5 folds para o Cross Validation do modelo, assim permitindo com que pelo menos um elemento da classe B fique em cada fold."
      ],
      "metadata": {
        "id": "lVqrnNWwLr1s"
      }
    },
    {
      "cell_type": "code",
      "source": [
        "from sklearn.model_selection import GridSearchCV\n",
        "\n",
        "dtc = DecisionTreeClassifier()\n",
        "\n",
        "params = {'criterion':['gini', 'entropy', 'log_loss'], \n",
        "          'splitter':['best','random'],\n",
        "          'max_depth':[2,5,10,15,20],\n",
        "          'ccp_alpha':[0.00001,0.001,0.01,0.1,0.5,0.75],\n",
        "          'random_state': [seed]}\n",
        "\n",
        "gs_dtc = GridSearchCV(dtc, params, cv=5, refit=True)"
      ],
      "metadata": {
        "id": "FCr4GXtYIExB"
      },
      "execution_count": 353,
      "outputs": []
    },
    {
      "cell_type": "code",
      "source": [
        "gs_dtc.fit(X_tr, y_tr)\n",
        "gs_dtc.best_params_"
      ],
      "metadata": {
        "colab": {
          "base_uri": "https://localhost:8080/"
        },
        "id": "ptjNr_DcPQXS",
        "outputId": "a2244b7e-b62a-4809-afbd-78fa6e69f666"
      },
      "execution_count": 354,
      "outputs": [
        {
          "output_type": "execute_result",
          "data": {
            "text/plain": [
              "{'ccp_alpha': 1e-05,\n",
              " 'criterion': 'entropy',\n",
              " 'max_depth': 20,\n",
              " 'random_state': 32642,\n",
              " 'splitter': 'best'}"
            ]
          },
          "metadata": {},
          "execution_count": 354
        }
      ]
    },
    {
      "cell_type": "code",
      "source": [
        "best_dtc = DecisionTreeClassifier()\n",
        "\n",
        "best_dtc.set_params(**gs_dtc.best_params_)\n",
        "\n",
        "best_dtc.fit(X_tr, y_tr)"
      ],
      "metadata": {
        "colab": {
          "base_uri": "https://localhost:8080/",
          "height": 92
        },
        "id": "XTDf_t09RPpy",
        "outputId": "0df08b81-6a5d-4e6d-b4de-98f018bc4ed3"
      },
      "execution_count": 355,
      "outputs": [
        {
          "output_type": "execute_result",
          "data": {
            "text/plain": [
              "DecisionTreeClassifier(ccp_alpha=1e-05, criterion='entropy', max_depth=20,\n",
              "                       random_state=32642)"
            ],
            "text/html": [
              "<style>#sk-container-id-11 {color: black;background-color: white;}#sk-container-id-11 pre{padding: 0;}#sk-container-id-11 div.sk-toggleable {background-color: white;}#sk-container-id-11 label.sk-toggleable__label {cursor: pointer;display: block;width: 100%;margin-bottom: 0;padding: 0.3em;box-sizing: border-box;text-align: center;}#sk-container-id-11 label.sk-toggleable__label-arrow:before {content: \"▸\";float: left;margin-right: 0.25em;color: #696969;}#sk-container-id-11 label.sk-toggleable__label-arrow:hover:before {color: black;}#sk-container-id-11 div.sk-estimator:hover label.sk-toggleable__label-arrow:before {color: black;}#sk-container-id-11 div.sk-toggleable__content {max-height: 0;max-width: 0;overflow: hidden;text-align: left;background-color: #f0f8ff;}#sk-container-id-11 div.sk-toggleable__content pre {margin: 0.2em;color: black;border-radius: 0.25em;background-color: #f0f8ff;}#sk-container-id-11 input.sk-toggleable__control:checked~div.sk-toggleable__content {max-height: 200px;max-width: 100%;overflow: auto;}#sk-container-id-11 input.sk-toggleable__control:checked~label.sk-toggleable__label-arrow:before {content: \"▾\";}#sk-container-id-11 div.sk-estimator input.sk-toggleable__control:checked~label.sk-toggleable__label {background-color: #d4ebff;}#sk-container-id-11 div.sk-label input.sk-toggleable__control:checked~label.sk-toggleable__label {background-color: #d4ebff;}#sk-container-id-11 input.sk-hidden--visually {border: 0;clip: rect(1px 1px 1px 1px);clip: rect(1px, 1px, 1px, 1px);height: 1px;margin: -1px;overflow: hidden;padding: 0;position: absolute;width: 1px;}#sk-container-id-11 div.sk-estimator {font-family: monospace;background-color: #f0f8ff;border: 1px dotted black;border-radius: 0.25em;box-sizing: border-box;margin-bottom: 0.5em;}#sk-container-id-11 div.sk-estimator:hover {background-color: #d4ebff;}#sk-container-id-11 div.sk-parallel-item::after {content: \"\";width: 100%;border-bottom: 1px solid gray;flex-grow: 1;}#sk-container-id-11 div.sk-label:hover label.sk-toggleable__label {background-color: #d4ebff;}#sk-container-id-11 div.sk-serial::before {content: \"\";position: absolute;border-left: 1px solid gray;box-sizing: border-box;top: 0;bottom: 0;left: 50%;z-index: 0;}#sk-container-id-11 div.sk-serial {display: flex;flex-direction: column;align-items: center;background-color: white;padding-right: 0.2em;padding-left: 0.2em;position: relative;}#sk-container-id-11 div.sk-item {position: relative;z-index: 1;}#sk-container-id-11 div.sk-parallel {display: flex;align-items: stretch;justify-content: center;background-color: white;position: relative;}#sk-container-id-11 div.sk-item::before, #sk-container-id-11 div.sk-parallel-item::before {content: \"\";position: absolute;border-left: 1px solid gray;box-sizing: border-box;top: 0;bottom: 0;left: 50%;z-index: -1;}#sk-container-id-11 div.sk-parallel-item {display: flex;flex-direction: column;z-index: 1;position: relative;background-color: white;}#sk-container-id-11 div.sk-parallel-item:first-child::after {align-self: flex-end;width: 50%;}#sk-container-id-11 div.sk-parallel-item:last-child::after {align-self: flex-start;width: 50%;}#sk-container-id-11 div.sk-parallel-item:only-child::after {width: 0;}#sk-container-id-11 div.sk-dashed-wrapped {border: 1px dashed gray;margin: 0 0.4em 0.5em 0.4em;box-sizing: border-box;padding-bottom: 0.4em;background-color: white;}#sk-container-id-11 div.sk-label label {font-family: monospace;font-weight: bold;display: inline-block;line-height: 1.2em;}#sk-container-id-11 div.sk-label-container {text-align: center;}#sk-container-id-11 div.sk-container {/* jupyter's `normalize.less` sets `[hidden] { display: none; }` but bootstrap.min.css set `[hidden] { display: none !important; }` so we also need the `!important` here to be able to override the default hidden behavior on the sphinx rendered scikit-learn.org. See: https://github.com/scikit-learn/scikit-learn/issues/21755 */display: inline-block !important;position: relative;}#sk-container-id-11 div.sk-text-repr-fallback {display: none;}</style><div id=\"sk-container-id-11\" class=\"sk-top-container\"><div class=\"sk-text-repr-fallback\"><pre>DecisionTreeClassifier(ccp_alpha=1e-05, criterion=&#x27;entropy&#x27;, max_depth=20,\n",
              "                       random_state=32642)</pre><b>In a Jupyter environment, please rerun this cell to show the HTML representation or trust the notebook. <br />On GitHub, the HTML representation is unable to render, please try loading this page with nbviewer.org.</b></div><div class=\"sk-container\" hidden><div class=\"sk-item\"><div class=\"sk-estimator sk-toggleable\"><input class=\"sk-toggleable__control sk-hidden--visually\" id=\"sk-estimator-id-21\" type=\"checkbox\" checked><label for=\"sk-estimator-id-21\" class=\"sk-toggleable__label sk-toggleable__label-arrow\">DecisionTreeClassifier</label><div class=\"sk-toggleable__content\"><pre>DecisionTreeClassifier(ccp_alpha=1e-05, criterion=&#x27;entropy&#x27;, max_depth=20,\n",
              "                       random_state=32642)</pre></div></div></div></div></div>"
            ]
          },
          "metadata": {},
          "execution_count": 355
        }
      ]
    },
    {
      "cell_type": "code",
      "source": [
        "best_predicted = best_dtc.predict(X_ts)\n",
        "best_predicted"
      ],
      "metadata": {
        "colab": {
          "base_uri": "https://localhost:8080/"
        },
        "id": "IL2wUxmPRQXG",
        "outputId": "1d1eccc2-7e55-444d-8ba5-68cfa3c280f3"
      },
      "execution_count": 356,
      "outputs": [
        {
          "output_type": "execute_result",
          "data": {
            "text/plain": [
              "array(['W', 'A', 'I', ..., 'A', 'F', 'H'], dtype=object)"
            ]
          },
          "metadata": {},
          "execution_count": 356
        }
      ]
    },
    {
      "cell_type": "markdown",
      "source": [
        "### Análises do melhor modelo do GridSearchCV"
      ],
      "metadata": {
        "id": "CeUE658KSjaK"
      }
    },
    {
      "cell_type": "markdown",
      "source": [
        "#### Resultados de teste:"
      ],
      "metadata": {
        "id": "euTv_mZeSjaL"
      }
    },
    {
      "cell_type": "markdown",
      "source": [
        "- Para cada classe:\n",
        "  - Precisão\n",
        "  - Recall\n",
        "  - F1 Score\n",
        "- Acurácia\n",
        "- Médias macro e weighted:\n",
        "  - Precisão\n",
        "  - Recall\n",
        "  - F1 Score"
      ],
      "metadata": {
        "id": "dhMQhHcbSjaM"
      }
    },
    {
      "cell_type": "code",
      "source": [
        "cr = classification_report(best_predicted, y_ts, digits=4)\n",
        "\n",
        "print(f'Classification report: \\n{cr}')"
      ],
      "metadata": {
        "colab": {
          "base_uri": "https://localhost:8080/"
        },
        "outputId": "c549ae67-d976-48f7-f8da-d49feb0bf541",
        "id": "LyV0rkKJSjaM"
      },
      "execution_count": 357,
      "outputs": [
        {
          "output_type": "stream",
          "name": "stdout",
          "text": [
            "Classification report: \n",
            "              precision    recall  f1-score   support\n",
            "\n",
            "           A     0.9944    0.9949    0.9946      4284\n",
            "           B     1.0000    1.0000    1.0000         5\n",
            "           C     0.9806    0.9712    0.9758       104\n",
            "           D     0.9688    0.9942    0.9813       344\n",
            "           E     0.9781    0.9649    0.9714      1110\n",
            "           F     0.9975    0.9924    0.9949      1972\n",
            "           G     0.9508    0.9907    0.9703       429\n",
            "           H     0.9788    0.9770    0.9779       521\n",
            "           I     0.9988    1.0000    0.9994       831\n",
            "           W     1.0000    0.9574    0.9783        47\n",
            "           X     0.9579    0.9470    0.9524       528\n",
            "           Y     0.9700    0.9885    0.9792       262\n",
            "\n",
            "    accuracy                         0.9875     10437\n",
            "   macro avg     0.9813    0.9815    0.9813     10437\n",
            "weighted avg     0.9876    0.9875    0.9875     10437\n",
            "\n"
          ]
        }
      ]
    },
    {
      "cell_type": "markdown",
      "source": [
        "#### Matriz de confusão"
      ],
      "metadata": {
        "id": "ys0fe9QXSjaN"
      }
    },
    {
      "cell_type": "code",
      "source": [
        "cm = confusion_matrix(y_ts, best_predicted, labels=classes)\n",
        "disp = ConfusionMatrixDisplay(confusion_matrix=cm,\n",
        "                              display_labels=classes)\n",
        "\n",
        "fig, ax = plt.subplots(figsize=(10, 7))\n",
        "disp.plot(ax=ax)\n",
        "\n",
        "plt.show()"
      ],
      "metadata": {
        "colab": {
          "base_uri": "https://localhost:8080/",
          "height": 442
        },
        "outputId": "920f2f02-0057-42e3-9669-045a884d289f",
        "id": "Ng2DfAhDSjaO"
      },
      "execution_count": 358,
      "outputs": [
        {
          "output_type": "display_data",
          "data": {
            "text/plain": [
              "<Figure size 720x504 with 2 Axes>"
            ],
            "image/png": "[encoded data removed]"
          },
          "metadata": {
            "needs_background": "light"
          }
        }
      ]
    }
  ]
}