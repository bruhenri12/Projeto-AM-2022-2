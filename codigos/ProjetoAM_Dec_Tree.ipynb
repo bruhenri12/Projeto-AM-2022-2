{
  "nbformat": 4,
  "nbformat_minor": 0,
  "metadata": {
    "colab": {
      "provenance": [],
      "collapsed_sections": [
        "lbFqjA2xiNw4",
        "aX96X1q-idhe",
        "gP-DxvknikCM",
        "DFwG0Pdakmjb",
        "_MaHZWQIpHpc",
        "n2UlS5D1f90V",
        "ixKGNwkYibtY",
        "wtGU6IhcH_TE",
        "CeUE658KSjaK",
        "euTv_mZeSjaL",
        "ys0fe9QXSjaN"
      ]
    },
    "kernelspec": {
      "name": "python3",
      "display_name": "Python 3"
    },
    "language_info": {
      "name": "python"
    },
    "gpuClass": "standard"
  },
  "cells": [
    {
      "cell_type": "markdown",
      "metadata": {
        "id": "reRDrfFXQatP"
      },
      "source": [
        "# Classificação usando Árvore de Decisão\n"
      ]
    },
    {
      "cell_type": "code",
      "source": [
        "from google.colab import drive\n",
        "drive.mount('/content/drive')"
      ],
      "metadata": {
        "colab": {
          "base_uri": "https://localhost:8080/"
        },
        "id": "__FoJn2R0Yk5",
        "outputId": "59aafae4-a239-4a82-e5c0-fdd7d52bc317"
      },
      "execution_count": 1,
      "outputs": [
        {
          "output_type": "stream",
          "name": "stdout",
          "text": [
            "Mounted at /content/drive\n"
          ]
        }
      ]
    },
    {
      "cell_type": "markdown",
      "source": [
        "## Bibliotecas e referências usadas"
      ],
      "metadata": {
        "id": "pAoTlNu43St0"
      }
    },
    {
      "cell_type": "markdown",
      "metadata": {
        "id": "N4xUaUwWkNZY"
      },
      "source": [
        "- scikit-learn\n",
        "  - sklearn.tree\n",
        "    - [DecisionTreeClassifier](https://scikit-learn.org/stable/modules/generated/sklearn.tree.DecisionTreeClassifier.html)\n",
        "    - [Post pruning decision trees with cost complexity pruning](https://scikit-learn.org/stable/auto_examples/tree/plot_cost_complexity_pruning.html)\n",
        "  - sklearn.model_selection\n",
        "    - train_test_split\n",
        "    - [GridSearchCV](https://scikit-learn.org/stable/modules/generated/sklearn.model_selection.GridSearchCV.html)\n",
        "  - sklearn.metrics\n",
        "    - accuracy_score\n",
        "    - [precision_recall_fscore_support](https://scikit-learn.org/stable/modules/generated/sklearn.metrics.precision_recall_fscore_support.html)\n",
        "    - [classification_report](https://scikit-learn.org/stable/modules/generated/sklearn.metrics.classification_report.html)\n",
        "    - confusion_matrix\n",
        "    - [ConfusionMatrixDisplay](https://scikit-learn.org/stable/modules/generated/sklearn.metrics.ConfusionMatrixDisplay.html)\n",
        "- pandas\n",
        "- numpy\n",
        "- matplotlib"
      ]
    },
    {
      "cell_type": "markdown",
      "metadata": {
        "jp-MarkdownHeadingCollapsed": true,
        "tags": [],
        "id": "yKqdwFEYz1Yl"
      },
      "source": [
        "## Importando dependências"
      ]
    },
    {
      "cell_type": "code",
      "execution_count": 2,
      "metadata": {
        "id": "5f0NgGHiz1Yn"
      },
      "outputs": [],
      "source": [
        "from google.colab import files\n",
        "from matplotlib import pyplot as plt\n",
        "from mpl_toolkits.mplot3d import axes3d\n",
        "from numpy import unique\n",
        "from sklearn import metrics\n",
        "from sklearn import preprocessing\n",
        "from sklearn.decomposition import PCA\n",
        "from sklearn.linear_model import LogisticRegression\n",
        "from sklearn.metrics import accuracy_score, precision_recall_fscore_support, classification_report\n",
        "from sklearn.metrics import ConfusionMatrixDisplay, confusion_matrix\n",
        "from sklearn.model_selection import GridSearchCV\n",
        "from sklearn.neighbors import KNeighborsClassifier\n",
        "from sklearn.tree import DecisionTreeClassifier\n",
        "import io\n",
        "import matplotlib.pyplot as plt\n",
        "import numpy as np\n",
        "import pandas as pd"
      ]
    },
    {
      "cell_type": "markdown",
      "metadata": {
        "id": "lbFqjA2xiNw4"
      },
      "source": [
        "## Importando os datasets"
      ]
    },
    {
      "cell_type": "markdown",
      "metadata": {
        "id": "aX96X1q-idhe"
      },
      "source": [
        "### Dataset de treinamento: avila-tr.txt"
      ]
    },
    {
      "cell_type": "code",
      "execution_count": 3,
      "metadata": {
        "colab": {
          "base_uri": "https://localhost:8080/",
          "height": 268
        },
        "id": "hhMXrOTLTlRV",
        "outputId": "aefcd1d0-9387-4831-c4c7-41a9ba85127f"
      },
      "outputs": [
        {
          "output_type": "execute_result",
          "data": {
            "text/plain": [
              "   intercolumnar distance  upper margin  lower margin  exploitation  \\\n",
              "0                0.266074     -0.165620      0.320980      0.483299   \n",
              "1                0.130292      0.870736     -3.210528      0.062493   \n",
              "2               -0.116585      0.069915      0.068476     -0.783147   \n",
              "3                0.031541      0.297600     -3.210528     -0.583590   \n",
              "4                0.229043      0.807926     -0.052442      0.082634   \n",
              "\n",
              "   row number  modular ratio  interlinear spacing    weight  peak number  \\\n",
              "0    0.172340       0.273364             0.371178  0.929823     0.251173   \n",
              "1    0.261718       1.436060             1.465940  0.636203     0.282354   \n",
              "2    0.261718       0.439463            -0.081827 -0.888236    -0.123005   \n",
              "3   -0.721442      -0.307984             0.710932  1.051693     0.594169   \n",
              "4    0.261718       0.148790             0.635431  0.051062     0.032902   \n",
              "\n",
              "   modular ratio/ interlinear spacing Class  \n",
              "0                            0.159345     A  \n",
              "1                            0.515587     A  \n",
              "2                            0.582939     A  \n",
              "3                           -0.533994     A  \n",
              "4                           -0.086652     F  "
            ],
            "text/html": [
              "\n",
              "  <div id=\"df-7627b4db-9224-4c02-a4c9-f90a6342a710\">\n",
              "    <div class=\"colab-df-container\">\n",
              "      <div>\n",
              "<style scoped>\n",
              "    .dataframe tbody tr th:only-of-type {\n",
              "        vertical-align: middle;\n",
              "    }\n",
              "\n",
              "    .dataframe tbody tr th {\n",
              "        vertical-align: top;\n",
              "    }\n",
              "\n",
              "    .dataframe thead th {\n",
              "        text-align: right;\n",
              "    }\n",
              "</style>\n",
              "<table border=\"1\" class=\"dataframe\">\n",
              "  <thead>\n",
              "    <tr style=\"text-align: right;\">\n",
              "      <th></th>\n",
              "      <th>intercolumnar distance</th>\n",
              "      <th>upper margin</th>\n",
              "      <th>lower margin</th>\n",
              "      <th>exploitation</th>\n",
              "      <th>row number</th>\n",
              "      <th>modular ratio</th>\n",
              "      <th>interlinear spacing</th>\n",
              "      <th>weight</th>\n",
              "      <th>peak number</th>\n",
              "      <th>modular ratio/ interlinear spacing</th>\n",
              "      <th>Class</th>\n",
              "    </tr>\n",
              "  </thead>\n",
              "  <tbody>\n",
              "    <tr>\n",
              "      <th>0</th>\n",
              "      <td>0.266074</td>\n",
              "      <td>-0.165620</td>\n",
              "      <td>0.320980</td>\n",
              "      <td>0.483299</td>\n",
              "      <td>0.172340</td>\n",
              "      <td>0.273364</td>\n",
              "      <td>0.371178</td>\n",
              "      <td>0.929823</td>\n",
              "      <td>0.251173</td>\n",
              "      <td>0.159345</td>\n",
              "      <td>A</td>\n",
              "    </tr>\n",
              "    <tr>\n",
              "      <th>1</th>\n",
              "      <td>0.130292</td>\n",
              "      <td>0.870736</td>\n",
              "      <td>-3.210528</td>\n",
              "      <td>0.062493</td>\n",
              "      <td>0.261718</td>\n",
              "      <td>1.436060</td>\n",
              "      <td>1.465940</td>\n",
              "      <td>0.636203</td>\n",
              "      <td>0.282354</td>\n",
              "      <td>0.515587</td>\n",
              "      <td>A</td>\n",
              "    </tr>\n",
              "    <tr>\n",
              "      <th>2</th>\n",
              "      <td>-0.116585</td>\n",
              "      <td>0.069915</td>\n",
              "      <td>0.068476</td>\n",
              "      <td>-0.783147</td>\n",
              "      <td>0.261718</td>\n",
              "      <td>0.439463</td>\n",
              "      <td>-0.081827</td>\n",
              "      <td>-0.888236</td>\n",
              "      <td>-0.123005</td>\n",
              "      <td>0.582939</td>\n",
              "      <td>A</td>\n",
              "    </tr>\n",
              "    <tr>\n",
              "      <th>3</th>\n",
              "      <td>0.031541</td>\n",
              "      <td>0.297600</td>\n",
              "      <td>-3.210528</td>\n",
              "      <td>-0.583590</td>\n",
              "      <td>-0.721442</td>\n",
              "      <td>-0.307984</td>\n",
              "      <td>0.710932</td>\n",
              "      <td>1.051693</td>\n",
              "      <td>0.594169</td>\n",
              "      <td>-0.533994</td>\n",
              "      <td>A</td>\n",
              "    </tr>\n",
              "    <tr>\n",
              "      <th>4</th>\n",
              "      <td>0.229043</td>\n",
              "      <td>0.807926</td>\n",
              "      <td>-0.052442</td>\n",
              "      <td>0.082634</td>\n",
              "      <td>0.261718</td>\n",
              "      <td>0.148790</td>\n",
              "      <td>0.635431</td>\n",
              "      <td>0.051062</td>\n",
              "      <td>0.032902</td>\n",
              "      <td>-0.086652</td>\n",
              "      <td>F</td>\n",
              "    </tr>\n",
              "  </tbody>\n",
              "</table>\n",
              "</div>\n",
              "      <button class=\"colab-df-convert\" onclick=\"convertToInteractive('df-7627b4db-9224-4c02-a4c9-f90a6342a710')\"\n",
              "              title=\"Convert this dataframe to an interactive table.\"\n",
              "              style=\"display:none;\">\n",
              "        \n",
              "  <svg xmlns=\"http://www.w3.org/2000/svg\" height=\"24px\"viewBox=\"0 0 24 24\"\n",
              "       width=\"24px\">\n",
              "    <path d=\"M0 0h24v24H0V0z\" fill=\"none\"/>\n",
              "    <path d=\"M18.56 5.44l.94 2.06.94-2.06 2.06-.94-2.06-.94-.94-2.06-.94 2.06-2.06.94zm-11 1L8.5 8.5l.94-2.06 2.06-.94-2.06-.94L8.5 2.5l-.94 2.06-2.06.94zm10 10l.94 2.06.94-2.06 2.06-.94-2.06-.94-.94-2.06-.94 2.06-2.06.94z\"/><path d=\"M17.41 7.96l-1.37-1.37c-.4-.4-.92-.59-1.43-.59-.52 0-1.04.2-1.43.59L10.3 9.45l-7.72 7.72c-.78.78-.78 2.05 0 2.83L4 21.41c.39.39.9.59 1.41.59.51 0 1.02-.2 1.41-.59l7.78-7.78 2.81-2.81c.8-.78.8-2.07 0-2.86zM5.41 20L4 18.59l7.72-7.72 1.47 1.35L5.41 20z\"/>\n",
              "  </svg>\n",
              "      </button>\n",
              "      \n",
              "  <style>\n",
              "    .colab-df-container {\n",
              "      display:flex;\n",
              "      flex-wrap:wrap;\n",
              "      gap: 12px;\n",
              "    }\n",
              "\n",
              "    .colab-df-convert {\n",
              "      background-color: #E8F0FE;\n",
              "      border: none;\n",
              "      border-radius: 50%;\n",
              "      cursor: pointer;\n",
              "      display: none;\n",
              "      fill: #1967D2;\n",
              "      height: 32px;\n",
              "      padding: 0 0 0 0;\n",
              "      width: 32px;\n",
              "    }\n",
              "\n",
              "    .colab-df-convert:hover {\n",
              "      background-color: #E2EBFA;\n",
              "      box-shadow: 0px 1px 2px rgba(60, 64, 67, 0.3), 0px 1px 3px 1px rgba(60, 64, 67, 0.15);\n",
              "      fill: #174EA6;\n",
              "    }\n",
              "\n",
              "    [theme=dark] .colab-df-convert {\n",
              "      background-color: #3B4455;\n",
              "      fill: #D2E3FC;\n",
              "    }\n",
              "\n",
              "    [theme=dark] .colab-df-convert:hover {\n",
              "      background-color: #434B5C;\n",
              "      box-shadow: 0px 1px 3px 1px rgba(0, 0, 0, 0.15);\n",
              "      filter: drop-shadow(0px 1px 2px rgba(0, 0, 0, 0.3));\n",
              "      fill: #FFFFFF;\n",
              "    }\n",
              "  </style>\n",
              "\n",
              "      <script>\n",
              "        const buttonEl =\n",
              "          document.querySelector('#df-7627b4db-9224-4c02-a4c9-f90a6342a710 button.colab-df-convert');\n",
              "        buttonEl.style.display =\n",
              "          google.colab.kernel.accessAllowed ? 'block' : 'none';\n",
              "\n",
              "        async function convertToInteractive(key) {\n",
              "          const element = document.querySelector('#df-7627b4db-9224-4c02-a4c9-f90a6342a710');\n",
              "          const dataTable =\n",
              "            await google.colab.kernel.invokeFunction('convertToInteractive',\n",
              "                                                     [key], {});\n",
              "          if (!dataTable) return;\n",
              "\n",
              "          const docLinkHtml = 'Like what you see? Visit the ' +\n",
              "            '<a target=\"_blank\" href=https://colab.research.google.com/notebooks/data_table.ipynb>data table notebook</a>'\n",
              "            + ' to learn more about interactive tables.';\n",
              "          element.innerHTML = '';\n",
              "          dataTable['output_type'] = 'display_data';\n",
              "          await google.colab.output.renderOutput(dataTable, element);\n",
              "          const docLink = document.createElement('div');\n",
              "          docLink.innerHTML = docLinkHtml;\n",
              "          element.appendChild(docLink);\n",
              "        }\n",
              "      </script>\n",
              "    </div>\n",
              "  </div>\n",
              "  "
            ]
          },
          "metadata": {},
          "execution_count": 3
        }
      ],
      "source": [
        "# labels das features\n",
        "labels = [\"intercolumnar distance\",\"upper margin\",\"lower margin\",\"exploitation\",\"row number\",\"modular ratio\",\"interlinear spacing\",\"weight\",\"peak number\",\"modular ratio/ interlinear spacing\",\"Class\"]\n",
        "# labels das classes\n",
        "classes = [\"A\", \"B\", \"C\", \"D\", \"E\", \"F\", \"G\", \"H\", \"I\", \"W\", \"X\", \"Y\"]\n",
        "\n",
        "path_dataset_train = \"/content/drive/MyDrive/Disciplinas/2022.2/AM-GRAD 2022-2/Projeto AM 2022-2/data/avila-tr.txt\"\n",
        "\n",
        "avila_train = pd.read_csv(path_dataset_train, sep=\",\",header=None,names=labels)\n",
        "avila_train.head()"
      ]
    },
    {
      "cell_type": "markdown",
      "metadata": {
        "id": "gP-DxvknikCM"
      },
      "source": [
        "### Dataset de teste: avila-ts.txt"
      ]
    },
    {
      "cell_type": "code",
      "execution_count": 4,
      "metadata": {
        "colab": {
          "base_uri": "https://localhost:8080/",
          "height": 268
        },
        "id": "CfYvWRqQikCO",
        "outputId": "5e9eb7f0-4ec4-4ab5-be18-75d355b8e9a1"
      },
      "outputs": [
        {
          "output_type": "execute_result",
          "data": {
            "text/plain": [
              "   intercolumnar distance  upper margin  lower margin  exploitation  \\\n",
              "0               -3.498799      0.250492      0.232070      1.224178   \n",
              "1                0.204355     -0.354049      0.320980      0.410166   \n",
              "2                0.759828     -1.304042     -0.023991     -0.973663   \n",
              "3               -0.005490      0.360409      0.281860     -0.213479   \n",
              "4                0.080916      0.101320      0.104040      0.140490   \n",
              "\n",
              "   row number  modular ratio  interlinear spacing    weight  peak number  \\\n",
              "0   -4.922215       1.145386             0.182426 -0.165983    -0.123005   \n",
              "1   -0.989576      -2.218127             0.220177  0.181844     2.090879   \n",
              "2   -0.006417      -0.349509            -0.421580 -0.450127     0.469443   \n",
              "3   -1.168333      -1.013906            -0.346080  1.176165     0.968347   \n",
              "4    0.261718       0.480988             0.710932 -0.253430    -0.497183   \n",
              "\n",
              "   modular ratio/ interlinear spacing Class  \n",
              "0                            1.087144     W  \n",
              "1                           -2.009758     A  \n",
              "2                            0.060952     I  \n",
              "3                           -0.627999     E  \n",
              "4                            0.155681     A  "
            ],
            "text/html": [
              "\n",
              "  <div id=\"df-4b56caea-be74-461f-acf2-21fda1e4be93\">\n",
              "    <div class=\"colab-df-container\">\n",
              "      <div>\n",
              "<style scoped>\n",
              "    .dataframe tbody tr th:only-of-type {\n",
              "        vertical-align: middle;\n",
              "    }\n",
              "\n",
              "    .dataframe tbody tr th {\n",
              "        vertical-align: top;\n",
              "    }\n",
              "\n",
              "    .dataframe thead th {\n",
              "        text-align: right;\n",
              "    }\n",
              "</style>\n",
              "<table border=\"1\" class=\"dataframe\">\n",
              "  <thead>\n",
              "    <tr style=\"text-align: right;\">\n",
              "      <th></th>\n",
              "      <th>intercolumnar distance</th>\n",
              "      <th>upper margin</th>\n",
              "      <th>lower margin</th>\n",
              "      <th>exploitation</th>\n",
              "      <th>row number</th>\n",
              "      <th>modular ratio</th>\n",
              "      <th>interlinear spacing</th>\n",
              "      <th>weight</th>\n",
              "      <th>peak number</th>\n",
              "      <th>modular ratio/ interlinear spacing</th>\n",
              "      <th>Class</th>\n",
              "    </tr>\n",
              "  </thead>\n",
              "  <tbody>\n",
              "    <tr>\n",
              "      <th>0</th>\n",
              "      <td>-3.498799</td>\n",
              "      <td>0.250492</td>\n",
              "      <td>0.232070</td>\n",
              "      <td>1.224178</td>\n",
              "      <td>-4.922215</td>\n",
              "      <td>1.145386</td>\n",
              "      <td>0.182426</td>\n",
              "      <td>-0.165983</td>\n",
              "      <td>-0.123005</td>\n",
              "      <td>1.087144</td>\n",
              "      <td>W</td>\n",
              "    </tr>\n",
              "    <tr>\n",
              "      <th>1</th>\n",
              "      <td>0.204355</td>\n",
              "      <td>-0.354049</td>\n",
              "      <td>0.320980</td>\n",
              "      <td>0.410166</td>\n",
              "      <td>-0.989576</td>\n",
              "      <td>-2.218127</td>\n",
              "      <td>0.220177</td>\n",
              "      <td>0.181844</td>\n",
              "      <td>2.090879</td>\n",
              "      <td>-2.009758</td>\n",
              "      <td>A</td>\n",
              "    </tr>\n",
              "    <tr>\n",
              "      <th>2</th>\n",
              "      <td>0.759828</td>\n",
              "      <td>-1.304042</td>\n",
              "      <td>-0.023991</td>\n",
              "      <td>-0.973663</td>\n",
              "      <td>-0.006417</td>\n",
              "      <td>-0.349509</td>\n",
              "      <td>-0.421580</td>\n",
              "      <td>-0.450127</td>\n",
              "      <td>0.469443</td>\n",
              "      <td>0.060952</td>\n",
              "      <td>I</td>\n",
              "    </tr>\n",
              "    <tr>\n",
              "      <th>3</th>\n",
              "      <td>-0.005490</td>\n",
              "      <td>0.360409</td>\n",
              "      <td>0.281860</td>\n",
              "      <td>-0.213479</td>\n",
              "      <td>-1.168333</td>\n",
              "      <td>-1.013906</td>\n",
              "      <td>-0.346080</td>\n",
              "      <td>1.176165</td>\n",
              "      <td>0.968347</td>\n",
              "      <td>-0.627999</td>\n",
              "      <td>E</td>\n",
              "    </tr>\n",
              "    <tr>\n",
              "      <th>4</th>\n",
              "      <td>0.080916</td>\n",
              "      <td>0.101320</td>\n",
              "      <td>0.104040</td>\n",
              "      <td>0.140490</td>\n",
              "      <td>0.261718</td>\n",
              "      <td>0.480988</td>\n",
              "      <td>0.710932</td>\n",
              "      <td>-0.253430</td>\n",
              "      <td>-0.497183</td>\n",
              "      <td>0.155681</td>\n",
              "      <td>A</td>\n",
              "    </tr>\n",
              "  </tbody>\n",
              "</table>\n",
              "</div>\n",
              "      <button class=\"colab-df-convert\" onclick=\"convertToInteractive('df-4b56caea-be74-461f-acf2-21fda1e4be93')\"\n",
              "              title=\"Convert this dataframe to an interactive table.\"\n",
              "              style=\"display:none;\">\n",
              "        \n",
              "  <svg xmlns=\"http://www.w3.org/2000/svg\" height=\"24px\"viewBox=\"0 0 24 24\"\n",
              "       width=\"24px\">\n",
              "    <path d=\"M0 0h24v24H0V0z\" fill=\"none\"/>\n",
              "    <path d=\"M18.56 5.44l.94 2.06.94-2.06 2.06-.94-2.06-.94-.94-2.06-.94 2.06-2.06.94zm-11 1L8.5 8.5l.94-2.06 2.06-.94-2.06-.94L8.5 2.5l-.94 2.06-2.06.94zm10 10l.94 2.06.94-2.06 2.06-.94-2.06-.94-.94-2.06-.94 2.06-2.06.94z\"/><path d=\"M17.41 7.96l-1.37-1.37c-.4-.4-.92-.59-1.43-.59-.52 0-1.04.2-1.43.59L10.3 9.45l-7.72 7.72c-.78.78-.78 2.05 0 2.83L4 21.41c.39.39.9.59 1.41.59.51 0 1.02-.2 1.41-.59l7.78-7.78 2.81-2.81c.8-.78.8-2.07 0-2.86zM5.41 20L4 18.59l7.72-7.72 1.47 1.35L5.41 20z\"/>\n",
              "  </svg>\n",
              "      </button>\n",
              "      \n",
              "  <style>\n",
              "    .colab-df-container {\n",
              "      display:flex;\n",
              "      flex-wrap:wrap;\n",
              "      gap: 12px;\n",
              "    }\n",
              "\n",
              "    .colab-df-convert {\n",
              "      background-color: #E8F0FE;\n",
              "      border: none;\n",
              "      border-radius: 50%;\n",
              "      cursor: pointer;\n",
              "      display: none;\n",
              "      fill: #1967D2;\n",
              "      height: 32px;\n",
              "      padding: 0 0 0 0;\n",
              "      width: 32px;\n",
              "    }\n",
              "\n",
              "    .colab-df-convert:hover {\n",
              "      background-color: #E2EBFA;\n",
              "      box-shadow: 0px 1px 2px rgba(60, 64, 67, 0.3), 0px 1px 3px 1px rgba(60, 64, 67, 0.15);\n",
              "      fill: #174EA6;\n",
              "    }\n",
              "\n",
              "    [theme=dark] .colab-df-convert {\n",
              "      background-color: #3B4455;\n",
              "      fill: #D2E3FC;\n",
              "    }\n",
              "\n",
              "    [theme=dark] .colab-df-convert:hover {\n",
              "      background-color: #434B5C;\n",
              "      box-shadow: 0px 1px 3px 1px rgba(0, 0, 0, 0.15);\n",
              "      filter: drop-shadow(0px 1px 2px rgba(0, 0, 0, 0.3));\n",
              "      fill: #FFFFFF;\n",
              "    }\n",
              "  </style>\n",
              "\n",
              "      <script>\n",
              "        const buttonEl =\n",
              "          document.querySelector('#df-4b56caea-be74-461f-acf2-21fda1e4be93 button.colab-df-convert');\n",
              "        buttonEl.style.display =\n",
              "          google.colab.kernel.accessAllowed ? 'block' : 'none';\n",
              "\n",
              "        async function convertToInteractive(key) {\n",
              "          const element = document.querySelector('#df-4b56caea-be74-461f-acf2-21fda1e4be93');\n",
              "          const dataTable =\n",
              "            await google.colab.kernel.invokeFunction('convertToInteractive',\n",
              "                                                     [key], {});\n",
              "          if (!dataTable) return;\n",
              "\n",
              "          const docLinkHtml = 'Like what you see? Visit the ' +\n",
              "            '<a target=\"_blank\" href=https://colab.research.google.com/notebooks/data_table.ipynb>data table notebook</a>'\n",
              "            + ' to learn more about interactive tables.';\n",
              "          element.innerHTML = '';\n",
              "          dataTable['output_type'] = 'display_data';\n",
              "          await google.colab.output.renderOutput(dataTable, element);\n",
              "          const docLink = document.createElement('div');\n",
              "          docLink.innerHTML = docLinkHtml;\n",
              "          element.appendChild(docLink);\n",
              "        }\n",
              "      </script>\n",
              "    </div>\n",
              "  </div>\n",
              "  "
            ]
          },
          "metadata": {},
          "execution_count": 4
        }
      ],
      "source": [
        "path_dataset_test = \"/content/drive/MyDrive/Disciplinas/2022.2/AM-GRAD 2022-2/Projeto AM 2022-2/data/avila-ts.txt\"\n",
        "\n",
        "avila_test = pd.read_csv(path_dataset_test, sep=\",\",header=None,names=labels)\n",
        "avila_test.head()"
      ]
    },
    {
      "cell_type": "markdown",
      "metadata": {
        "id": "DFwG0Pdakmjb"
      },
      "source": [
        "## Setando a seed do gerador de números aleatórios"
      ]
    },
    {
      "cell_type": "markdown",
      "metadata": {
        "id": "iodT6x0WLXDZ"
      },
      "source": [
        "Dessa forma os resultados obtidos pelo modelo não serão diferentes para diferentes sessões"
      ]
    },
    {
      "cell_type": "code",
      "execution_count": 5,
      "metadata": {
        "id": "L-E1tBnHkM6y"
      },
      "outputs": [],
      "source": [
        "SEED = 32642\n",
        "np.random.seed(SEED)"
      ]
    },
    {
      "cell_type": "markdown",
      "metadata": {
        "id": "_MaHZWQIpHpc"
      },
      "source": [
        "## Dividindo dataset de treinamento e teste em: features e classes"
      ]
    },
    {
      "cell_type": "code",
      "execution_count": 6,
      "metadata": {
        "colab": {
          "base_uri": "https://localhost:8080/"
        },
        "id": "29r6Ue9d5m2_",
        "outputId": "fb9f06c1-cca8-41dc-d79a-2229320604e0"
      },
      "outputs": [
        {
          "output_type": "stream",
          "name": "stdout",
          "text": [
            "Dataset de treinamento\n",
            "Tamanho do dataset de features =  (10430, 10)\n",
            "Tamanho do dataset de classes =  (10430,)\n"
          ]
        }
      ],
      "source": [
        "# Features de treinamento\n",
        "X_train = avila_train.drop(['Class'], axis = 1)\n",
        "\n",
        "# Classes de treinamento\n",
        "y_train = avila_train['Class']\n",
        "\n",
        "print(\"Dataset de treinamento\")\n",
        "print(\"Tamanho do dataset de features = \", X_train.shape)\n",
        "print(\"Tamanho do dataset de classes = \", y_train.shape)"
      ]
    },
    {
      "cell_type": "code",
      "execution_count": 7,
      "metadata": {
        "colab": {
          "base_uri": "https://localhost:8080/"
        },
        "id": "MQNq59zoNKrU",
        "outputId": "03ab1334-55b8-4b53-c419-04b0c53bcbcb"
      },
      "outputs": [
        {
          "output_type": "stream",
          "name": "stdout",
          "text": [
            "Dataset de teste\n",
            "Tamanho do dataset de features =  (10437, 10)\n",
            "Tamanho do dataset de classes =  (10437,)\n"
          ]
        }
      ],
      "source": [
        "# Features de teste\n",
        "X_test = avila_test.drop(['Class'], axis = 1)\n",
        "\n",
        "# Classes de teste\n",
        "y_test = avila_test['Class']\n",
        "\n",
        "print(\"Dataset de teste\")\n",
        "print(\"Tamanho do dataset de features = \", X_test.shape)\n",
        "print(\"Tamanho do dataset de classes = \", y_test.shape)"
      ]
    },
    {
      "cell_type": "markdown",
      "metadata": {
        "id": "JMQuMpbCiw7n"
      },
      "source": [
        "## Modelo padrão de árvore de decisão"
      ]
    },
    {
      "cell_type": "markdown",
      "source": [
        "Treinaremos o modelo usando o parâmetro de random_state com o valor da SEED.\n",
        "\n",
        "Após isso, obteremos os resultados preditos do treinamento usando o dataset de teste."
      ],
      "metadata": {
        "id": "KAcLHD-2j5_s"
      }
    },
    {
      "cell_type": "code",
      "execution_count": 8,
      "metadata": {
        "colab": {
          "base_uri": "https://localhost:8080/"
        },
        "id": "AogVDXK3r8Ok",
        "outputId": "9c945524-7413-4dd0-9573-b936ffb6f283"
      },
      "outputs": [
        {
          "output_type": "execute_result",
          "data": {
            "text/plain": [
              "array(['W', 'A', 'A', ..., 'A', 'F', 'H'], dtype=object)"
            ]
          },
          "metadata": {},
          "execution_count": 8
        }
      ],
      "source": [
        "dtc = DecisionTreeClassifier(random_state = SEED)\n",
        "dtc.fit(X_train, y_train)\n",
        "\n",
        "predicted = dtc.predict(X_test)\n",
        "predicted"
      ]
    },
    {
      "cell_type": "markdown",
      "source": [
        "Obtivemos nosso array de predições, agora, vamos analisar quantos desses resultados nosso modelo acertou."
      ],
      "metadata": {
        "id": "osVfJK9Kj1Jg"
      }
    },
    {
      "cell_type": "markdown",
      "metadata": {
        "id": "979BvB1ucKc7"
      },
      "source": [
        "### Análises"
      ]
    },
    {
      "cell_type": "markdown",
      "metadata": {
        "id": "qaeTklwXcSB7"
      },
      "source": [
        "#### Resultados numéricos:"
      ]
    },
    {
      "cell_type": "markdown",
      "metadata": {
        "id": "nbqfiYKIua6U"
      },
      "source": [
        "- Para cada classe:\n",
        "  - Precisão\n",
        "  - Recall\n",
        "  - F1 Score\n",
        "- Acurácia\n",
        "- Médias macro e weighted:\n",
        "  - Precisão\n",
        "  - Recall\n",
        "  - F1 Score"
      ]
    },
    {
      "cell_type": "markdown",
      "source": [
        "Com o classification_report, comparamos o array de elementos preditos com o array dos elementos reais do dataset de teste."
      ],
      "metadata": {
        "id": "rrOC4HYcnqF-"
      }
    },
    {
      "cell_type": "code",
      "execution_count": 9,
      "metadata": {
        "colab": {
          "base_uri": "https://localhost:8080/"
        },
        "id": "l0mC1t8EtUgD",
        "outputId": "d8b78e38-0b4c-4188-e9d0-e27dd49ab0f5"
      },
      "outputs": [
        {
          "output_type": "stream",
          "name": "stdout",
          "text": [
            "Classification report: \n",
            "              precision    recall  f1-score   support\n",
            "\n",
            "           A     0.9809    0.9800    0.9804      4290\n",
            "           B     1.0000    1.0000    1.0000         5\n",
            "           C     0.9806    0.9528    0.9665       106\n",
            "           D     0.9717    0.9608    0.9662       357\n",
            "           E     0.9443    0.9478    0.9460      1091\n",
            "           F     0.9745    0.9795    0.9770      1952\n",
            "           G     0.9620    0.9685    0.9652       444\n",
            "           H     0.9635    0.9364    0.9498       535\n",
            "           I     0.9832    0.9855    0.9844       830\n",
            "           W     0.9556    0.8431    0.8958        51\n",
            "           X     0.9176    0.9283    0.9229       516\n",
            "           Y     0.9288    0.9538    0.9412       260\n",
            "\n",
            "    accuracy                         0.9694     10437\n",
            "   macro avg     0.9635    0.9530    0.9580     10437\n",
            "weighted avg     0.9695    0.9694    0.9694     10437\n",
            "\n"
          ]
        }
      ],
      "source": [
        "cr = classification_report(predicted, y_test, digits=4)\n",
        "\n",
        "print(f'Classification report: \\n{cr}')"
      ]
    },
    {
      "cell_type": "markdown",
      "source": [
        "Resultados para cada classe:\n",
        "- Percebemos uma boa média geral nos valores do Precision Score, com todas acima de 0.9, ressaltando o resultado perfeito para a classe \"B\", que por possuir somente 5 instâncias tanto no dataset de treino quanto no dataset de teste, acabou garantindo esse resultado.\n",
        "- Para os resultados de Recall Score e F1-Score, os resultados foram semelhantes aos do Precision Score, exceto para a classe \"W\" que obteve resultados abaixo de 0.9 para o Recall e F1-Score, provavelmente, por uma alta quantidade de Falsos Negativos no cálculo.\n",
        "\n",
        "Resultados gerais:\n",
        "- Obtivemos uma acurácia satisfatória de ~0.97.\n",
        "- Também obtivemos médias macro satisfatórias de Precision = ~0.96, Recall = ~0.95 e F1-Score = ~0.96."
      ],
      "metadata": {
        "id": "46urKShBn86-"
      }
    },
    {
      "cell_type": "markdown",
      "metadata": {
        "id": "n2UlS5D1f90V"
      },
      "source": [
        "#### Matriz de confusão"
      ]
    },
    {
      "cell_type": "code",
      "execution_count": 10,
      "metadata": {
        "colab": {
          "base_uri": "https://localhost:8080/",
          "height": 446
        },
        "id": "UyQZ35cnenvb",
        "outputId": "5f554d8c-7e4d-4539-876e-60ace2199bbc"
      },
      "outputs": [
        {
          "output_type": "display_data",
          "data": {
            "text/plain": [
              "<Figure size 720x504 with 2 Axes>"
            ],
            "image/png": "[encoded data removed]"
          },
          "metadata": {
            "needs_background": "light"
          }
        }
      ],
      "source": [
        "cm = confusion_matrix(y_test, predicted, labels=classes, normalize='true')\n",
        "disp = ConfusionMatrixDisplay(confusion_matrix=cm,\n",
        "                              display_labels=classes)\n",
        "\n",
        "fig, ax = plt.subplots(figsize=(10, 7))\n",
        "disp.plot(ax=ax)\n",
        "\n",
        "plt.show()"
      ]
    },
    {
      "cell_type": "markdown",
      "source": [
        "Podemos perceber que houve um desempenho relativamente pior em distinguir as classes E, W, X e Y."
      ],
      "metadata": {
        "id": "P84w7FhGuCYo"
      }
    },
    {
      "cell_type": "markdown",
      "metadata": {
        "id": "wtGU6IhcH_TE"
      },
      "source": [
        "## Otimização do modelo usando GridSearchCV\n"
      ]
    },
    {
      "cell_type": "markdown",
      "metadata": {
        "id": "lVqrnNWwLr1s"
      },
      "source": [
        "Código de referência: https://scikit-learn.org/stable/modules/generated/sklearn.model_selection.GridSearchCV.html"
      ]
    },
    {
      "cell_type": "markdown",
      "source": [
        "Parâmetros que atualizaremos no GridSearchCV para o DecisionTreeClassifier:\n",
        "- criterion: função que mede a qualidade do split dos nós.\n",
        "  - gini: para a Gini impurity;\n",
        "  - log_loss e entropy: ambos para o ganho de informação Shannon.\n",
        "- splitter: estratégia usada para separar cada nó.\n",
        "  - best: escolhe o melhor split;\n",
        "  - random: escolhe o melhor split aleatório.\n",
        "- max_depth: profundidade máxima da árvore.\n",
        "- max_leaf_nodes: quantidade máxima de folhas.\n",
        "  - None: ilimitado.\n",
        "- ccp_alpha: custo de complexidade que permite realizar um método de poda da árvore, o Minimal Cost-Complexity Pruning (post prunning). A sub-árvore com o maior custo de complexidade que é menor que ccp_alpha será escolhida.\n",
        "  - 0.0: sem poda.\n",
        "- random_state: controla a aleatoriedade do estimador.\n",
        "  - Usaremos a nossa Seed setada previamente.\n",
        "\n",
        "O GridSearchCV também possui integrado um Cross-Validation, através do parâmetro cv.\n",
        "- Usaremos 5 folds para o Cross-Validation do modelo, assim permitindo com que pelo menos um elemento da classe B fique em cada fold."
      ],
      "metadata": {
        "id": "_TBL5jORlYkk"
      }
    },
    {
      "cell_type": "code",
      "execution_count": 11,
      "metadata": {
        "id": "FCr4GXtYIExB"
      },
      "outputs": [],
      "source": [
        "dtc = DecisionTreeClassifier()\n",
        "\n",
        "params = {'criterion':['gini', 'entropy', 'log_loss'], \n",
        "          'splitter':['best','random'],\n",
        "          'max_depth':[None, 2, 5, 10, 15, 20],\n",
        "          'ccp_alpha':[0.0, 0.0000001, 0.00001, 0.001, 0.01, 0.1, 0.5, 0.75],\n",
        "          'random_state': [SEED]}\n",
        "\n",
        "gs_dtc = GridSearchCV(dtc, params, cv=5, refit=True)"
      ]
    },
    {
      "cell_type": "markdown",
      "source": [
        "Agora, vamos treinar o modelo com o GridSearchCV e após isso pegar os melhores parâmetros."
      ],
      "metadata": {
        "id": "Bp3IQ2No5XxL"
      }
    },
    {
      "cell_type": "code",
      "execution_count": 12,
      "metadata": {
        "colab": {
          "base_uri": "https://localhost:8080/"
        },
        "id": "ptjNr_DcPQXS",
        "outputId": "e0c17c78-f796-4198-f26c-98b491ea6f97"
      },
      "outputs": [
        {
          "output_type": "execute_result",
          "data": {
            "text/plain": [
              "{'ccp_alpha': 0.0,\n",
              " 'criterion': 'entropy',\n",
              " 'max_depth': None,\n",
              " 'random_state': 32642,\n",
              " 'splitter': 'best'}"
            ]
          },
          "metadata": {},
          "execution_count": 12
        }
      ],
      "source": [
        "gs_dtc.fit(X_train, y_train)\n",
        "gs_dtc.best_params_"
      ]
    },
    {
      "cell_type": "markdown",
      "source": [
        "Agora, vamos treinar um novo modelo de árvore de decisão utilizando os melhores parâmetros obtidos com o GridSearchCV."
      ],
      "metadata": {
        "id": "VCgmzk4P5m__"
      }
    },
    {
      "cell_type": "code",
      "execution_count": 13,
      "metadata": {
        "colab": {
          "base_uri": "https://localhost:8080/"
        },
        "id": "XTDf_t09RPpy",
        "outputId": "35748fa4-db1f-41f8-e6b4-f3c1e29418fa"
      },
      "outputs": [
        {
          "output_type": "execute_result",
          "data": {
            "text/plain": [
              "array(['W', 'A', 'I', ..., 'A', 'F', 'H'], dtype=object)"
            ]
          },
          "metadata": {},
          "execution_count": 13
        }
      ],
      "source": [
        "best_dtc = DecisionTreeClassifier()\n",
        "best_dtc.set_params(**gs_dtc.best_params_)\n",
        "best_dtc.fit(X_train, y_train)\n",
        "\n",
        "best_predicted = best_dtc.predict(X_test)\n",
        "best_predicted"
      ]
    },
    {
      "cell_type": "markdown",
      "source": [
        "Agora, com o array dos resultados preditos com as features de teste para o melhor modelo do GridSearchCV, vamos comparar com os resultados esperados do dataset de teste."
      ],
      "metadata": {
        "id": "g03wRi9d6x-z"
      }
    },
    {
      "cell_type": "markdown",
      "metadata": {
        "id": "CeUE658KSjaK"
      },
      "source": [
        "### Análises do melhor modelo do GridSearchCV"
      ]
    },
    {
      "cell_type": "markdown",
      "metadata": {
        "id": "euTv_mZeSjaL"
      },
      "source": [
        "#### Resultados numéricos:"
      ]
    },
    {
      "cell_type": "markdown",
      "metadata": {
        "id": "dhMQhHcbSjaM"
      },
      "source": [
        "- Para cada classe:\n",
        "  - Precisão\n",
        "  - Recall\n",
        "  - F1 Score\n",
        "- Acurácia\n",
        "- Médias macro e weighted:\n",
        "  - Precisão\n",
        "  - Recall\n",
        "  - F1 Score"
      ]
    },
    {
      "cell_type": "code",
      "execution_count": 14,
      "metadata": {
        "colab": {
          "base_uri": "https://localhost:8080/"
        },
        "id": "LyV0rkKJSjaM",
        "outputId": "074343fa-e0e9-4704-8d26-bfb80e2594be"
      },
      "outputs": [
        {
          "output_type": "stream",
          "name": "stdout",
          "text": [
            "Classification report: \n",
            "              precision    recall  f1-score   support\n",
            "\n",
            "           A     0.9944    0.9949    0.9946      4284\n",
            "           B     1.0000    1.0000    1.0000         5\n",
            "           C     0.9806    0.9712    0.9758       104\n",
            "           D     0.9688    0.9942    0.9813       344\n",
            "           E     0.9781    0.9649    0.9714      1110\n",
            "           F     0.9975    0.9924    0.9949      1972\n",
            "           G     0.9508    0.9907    0.9703       429\n",
            "           H     0.9788    0.9770    0.9779       521\n",
            "           I     0.9988    1.0000    0.9994       831\n",
            "           W     1.0000    0.9574    0.9783        47\n",
            "           X     0.9579    0.9470    0.9524       528\n",
            "           Y     0.9700    0.9885    0.9792       262\n",
            "\n",
            "    accuracy                         0.9875     10437\n",
            "   macro avg     0.9813    0.9815    0.9813     10437\n",
            "weighted avg     0.9876    0.9875    0.9875     10437\n",
            "\n"
          ]
        }
      ],
      "source": [
        "cr = classification_report(best_predicted, y_test, digits=4)\n",
        "\n",
        "print(f'Classification report: \\n{cr}')"
      ]
    },
    {
      "cell_type": "markdown",
      "source": [
        "Comparando resultados dos modelos Pré e Pós GridSearchCV.\n",
        "\n",
        "---\n",
        "\n",
        "Resultados para cada classe:\n",
        "- Houve uma melhora satisfatória nos resultados de ambos Precision, Recall e F1-Score.\n",
        "- A classe I no modelo otimizado pelo gridsearch acabou com 100% de acerto no teste para o Recall.\n",
        "- A classe W que no modelo pré-gridsearch tinha resultados abaixo de 0.9 para o Recall e F1-Score, agora possui em todos os scores resultados acima de 0.9. E com a ressalva de que conseguiu 100% de acerto no teste para o Precision Score.\n",
        "- A classe X agora ocupa o papel da classe com os menores scores, ainda que acima de 0.9.\n",
        "\n",
        "Resultados gerais:\n",
        "- Obtivemos uma melhora de ~0.97 para ~0.99 na acurácia.\n",
        "- Os resultados para as médias macro também obtiveram uma melhora de:\n",
        "  - Precision = ~0.96 para ~0.98;\n",
        "  - Recall = ~0.95 para ~0.98;\n",
        "  - F1-Score = ~0.96 para ~0.98."
      ],
      "metadata": {
        "id": "o3JEtqJl80Dv"
      }
    },
    {
      "cell_type": "markdown",
      "metadata": {
        "id": "ys0fe9QXSjaN"
      },
      "source": [
        "#### Matriz de confusão"
      ]
    },
    {
      "cell_type": "code",
      "execution_count": 15,
      "metadata": {
        "colab": {
          "base_uri": "https://localhost:8080/",
          "height": 446
        },
        "id": "Ng2DfAhDSjaO",
        "outputId": "869350c4-c69f-49e1-b4cc-e0c4c5d987bd"
      },
      "outputs": [
        {
          "output_type": "display_data",
          "data": {
            "text/plain": [
              "<Figure size 720x504 with 2 Axes>"
            ],
            "image/png": "[encoded data removed]"
          },
          "metadata": {
            "needs_background": "light"
          }
        }
      ],
      "source": [
        "cm = confusion_matrix(y_test, best_predicted, labels=classes, normalize='true')\n",
        "disp = ConfusionMatrixDisplay(confusion_matrix=cm,\n",
        "                              display_labels=classes)\n",
        "\n",
        "fig, ax = plt.subplots(figsize=(10, 7))\n",
        "disp.plot(ax=ax)\n",
        "\n",
        "plt.show()"
      ]
    },
    {
      "cell_type": "markdown",
      "source": [
        "Podemos perceber visualmente a melhora geral na distinção das classes."
      ],
      "metadata": {
        "id": "gmGmxNhlBQpt"
      }
    }
  ]
}
